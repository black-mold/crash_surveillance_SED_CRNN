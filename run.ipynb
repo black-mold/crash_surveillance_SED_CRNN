{
 "cells": [
  {
   "cell_type": "markdown",
   "metadata": {},
   "source": [
    "### 참고\n",
    "* https://tutorials.pytorch.kr/intermediate/tensorboard_tutorial.html \n",
    "    * 텐서보드 튜토리얼\n",
    "* https://tutorials.pytorch.kr/beginner/basics/quickstart_tutorial.html\n",
    "    * 파이토치 빠른 시작\n",
    "* https://tutorials.pytorch.kr/recipes/recipes/saving_and_loading_a_general_checkpoint.html\n",
    "    * 체크포인트 저장\n",
    "* https://tutorials.pytorch.kr/beginner/saving_loading_models.html\n",
    "    * 모델 저장하기, 불러오기"
   ]
  },
  {
   "cell_type": "code",
   "execution_count": 7,
   "metadata": {},
   "outputs": [],
   "source": [
    "import argparse\n",
    "import yaml\n",
    "import torch\n",
    "import time\n",
    "\n",
    "from torch.utils.tensorboard import SummaryWriter\n",
    "from torch import nn\n",
    "\n",
    "from utils.dataset import *\n",
    "from utils.encoder import *\n",
    "from nnet.CRNN import *\n",
    "from utils.util import *\n",
    "\n",
    "# from nnet.CRNN import CRNN"
   ]
  },
  {
   "cell_type": "markdown",
   "metadata": {},
   "source": [
    "### 1. Argument 설정"
   ]
  },
  {
   "cell_type": "code",
   "execution_count": 8,
   "metadata": {},
   "outputs": [],
   "source": [
    "parser = argparse.ArgumentParser()\n",
    "\n",
    "parser.add_argument(\n",
    "    \"-d\", \"--data\", \n",
    "    default=\"MIVIA\", \n",
    "    action=\"store\",\n",
    "    help=\"The dataset using training\")\n",
    "\n",
    "parser.add_argument(\n",
    "    \"-c\", \"--conf_file\",\n",
    "    default=\"./config/default.yaml\", \n",
    "    help=\"The configuration file with all the experiment parameters.\",\n",
    "    )\n",
    "\n",
    "parser.add_argument(\n",
    "    \"-m\", \"--mode\",\n",
    "    default=\"train\", \n",
    "    help=\"train or test\",\n",
    "    )\n",
    "\n",
    "parser.add_argument(\n",
    "    \"--gpu\",\n",
    "    default=\"0\",\n",
    "    type = int,\n",
    "    help=\"The number of GPUs to train on, or the gpu to use, default='0', \"\n",
    "    \"so uses one GPU\",\n",
    ")\n",
    "\n",
    "parser.add_argument(\n",
    "    \"--test_from_checkpoint\", default=None, help=\"Test the model specified\"\n",
    ")\n",
    "\n",
    "# args = parser.parse_args()\n",
    "args = parser.parse_args([\"--data\", \"MIVIA\", \"--conf_file\", \"./config/default.yml\", \"-m\" \"train\"])\n"
   ]
  },
  {
   "cell_type": "code",
   "execution_count": 9,
   "metadata": {},
   "outputs": [],
   "source": [
    "with open(args.conf_file, \"r\") as f:\n",
    "    conf = yaml.safe_load(f)"
   ]
  },
  {
   "cell_type": "markdown",
   "metadata": {},
   "source": [
    "### 2. data configuration"
   ]
  },
  {
   "cell_type": "code",
   "execution_count": 10,
   "metadata": {},
   "outputs": [],
   "source": [
    "encoder = multi_label_encoder(\n",
    "    fs = conf['feats']['sample_rate'], \n",
    "    audio_len = conf['feats']['audio_len'], \n",
    "    n_fft = conf['feats']['n_fft'], \n",
    "    hop_length = conf['feats']['hop_length'], \n",
    "    net_pooling = conf['feats']['net_pooling']\n",
    "    )\n",
    "\n",
    "training_data = mivia(\n",
    "    conf['data']['audio_folder'], \n",
    "    encoder = encoder,\n",
    "    transform = MelSpectrogram_transform(conf['feats']),\n",
    "    target_transform= None, \n",
    "    partition = conf['data']['select_traindata'], \n",
    "    pad_to = conf['feats']['audio_len'],\n",
    "    fs = conf['feats']['sample_rate']\n",
    "    )\n",
    "\n",
    "test_data = mivia(\n",
    "    conf['data']['audio_folder'], \n",
    "    encoder = encoder,\n",
    "    transform = MelSpectrogram_transform(conf['feats']),\n",
    "    target_transform= None, \n",
    "    partition = conf['data']['select_testdata'], \n",
    "    pad_to = conf['feats']['audio_len'],\n",
    "    fs = conf['feats']['sample_rate']\n",
    "    )\n",
    "\n",
    "validation_data = mivia(\n",
    "    conf['data']['audio_folder'], \n",
    "    encoder = encoder,\n",
    "    transform = MelSpectrogram_transform(conf['feats']),\n",
    "    target_transform= None, \n",
    "    partition = conf['data']['select_valdata'], \n",
    "    pad_to = conf['feats']['audio_len'],\n",
    "    fs = conf['feats']['sample_rate']\n",
    "    )\n",
    "# test_data = mivia(conf['data']['audio_folder'], conf['data']['xml_folder'], encoder, partition = conf['data']['select_testdata'], transform = MelSpectrogram_transform(conf['feats']))"
   ]
  },
  {
   "cell_type": "code",
   "execution_count": 11,
   "metadata": {},
   "outputs": [
    {
     "name": "stdout",
     "output_type": "stream",
     "text": [
      "MelSpectrogram(\n",
      "  (spectrogram): Spectrogram()\n",
      "  (mel_scale): MelScale()\n",
      ")\n"
     ]
    }
   ],
   "source": [
    "print(MelSpectrogram_transform(conf['feats']))"
   ]
  },
  {
   "cell_type": "markdown",
   "metadata": {},
   "source": [
    "### 3. device, hyperparameter, tensorboard configuration "
   ]
  },
  {
   "cell_type": "code",
   "execution_count": 12,
   "metadata": {},
   "outputs": [],
   "source": [
    "device = \"cuda\" if torch.cuda.is_available() else \"cpu\"\n",
    "\n",
    "# train, validation configuration\n",
    "learning_rate = conf['opt']['lr'] # 1e-3\n",
    "batch_size = conf['training']['batch_size']\n",
    "epochs = conf['training']['n_epochs']\n",
    "ckpt_dir = conf['training']['ckpt_path']\n",
    "log_dir = conf['training']['log_path']\n",
    "\n",
    "# save path(model) make\n",
    "ckpt_dir = os.path.join(ckpt_dir, args.data + time.strftime('_%Y_%m_%d_%I_%M',time.localtime(time.time()))) # './checkpoint\\\\MIVIA_2022_07_26_11_26'\n",
    "if not os.path.exists(ckpt_dir):\n",
    "    os.makedirs(ckpt_dir)\n",
    "\n",
    "# log path(tensorboard) make\n",
    "if args.test_from_checkpoint is not None: # test tensorboard directory configuration\n",
    "    log_dir = os.path.join(log_dir, os.path.basename(ckpt_dir), args.mode) # tensorboard directory\n",
    "else: # training / validation tensorboard directory\n",
    "    log_dir = os.path.join(log_dir, args.data + time.strftime('_%Y_%m_%d_%I_%M',time.localtime(time.time())), args.mode) # ./runs\\MIVIA_2022_07_26_11_46\\train\n",
    "\n",
    "writer = SummaryWriter(log_dir = log_dir)"
   ]
  },
  {
   "cell_type": "code",
   "execution_count": 13,
   "metadata": {},
   "outputs": [
    {
     "name": "stdout",
     "output_type": "stream",
     "text": [
      "./checkpoint\\MIVIA_2022_08_17_11_31\n"
     ]
    }
   ],
   "source": [
    "print(ckpt_dir)"
   ]
  },
  {
   "cell_type": "code",
   "execution_count": 14,
   "metadata": {},
   "outputs": [],
   "source": [
    "train_dataloader = DataLoader(training_data, batch_size, shuffle=True)       # C, D\n",
    "validation_dataloader = DataLoader(validation_data, batch_size, shuffle = True) # B\n",
    "test_dataloader = DataLoader(test_data, 1, shuffle = False)             # A"
   ]
  },
  {
   "cell_type": "code",
   "execution_count": 15,
   "metadata": {},
   "outputs": [
    {
     "name": "stdout",
     "output_type": "stream",
     "text": [
      "15\n",
      "29\n",
      "7\n",
      "14\n",
      "14\n",
      "14\n"
     ]
    }
   ],
   "source": [
    "print(len(train_dataloader))\n",
    "print(len(train_dataloader.dataset))\n",
    "print(len(validation_dataloader)) # batch size 수\n",
    "print(len(validation_dataloader.dataset)) # 전체 sample 갯수\n",
    "print(len(test_dataloader))\n",
    "print(len(test_dataloader.dataset))"
   ]
  },
  {
   "cell_type": "markdown",
   "metadata": {},
   "source": [
    "### 4. model, loss function, optimizer 정의"
   ]
  },
  {
   "cell_type": "code",
   "execution_count": 16,
   "metadata": {},
   "outputs": [],
   "source": [
    "model = CRNN().to(device)\n",
    "loss_fn = nn.BCELoss()\n",
    "optimizer = torch.optim.Adam(model.parameters(), lr=learning_rate)"
   ]
  },
  {
   "cell_type": "markdown",
   "metadata": {},
   "source": [
    "### 5. train 정의"
   ]
  },
  {
   "cell_type": "code",
   "execution_count": 17,
   "metadata": {},
   "outputs": [],
   "source": [
    "########################################################################################################################\n",
    "#                                                         Train                                                        #\n",
    "########################################################################################################################\n",
    "def train(dataloader, model, loss_fn, optimizer, epoch):\n",
    "    size = len(dataloader.dataset)  # 전체 training data의 size\n",
    "    num_batches = len(dataloader)   # number of batch\n",
    "\n",
    "    ## 테스트 더 할라면 여기다가 load 추가, if문이 좋음.\n",
    "\n",
    "    model.train()\n",
    "\n",
    "    running_loss = 0.0\n",
    "    \n",
    "    for batch_idx, (X, y) in enumerate(dataloader, 0): \n",
    "        X, y = X.to(device), y.to(device)\n",
    "\n",
    "        # 예측 오류 계산\n",
    "        pred = model(X[:,:,:3750]) # [batch, frame, class]\n",
    "        loss = loss_fn(pred, y)  \n",
    "\n",
    "        # 역전파\n",
    "        optimizer.zero_grad()\n",
    "        loss.backward()\n",
    "        optimizer.step()\n",
    "\n",
    "        # loss 기록\n",
    "        running_loss += loss.item()\n",
    "\n",
    "        print(\"Train : EPOCH %04d / %04d  | BATCH %04d | LOSS %.4f\" %\n",
    "              (epoch, conf['training']['n_epochs'], batch_idx, running_loss/(batch_idx+1)))\n",
    "\n",
    "    running_loss = running_loss/num_batches #\n",
    "\n",
    "    return running_loss\n",
    "\n"
   ]
  },
  {
   "cell_type": "markdown",
   "metadata": {},
   "source": [
    "### 6. Validation\n",
    "* 4가지 임시로 추가함"
   ]
  },
  {
   "cell_type": "code",
   "execution_count": 18,
   "metadata": {},
   "outputs": [],
   "source": [
    "# 임시로 추가\n",
    "def F1_score(mod, TF, t_test):\n",
    "\n",
    "        TP = ((mod*TF) != 0).sum()\n",
    "        TN = (( (torch.logical_not(mod.type(torch.bool)))*TF) != 0).sum()\n",
    "        FP = ((mod*(torch.logical_not(TF.type(torch.bool)))) != 0).sum()\n",
    "        FN = (((torch.logical_not(mod.type(torch.bool)))*(torch.logical_not(TF.type(torch.bool)))) != 0).sum()\n",
    "        \n",
    "        # G_noCC = torch.logical_not(mod[:,0].type(torch.bool))\n",
    "        # G_noTS = torch.logical_not(mod[:,1].type(torch.bool))\n",
    "        # T11 = ((mod[:,0]*t_test[:,0]) != 0).sum()\n",
    "        # T12 = (((mod[:,1]*G_noCC)*t_test[:,0]) != 0).sum()\n",
    "        # T13 = (((G_noCC*G_noTS)*t_test[:,0]) != 0 ).sum()\n",
    "        # T21 = (((mod[:,0]*G_noTS)*t_test[:,1]) != 0).sum()\n",
    "        # T22 = ((mod[:,1]*t_test[:,1]) != 0).sum()\n",
    "        # T23 = (((G_noCC*G_noTS)*t_test[:,1]) != 0).sum()\n",
    "        # T = [[T11,T12,T13],[T21,T22,T23]]\n",
    "\n",
    "        P = torch.true_divide(TP,TP+FP + 0.00001)\n",
    "        R = torch.true_divide(TP,TP+FN + 0.00001)\n",
    "        F1 = torch.true_divide(2*P*R , P+R + 0.00001).item()\n",
    "        # ER = torch.true_divide(FP+FN,TP+FN).item()\n",
    "        # FPR = torch.true_divide(FP, FP+TN).item()\n",
    "        # #pdb.set_trace()\n",
    "        # acc = torch.true_divide(TP+TN , FP+FN+TP+TN).item()\n",
    "        \n",
    "        # Total = sum(sum(T, []))\n",
    "        # RecRate = (T[0][0]+T[1][1]).item()/ Total.item()\n",
    "        # MissRate = (T[0][2] + T[1][2]).item()/Total.item()\n",
    "        # ErrorRate = (T[0][1] + T[1][0]).item()/Total.item()\n",
    "\n",
    "        return F1"
   ]
  },
  {
   "cell_type": "code",
   "execution_count": 27,
   "metadata": {},
   "outputs": [],
   "source": [
    "########################################################################################################################\n",
    "#                                                      VALIDATION                                                      #\n",
    "########################################################################################################################\n",
    "\n",
    "def validation(dataloader, model, loss_fn):\n",
    "    size = len(dataloader.dataset)\n",
    "    num_batches = len(dataloader)\n",
    "\n",
    "    model.eval()\n",
    "    validation_loss, correct = 0, 0\n",
    "\n",
    "    score = 0.0 #임시로 추가 1\n",
    "\n",
    "    with torch.no_grad():\n",
    "        for X, y in dataloader:\n",
    "            X, y = X.to(device), y.to(device)\n",
    "            pred = model(X[:,:,:3750])\n",
    "            validation_loss += loss_fn(pred, y).item()\n",
    "            correct = 0\n",
    "            # correct += (pred.argmax(1) == y).type(torch.float).sum().item()\n",
    "\n",
    "            ### 임시로 추가 2\n",
    "\n",
    "            mod_binary = torch.ge(pred, 0.4)\n",
    "            label_binary = torch.ge(y, 0.4)\n",
    "            is_correct = torch.eq(mod_binary, label_binary)\n",
    "\n",
    "            score += F1_score(mod_binary,is_correct,y)\n",
    "\n",
    "            ### 임시로 추가 \n",
    "\n",
    "    validation_loss /= num_batches\n",
    "    correct /= size\n",
    "\n",
    "    score /= num_batches # 임시로 추가 3\n",
    "\n",
    "    print(f\"Validation Error: \\n Accuracy: {(100*correct):>0.1f}%, Avg loss: {validation_loss:>8f}, f1: {score} \\n\")\n",
    "\n",
    "    return validation_loss, score\n",
    "\n",
    "\n",
    "    # # 임시로 추가 4\n",
    "    # writer.add_scalar('f1', score, epoch)\n",
    "    # #임시로 추가\n",
    "\n",
    "    # print(f\"Validation Error: \\n Accuracy: {(100*correct):>0.1f}%, Avg loss: {validation_loss:>8f}, f1: {score} \\n\")"
   ]
  },
  {
   "cell_type": "markdown",
   "metadata": {},
   "source": [
    "### 7. train & validation 실행"
   ]
  },
  {
   "cell_type": "code",
   "execution_count": 28,
   "metadata": {},
   "outputs": [
    {
     "name": "stdout",
     "output_type": "stream",
     "text": [
      "Epoch 1\n",
      "-------------------------------\n",
      "Train : EPOCH 0001 / 0300  | BATCH 0000 | LOSS 0.3564\n",
      "Train : EPOCH 0001 / 0300  | BATCH 0001 | LOSS 0.3573\n",
      "Train : EPOCH 0001 / 0300  | BATCH 0002 | LOSS 0.3555\n",
      "Train : EPOCH 0001 / 0300  | BATCH 0003 | LOSS 0.3559\n",
      "Train : EPOCH 0001 / 0300  | BATCH 0004 | LOSS 0.3567\n",
      "Train : EPOCH 0001 / 0300  | BATCH 0005 | LOSS 0.3541\n",
      "Train : EPOCH 0001 / 0300  | BATCH 0006 | LOSS 0.3548\n",
      "Train : EPOCH 0001 / 0300  | BATCH 0007 | LOSS 0.3561\n",
      "Train : EPOCH 0001 / 0300  | BATCH 0008 | LOSS 0.3559\n",
      "Train : EPOCH 0001 / 0300  | BATCH 0009 | LOSS 0.3535\n",
      "Train : EPOCH 0001 / 0300  | BATCH 0010 | LOSS 0.3533\n",
      "Train : EPOCH 0001 / 0300  | BATCH 0011 | LOSS 0.3522\n",
      "Train : EPOCH 0001 / 0300  | BATCH 0012 | LOSS 0.3501\n",
      "Train : EPOCH 0001 / 0300  | BATCH 0013 | LOSS 0.3495\n",
      "Train : EPOCH 0001 / 0300  | BATCH 0014 | LOSS 0.3490\n",
      "Validation Error: \n",
      " Accuracy: 0.0%, Avg loss: 0.296710, f1: 0.0 \n",
      "\n",
      "Epoch 1 에서 best model 저장\n",
      "-------------------------------\n",
      "--------------------------------------------\n",
      "Epoch 2\n",
      "-------------------------------\n",
      "Train : EPOCH 0002 / 0300  | BATCH 0000 | LOSS 0.3103\n",
      "Train : EPOCH 0002 / 0300  | BATCH 0001 | LOSS 0.3238\n",
      "Train : EPOCH 0002 / 0300  | BATCH 0002 | LOSS 0.3186\n",
      "Train : EPOCH 0002 / 0300  | BATCH 0003 | LOSS 0.3231\n",
      "Train : EPOCH 0002 / 0300  | BATCH 0004 | LOSS 0.3192\n",
      "Train : EPOCH 0002 / 0300  | BATCH 0005 | LOSS 0.3193\n",
      "Train : EPOCH 0002 / 0300  | BATCH 0006 | LOSS 0.3200\n",
      "Train : EPOCH 0002 / 0300  | BATCH 0007 | LOSS 0.3173\n",
      "Train : EPOCH 0002 / 0300  | BATCH 0008 | LOSS 0.3172\n",
      "Train : EPOCH 0002 / 0300  | BATCH 0009 | LOSS 0.3129\n",
      "Train : EPOCH 0002 / 0300  | BATCH 0010 | LOSS 0.3129\n",
      "Train : EPOCH 0002 / 0300  | BATCH 0011 | LOSS 0.3124\n",
      "Train : EPOCH 0002 / 0300  | BATCH 0012 | LOSS 0.3117\n",
      "Train : EPOCH 0002 / 0300  | BATCH 0013 | LOSS 0.3117\n",
      "Train : EPOCH 0002 / 0300  | BATCH 0014 | LOSS 0.3112\n",
      "Validation Error: \n",
      " Accuracy: 0.0%, Avg loss: 0.271787, f1: 0.0 \n",
      "\n",
      "Epoch 2 에서 best model 저장\n",
      "-------------------------------\n",
      "--------------------------------------------\n",
      "Epoch 3\n",
      "-------------------------------\n",
      "Train : EPOCH 0003 / 0300  | BATCH 0000 | LOSS 0.2802\n",
      "Train : EPOCH 0003 / 0300  | BATCH 0001 | LOSS 0.2887\n",
      "Train : EPOCH 0003 / 0300  | BATCH 0002 | LOSS 0.2937\n",
      "Train : EPOCH 0003 / 0300  | BATCH 0003 | LOSS 0.2980\n",
      "Train : EPOCH 0003 / 0300  | BATCH 0004 | LOSS 0.2920\n",
      "Train : EPOCH 0003 / 0300  | BATCH 0005 | LOSS 0.2920\n",
      "Train : EPOCH 0003 / 0300  | BATCH 0006 | LOSS 0.2910\n",
      "Train : EPOCH 0003 / 0300  | BATCH 0007 | LOSS 0.2911\n",
      "Train : EPOCH 0003 / 0300  | BATCH 0008 | LOSS 0.2916\n",
      "Train : EPOCH 0003 / 0300  | BATCH 0009 | LOSS 0.2876\n",
      "Train : EPOCH 0003 / 0300  | BATCH 0010 | LOSS 0.2894\n",
      "Train : EPOCH 0003 / 0300  | BATCH 0011 | LOSS 0.2891\n",
      "Train : EPOCH 0003 / 0300  | BATCH 0012 | LOSS 0.2906\n",
      "Train : EPOCH 0003 / 0300  | BATCH 0013 | LOSS 0.2919\n",
      "Train : EPOCH 0003 / 0300  | BATCH 0014 | LOSS 0.2916\n",
      "Validation Error: \n",
      " Accuracy: 0.0%, Avg loss: 0.257977, f1: 0.0 \n",
      "\n",
      "Epoch 3 에서 best model 저장\n",
      "-------------------------------\n",
      "--------------------------------------------\n",
      "Epoch 4\n",
      "-------------------------------\n",
      "Train : EPOCH 0004 / 0300  | BATCH 0000 | LOSS 0.2656\n",
      "Train : EPOCH 0004 / 0300  | BATCH 0001 | LOSS 0.2808\n",
      "Train : EPOCH 0004 / 0300  | BATCH 0002 | LOSS 0.2810\n",
      "Train : EPOCH 0004 / 0300  | BATCH 0003 | LOSS 0.2819\n",
      "Train : EPOCH 0004 / 0300  | BATCH 0004 | LOSS 0.2843\n",
      "Train : EPOCH 0004 / 0300  | BATCH 0005 | LOSS 0.2815\n",
      "Train : EPOCH 0004 / 0300  | BATCH 0006 | LOSS 0.2860\n",
      "Train : EPOCH 0004 / 0300  | BATCH 0007 | LOSS 0.2877\n",
      "Train : EPOCH 0004 / 0300  | BATCH 0008 | LOSS 0.2879\n",
      "Train : EPOCH 0004 / 0300  | BATCH 0009 | LOSS 0.2852\n",
      "Train : EPOCH 0004 / 0300  | BATCH 0010 | LOSS 0.2847\n",
      "Train : EPOCH 0004 / 0300  | BATCH 0011 | LOSS 0.2820\n",
      "Train : EPOCH 0004 / 0300  | BATCH 0012 | LOSS 0.2830\n",
      "Train : EPOCH 0004 / 0300  | BATCH 0013 | LOSS 0.2824\n",
      "Train : EPOCH 0004 / 0300  | BATCH 0014 | LOSS 0.2801\n",
      "Validation Error: \n",
      " Accuracy: 0.0%, Avg loss: 0.250727, f1: 0.0 \n",
      "\n",
      "Epoch 4 에서 best model 저장\n",
      "-------------------------------\n",
      "--------------------------------------------\n",
      "Epoch 5\n",
      "-------------------------------\n",
      "Train : EPOCH 0005 / 0300  | BATCH 0000 | LOSS 0.2490\n",
      "Train : EPOCH 0005 / 0300  | BATCH 0001 | LOSS 0.2643\n",
      "Train : EPOCH 0005 / 0300  | BATCH 0002 | LOSS 0.2739\n",
      "Train : EPOCH 0005 / 0300  | BATCH 0003 | LOSS 0.2722\n",
      "Train : EPOCH 0005 / 0300  | BATCH 0004 | LOSS 0.2682\n",
      "Train : EPOCH 0005 / 0300  | BATCH 0005 | LOSS 0.2745\n",
      "Train : EPOCH 0005 / 0300  | BATCH 0006 | LOSS 0.2760\n",
      "Train : EPOCH 0005 / 0300  | BATCH 0007 | LOSS 0.2761\n",
      "Train : EPOCH 0005 / 0300  | BATCH 0008 | LOSS 0.2771\n",
      "Train : EPOCH 0005 / 0300  | BATCH 0009 | LOSS 0.2773\n",
      "Train : EPOCH 0005 / 0300  | BATCH 0010 | LOSS 0.2747\n",
      "Train : EPOCH 0005 / 0300  | BATCH 0011 | LOSS 0.2753\n",
      "Train : EPOCH 0005 / 0300  | BATCH 0012 | LOSS 0.2739\n",
      "Train : EPOCH 0005 / 0300  | BATCH 0013 | LOSS 0.2741\n",
      "Train : EPOCH 0005 / 0300  | BATCH 0014 | LOSS 0.2752\n",
      "Validation Error: \n",
      " Accuracy: 0.0%, Avg loss: 0.245606, f1: 0.0 \n",
      "\n",
      "Epoch 5 에서 best model 저장\n",
      "-------------------------------\n",
      "--------------------------------------------\n",
      "Epoch 6\n",
      "-------------------------------\n",
      "Train : EPOCH 0006 / 0300  | BATCH 0000 | LOSS 0.2691\n",
      "Train : EPOCH 0006 / 0300  | BATCH 0001 | LOSS 0.2720\n",
      "Train : EPOCH 0006 / 0300  | BATCH 0002 | LOSS 0.2762\n",
      "Train : EPOCH 0006 / 0300  | BATCH 0003 | LOSS 0.2710\n",
      "Train : EPOCH 0006 / 0300  | BATCH 0004 | LOSS 0.2701\n",
      "Train : EPOCH 0006 / 0300  | BATCH 0005 | LOSS 0.2679\n",
      "Train : EPOCH 0006 / 0300  | BATCH 0006 | LOSS 0.2700\n",
      "Train : EPOCH 0006 / 0300  | BATCH 0007 | LOSS 0.2711\n",
      "Train : EPOCH 0006 / 0300  | BATCH 0008 | LOSS 0.2722\n",
      "Train : EPOCH 0006 / 0300  | BATCH 0009 | LOSS 0.2718\n",
      "Train : EPOCH 0006 / 0300  | BATCH 0010 | LOSS 0.2695\n",
      "Train : EPOCH 0006 / 0300  | BATCH 0011 | LOSS 0.2686\n",
      "Train : EPOCH 0006 / 0300  | BATCH 0012 | LOSS 0.2698\n",
      "Train : EPOCH 0006 / 0300  | BATCH 0013 | LOSS 0.2688\n",
      "Train : EPOCH 0006 / 0300  | BATCH 0014 | LOSS 0.2709\n",
      "Validation Error: \n",
      " Accuracy: 0.0%, Avg loss: 0.241134, f1: 0.0 \n",
      "\n",
      "Epoch 6 에서 best model 저장\n",
      "-------------------------------\n",
      "--------------------------------------------\n",
      "Epoch 7\n",
      "-------------------------------\n",
      "Train : EPOCH 0007 / 0300  | BATCH 0000 | LOSS 0.3012\n",
      "Train : EPOCH 0007 / 0300  | BATCH 0001 | LOSS 0.2835\n",
      "Train : EPOCH 0007 / 0300  | BATCH 0002 | LOSS 0.2771\n",
      "Train : EPOCH 0007 / 0300  | BATCH 0003 | LOSS 0.2711\n",
      "Train : EPOCH 0007 / 0300  | BATCH 0004 | LOSS 0.2651\n",
      "Train : EPOCH 0007 / 0300  | BATCH 0005 | LOSS 0.2654\n",
      "Train : EPOCH 0007 / 0300  | BATCH 0006 | LOSS 0.2677\n",
      "Train : EPOCH 0007 / 0300  | BATCH 0007 | LOSS 0.2688\n",
      "Train : EPOCH 0007 / 0300  | BATCH 0008 | LOSS 0.2666\n",
      "Train : EPOCH 0007 / 0300  | BATCH 0009 | LOSS 0.2662\n",
      "Train : EPOCH 0007 / 0300  | BATCH 0010 | LOSS 0.2637\n",
      "Train : EPOCH 0007 / 0300  | BATCH 0011 | LOSS 0.2628\n",
      "Train : EPOCH 0007 / 0300  | BATCH 0012 | LOSS 0.2650\n",
      "Train : EPOCH 0007 / 0300  | BATCH 0013 | LOSS 0.2656\n",
      "Train : EPOCH 0007 / 0300  | BATCH 0014 | LOSS 0.2667\n",
      "Validation Error: \n",
      " Accuracy: 0.0%, Avg loss: 0.236808, f1: 0.0 \n",
      "\n",
      "Epoch 7 에서 best model 저장\n",
      "-------------------------------\n",
      "--------------------------------------------\n",
      "Epoch 8\n",
      "-------------------------------\n",
      "Train : EPOCH 0008 / 0300  | BATCH 0000 | LOSS 0.2739\n",
      "Train : EPOCH 0008 / 0300  | BATCH 0001 | LOSS 0.2722\n",
      "Train : EPOCH 0008 / 0300  | BATCH 0002 | LOSS 0.2601\n",
      "Train : EPOCH 0008 / 0300  | BATCH 0003 | LOSS 0.2592\n",
      "Train : EPOCH 0008 / 0300  | BATCH 0004 | LOSS 0.2666\n",
      "Train : EPOCH 0008 / 0300  | BATCH 0005 | LOSS 0.2706\n",
      "Train : EPOCH 0008 / 0300  | BATCH 0006 | LOSS 0.2698\n",
      "Train : EPOCH 0008 / 0300  | BATCH 0007 | LOSS 0.2704\n",
      "Train : EPOCH 0008 / 0300  | BATCH 0008 | LOSS 0.2703\n",
      "Train : EPOCH 0008 / 0300  | BATCH 0009 | LOSS 0.2678\n",
      "Train : EPOCH 0008 / 0300  | BATCH 0010 | LOSS 0.2654\n",
      "Train : EPOCH 0008 / 0300  | BATCH 0011 | LOSS 0.2639\n",
      "Train : EPOCH 0008 / 0300  | BATCH 0012 | LOSS 0.2622\n",
      "Train : EPOCH 0008 / 0300  | BATCH 0013 | LOSS 0.2612\n",
      "Train : EPOCH 0008 / 0300  | BATCH 0014 | LOSS 0.2609\n",
      "Validation Error: \n",
      " Accuracy: 0.0%, Avg loss: 0.232310, f1: 0.0 \n",
      "\n",
      "Epoch 8 에서 best model 저장\n",
      "-------------------------------\n",
      "--------------------------------------------\n",
      "Epoch 9\n",
      "-------------------------------\n",
      "Train : EPOCH 0009 / 0300  | BATCH 0000 | LOSS 0.2710\n",
      "Train : EPOCH 0009 / 0300  | BATCH 0001 | LOSS 0.2640\n",
      "Train : EPOCH 0009 / 0300  | BATCH 0002 | LOSS 0.2589\n",
      "Train : EPOCH 0009 / 0300  | BATCH 0003 | LOSS 0.2576\n",
      "Train : EPOCH 0009 / 0300  | BATCH 0004 | LOSS 0.2526\n",
      "Train : EPOCH 0009 / 0300  | BATCH 0005 | LOSS 0.2583\n",
      "Train : EPOCH 0009 / 0300  | BATCH 0006 | LOSS 0.2595\n",
      "Train : EPOCH 0009 / 0300  | BATCH 0007 | LOSS 0.2606\n",
      "Train : EPOCH 0009 / 0300  | BATCH 0008 | LOSS 0.2550\n",
      "Train : EPOCH 0009 / 0300  | BATCH 0009 | LOSS 0.2558\n",
      "Train : EPOCH 0009 / 0300  | BATCH 0010 | LOSS 0.2578\n",
      "Train : EPOCH 0009 / 0300  | BATCH 0011 | LOSS 0.2570\n",
      "Train : EPOCH 0009 / 0300  | BATCH 0012 | LOSS 0.2568\n",
      "Train : EPOCH 0009 / 0300  | BATCH 0013 | LOSS 0.2554\n",
      "Train : EPOCH 0009 / 0300  | BATCH 0014 | LOSS 0.2520\n",
      "Validation Error: \n",
      " Accuracy: 0.0%, Avg loss: 0.221849, f1: 0.0 \n",
      "\n",
      "Epoch 9 에서 best model 저장\n",
      "-------------------------------\n",
      "--------------------------------------------\n",
      "Epoch 10\n",
      "-------------------------------\n",
      "Train : EPOCH 0010 / 0300  | BATCH 0000 | LOSS 0.2469\n",
      "Train : EPOCH 0010 / 0300  | BATCH 0001 | LOSS 0.2568\n",
      "Train : EPOCH 0010 / 0300  | BATCH 0002 | LOSS 0.2461\n",
      "Train : EPOCH 0010 / 0300  | BATCH 0003 | LOSS 0.2503\n",
      "Train : EPOCH 0010 / 0300  | BATCH 0004 | LOSS 0.2485\n",
      "Train : EPOCH 0010 / 0300  | BATCH 0005 | LOSS 0.2500\n",
      "Train : EPOCH 0010 / 0300  | BATCH 0006 | LOSS 0.2486\n",
      "Train : EPOCH 0010 / 0300  | BATCH 0007 | LOSS 0.2491\n",
      "Train : EPOCH 0010 / 0300  | BATCH 0008 | LOSS 0.2457\n",
      "Train : EPOCH 0010 / 0300  | BATCH 0009 | LOSS 0.2459\n",
      "Train : EPOCH 0010 / 0300  | BATCH 0010 | LOSS 0.2456\n",
      "Train : EPOCH 0010 / 0300  | BATCH 0011 | LOSS 0.2462\n",
      "Train : EPOCH 0010 / 0300  | BATCH 0012 | LOSS 0.2454\n",
      "Train : EPOCH 0010 / 0300  | BATCH 0013 | LOSS 0.2457\n",
      "Train : EPOCH 0010 / 0300  | BATCH 0014 | LOSS 0.2474\n",
      "Validation Error: \n",
      " Accuracy: 0.0%, Avg loss: 0.223876, f1: 0.0 \n",
      "\n",
      "Epoch 11\n",
      "-------------------------------\n",
      "Train : EPOCH 0011 / 0300  | BATCH 0000 | LOSS 0.2595\n",
      "Train : EPOCH 0011 / 0300  | BATCH 0001 | LOSS 0.2389\n",
      "Train : EPOCH 0011 / 0300  | BATCH 0002 | LOSS 0.2457\n",
      "Train : EPOCH 0011 / 0300  | BATCH 0003 | LOSS 0.2464\n",
      "Train : EPOCH 0011 / 0300  | BATCH 0004 | LOSS 0.2396\n",
      "Train : EPOCH 0011 / 0300  | BATCH 0005 | LOSS 0.2428\n",
      "Train : EPOCH 0011 / 0300  | BATCH 0006 | LOSS 0.2380\n",
      "Train : EPOCH 0011 / 0300  | BATCH 0007 | LOSS 0.2370\n",
      "Train : EPOCH 0011 / 0300  | BATCH 0008 | LOSS 0.2390\n",
      "Train : EPOCH 0011 / 0300  | BATCH 0009 | LOSS 0.2403\n",
      "Train : EPOCH 0011 / 0300  | BATCH 0010 | LOSS 0.2403\n",
      "Train : EPOCH 0011 / 0300  | BATCH 0011 | LOSS 0.2427\n",
      "Train : EPOCH 0011 / 0300  | BATCH 0012 | LOSS 0.2437\n",
      "Train : EPOCH 0011 / 0300  | BATCH 0013 | LOSS 0.2417\n",
      "Train : EPOCH 0011 / 0300  | BATCH 0014 | LOSS 0.2393\n",
      "Validation Error: \n",
      " Accuracy: 0.0%, Avg loss: 0.210362, f1: 0.0 \n",
      "\n",
      "Epoch 11 에서 best model 저장\n",
      "-------------------------------\n",
      "--------------------------------------------\n",
      "Epoch 12\n",
      "-------------------------------\n",
      "Train : EPOCH 0012 / 0300  | BATCH 0000 | LOSS 0.2281\n",
      "Train : EPOCH 0012 / 0300  | BATCH 0001 | LOSS 0.2432\n",
      "Train : EPOCH 0012 / 0300  | BATCH 0002 | LOSS 0.2316\n",
      "Train : EPOCH 0012 / 0300  | BATCH 0003 | LOSS 0.2204\n",
      "Train : EPOCH 0012 / 0300  | BATCH 0004 | LOSS 0.2246\n",
      "Train : EPOCH 0012 / 0300  | BATCH 0005 | LOSS 0.2281\n",
      "Train : EPOCH 0012 / 0300  | BATCH 0006 | LOSS 0.2296\n",
      "Train : EPOCH 0012 / 0300  | BATCH 0007 | LOSS 0.2281\n",
      "Train : EPOCH 0012 / 0300  | BATCH 0008 | LOSS 0.2316\n",
      "Train : EPOCH 0012 / 0300  | BATCH 0009 | LOSS 0.2316\n",
      "Train : EPOCH 0012 / 0300  | BATCH 0010 | LOSS 0.2296\n",
      "Train : EPOCH 0012 / 0300  | BATCH 0011 | LOSS 0.2284\n",
      "Train : EPOCH 0012 / 0300  | BATCH 0012 | LOSS 0.2292\n",
      "Train : EPOCH 0012 / 0300  | BATCH 0013 | LOSS 0.2313\n",
      "Train : EPOCH 0012 / 0300  | BATCH 0014 | LOSS 0.2297\n",
      "Validation Error: \n",
      " Accuracy: 0.0%, Avg loss: 0.213995, f1: 0.0 \n",
      "\n",
      "Epoch 13\n",
      "-------------------------------\n",
      "Train : EPOCH 0013 / 0300  | BATCH 0000 | LOSS 0.2221\n",
      "Train : EPOCH 0013 / 0300  | BATCH 0001 | LOSS 0.2027\n",
      "Train : EPOCH 0013 / 0300  | BATCH 0002 | LOSS 0.2023\n",
      "Train : EPOCH 0013 / 0300  | BATCH 0003 | LOSS 0.2108\n",
      "Train : EPOCH 0013 / 0300  | BATCH 0004 | LOSS 0.2222\n",
      "Train : EPOCH 0013 / 0300  | BATCH 0005 | LOSS 0.2267\n",
      "Train : EPOCH 0013 / 0300  | BATCH 0006 | LOSS 0.2245\n",
      "Train : EPOCH 0013 / 0300  | BATCH 0007 | LOSS 0.2188\n",
      "Train : EPOCH 0013 / 0300  | BATCH 0008 | LOSS 0.2215\n",
      "Train : EPOCH 0013 / 0300  | BATCH 0009 | LOSS 0.2229\n",
      "Train : EPOCH 0013 / 0300  | BATCH 0010 | LOSS 0.2214\n",
      "Train : EPOCH 0013 / 0300  | BATCH 0011 | LOSS 0.2204\n",
      "Train : EPOCH 0013 / 0300  | BATCH 0012 | LOSS 0.2219\n",
      "Train : EPOCH 0013 / 0300  | BATCH 0013 | LOSS 0.2225\n",
      "Train : EPOCH 0013 / 0300  | BATCH 0014 | LOSS 0.2231\n",
      "Validation Error: \n",
      " Accuracy: 0.0%, Avg loss: 0.191028, f1: 0.00015638283054743494 \n",
      "\n",
      "Epoch 13 에서 best model 저장\n",
      "-------------------------------\n",
      "--------------------------------------------\n",
      "Epoch 14\n",
      "-------------------------------\n",
      "Train : EPOCH 0014 / 0300  | BATCH 0000 | LOSS 0.2451\n",
      "Train : EPOCH 0014 / 0300  | BATCH 0001 | LOSS 0.2311\n",
      "Train : EPOCH 0014 / 0300  | BATCH 0002 | LOSS 0.2257\n",
      "Train : EPOCH 0014 / 0300  | BATCH 0003 | LOSS 0.2164\n",
      "Train : EPOCH 0014 / 0300  | BATCH 0004 | LOSS 0.2198\n",
      "Train : EPOCH 0014 / 0300  | BATCH 0005 | LOSS 0.2181\n",
      "Train : EPOCH 0014 / 0300  | BATCH 0006 | LOSS 0.2176\n",
      "Train : EPOCH 0014 / 0300  | BATCH 0007 | LOSS 0.2124\n",
      "Train : EPOCH 0014 / 0300  | BATCH 0008 | LOSS 0.2085\n",
      "Train : EPOCH 0014 / 0300  | BATCH 0009 | LOSS 0.2114\n",
      "Train : EPOCH 0014 / 0300  | BATCH 0010 | LOSS 0.2126\n",
      "Train : EPOCH 0014 / 0300  | BATCH 0011 | LOSS 0.2132\n",
      "Train : EPOCH 0014 / 0300  | BATCH 0012 | LOSS 0.2118\n",
      "Train : EPOCH 0014 / 0300  | BATCH 0013 | LOSS 0.2089\n",
      "Train : EPOCH 0014 / 0300  | BATCH 0014 | LOSS 0.2098\n",
      "Validation Error: \n",
      " Accuracy: 0.0%, Avg loss: 0.184406, f1: 0.4347792842558452 \n",
      "\n",
      "Epoch 14 에서 best model 저장\n",
      "-------------------------------\n",
      "--------------------------------------------\n",
      "Epoch 15\n",
      "-------------------------------\n",
      "Train : EPOCH 0015 / 0300  | BATCH 0000 | LOSS 0.1974\n",
      "Train : EPOCH 0015 / 0300  | BATCH 0001 | LOSS 0.1998\n",
      "Train : EPOCH 0015 / 0300  | BATCH 0002 | LOSS 0.1907\n",
      "Train : EPOCH 0015 / 0300  | BATCH 0003 | LOSS 0.1915\n",
      "Train : EPOCH 0015 / 0300  | BATCH 0004 | LOSS 0.1919\n",
      "Train : EPOCH 0015 / 0300  | BATCH 0005 | LOSS 0.1903\n",
      "Train : EPOCH 0015 / 0300  | BATCH 0006 | LOSS 0.1962\n",
      "Train : EPOCH 0015 / 0300  | BATCH 0007 | LOSS 0.1955\n",
      "Train : EPOCH 0015 / 0300  | BATCH 0008 | LOSS 0.1978\n",
      "Train : EPOCH 0015 / 0300  | BATCH 0009 | LOSS 0.1946\n",
      "Train : EPOCH 0015 / 0300  | BATCH 0010 | LOSS 0.1937\n",
      "Train : EPOCH 0015 / 0300  | BATCH 0011 | LOSS 0.1950\n",
      "Train : EPOCH 0015 / 0300  | BATCH 0012 | LOSS 0.1951\n",
      "Train : EPOCH 0015 / 0300  | BATCH 0013 | LOSS 0.1963\n",
      "Train : EPOCH 0015 / 0300  | BATCH 0014 | LOSS 0.1946\n",
      "Validation Error: \n",
      " Accuracy: 0.0%, Avg loss: 0.172799, f1: 0.4995012709072658 \n",
      "\n",
      "Epoch 15 에서 best model 저장\n",
      "-------------------------------\n",
      "--------------------------------------------\n",
      "Epoch 16\n",
      "-------------------------------\n",
      "Train : EPOCH 0016 / 0300  | BATCH 0000 | LOSS 0.2083\n",
      "Train : EPOCH 0016 / 0300  | BATCH 0001 | LOSS 0.1983\n",
      "Train : EPOCH 0016 / 0300  | BATCH 0002 | LOSS 0.2043\n",
      "Train : EPOCH 0016 / 0300  | BATCH 0003 | LOSS 0.1972\n",
      "Train : EPOCH 0016 / 0300  | BATCH 0004 | LOSS 0.1927\n",
      "Train : EPOCH 0016 / 0300  | BATCH 0005 | LOSS 0.1921\n",
      "Train : EPOCH 0016 / 0300  | BATCH 0006 | LOSS 0.1912\n",
      "Train : EPOCH 0016 / 0300  | BATCH 0007 | LOSS 0.1939\n",
      "Train : EPOCH 0016 / 0300  | BATCH 0008 | LOSS 0.1926\n",
      "Train : EPOCH 0016 / 0300  | BATCH 0009 | LOSS 0.1905\n",
      "Train : EPOCH 0016 / 0300  | BATCH 0010 | LOSS 0.1913\n",
      "Train : EPOCH 0016 / 0300  | BATCH 0011 | LOSS 0.1886\n",
      "Train : EPOCH 0016 / 0300  | BATCH 0012 | LOSS 0.1888\n",
      "Train : EPOCH 0016 / 0300  | BATCH 0013 | LOSS 0.1872\n",
      "Train : EPOCH 0016 / 0300  | BATCH 0014 | LOSS 0.1857\n",
      "Validation Error: \n",
      " Accuracy: 0.0%, Avg loss: 0.150831, f1: 0.5055398834603173 \n",
      "\n",
      "Epoch 16 에서 best model 저장\n",
      "-------------------------------\n",
      "--------------------------------------------\n",
      "Epoch 17\n",
      "-------------------------------\n",
      "Train : EPOCH 0017 / 0300  | BATCH 0000 | LOSS 0.1784\n",
      "Train : EPOCH 0017 / 0300  | BATCH 0001 | LOSS 0.1977\n",
      "Train : EPOCH 0017 / 0300  | BATCH 0002 | LOSS 0.1834\n",
      "Train : EPOCH 0017 / 0300  | BATCH 0003 | LOSS 0.1792\n",
      "Train : EPOCH 0017 / 0300  | BATCH 0004 | LOSS 0.1778\n",
      "Train : EPOCH 0017 / 0300  | BATCH 0005 | LOSS 0.1728\n",
      "Train : EPOCH 0017 / 0300  | BATCH 0006 | LOSS 0.1674\n",
      "Train : EPOCH 0017 / 0300  | BATCH 0007 | LOSS 0.1694\n",
      "Train : EPOCH 0017 / 0300  | BATCH 0008 | LOSS 0.1707\n",
      "Train : EPOCH 0017 / 0300  | BATCH 0009 | LOSS 0.1690\n",
      "Train : EPOCH 0017 / 0300  | BATCH 0010 | LOSS 0.1725\n",
      "Train : EPOCH 0017 / 0300  | BATCH 0011 | LOSS 0.1727\n",
      "Train : EPOCH 0017 / 0300  | BATCH 0012 | LOSS 0.1740\n",
      "Train : EPOCH 0017 / 0300  | BATCH 0013 | LOSS 0.1747\n",
      "Train : EPOCH 0017 / 0300  | BATCH 0014 | LOSS 0.1748\n",
      "Validation Error: \n",
      " Accuracy: 0.0%, Avg loss: 0.175687, f1: 0.6310401601450784 \n",
      "\n",
      "Epoch 18\n",
      "-------------------------------\n",
      "Train : EPOCH 0018 / 0300  | BATCH 0000 | LOSS 0.1689\n",
      "Train : EPOCH 0018 / 0300  | BATCH 0001 | LOSS 0.1830\n",
      "Train : EPOCH 0018 / 0300  | BATCH 0002 | LOSS 0.1751\n",
      "Train : EPOCH 0018 / 0300  | BATCH 0003 | LOSS 0.1664\n",
      "Train : EPOCH 0018 / 0300  | BATCH 0004 | LOSS 0.1723\n",
      "Train : EPOCH 0018 / 0300  | BATCH 0005 | LOSS 0.1685\n",
      "Train : EPOCH 0018 / 0300  | BATCH 0006 | LOSS 0.1704\n",
      "Train : EPOCH 0018 / 0300  | BATCH 0007 | LOSS 0.1695\n",
      "Train : EPOCH 0018 / 0300  | BATCH 0008 | LOSS 0.1696\n",
      "Train : EPOCH 0018 / 0300  | BATCH 0009 | LOSS 0.1682\n",
      "Train : EPOCH 0018 / 0300  | BATCH 0010 | LOSS 0.1676\n",
      "Train : EPOCH 0018 / 0300  | BATCH 0011 | LOSS 0.1665\n",
      "Train : EPOCH 0018 / 0300  | BATCH 0012 | LOSS 0.1675\n",
      "Train : EPOCH 0018 / 0300  | BATCH 0013 | LOSS 0.1652\n",
      "Train : EPOCH 0018 / 0300  | BATCH 0014 | LOSS 0.1661\n",
      "Validation Error: \n",
      " Accuracy: 0.0%, Avg loss: 0.134016, f1: 0.7806796772139413 \n",
      "\n",
      "Epoch 18 에서 best model 저장\n",
      "-------------------------------\n",
      "--------------------------------------------\n",
      "Epoch 19\n",
      "-------------------------------\n",
      "Train : EPOCH 0019 / 0300  | BATCH 0000 | LOSS 0.1405\n",
      "Train : EPOCH 0019 / 0300  | BATCH 0001 | LOSS 0.1601\n",
      "Train : EPOCH 0019 / 0300  | BATCH 0002 | LOSS 0.1602\n",
      "Train : EPOCH 0019 / 0300  | BATCH 0003 | LOSS 0.1664\n",
      "Train : EPOCH 0019 / 0300  | BATCH 0004 | LOSS 0.1619\n",
      "Train : EPOCH 0019 / 0300  | BATCH 0005 | LOSS 0.1647\n",
      "Train : EPOCH 0019 / 0300  | BATCH 0006 | LOSS 0.1585\n",
      "Train : EPOCH 0019 / 0300  | BATCH 0007 | LOSS 0.1576\n",
      "Train : EPOCH 0019 / 0300  | BATCH 0008 | LOSS 0.1549\n",
      "Train : EPOCH 0019 / 0300  | BATCH 0009 | LOSS 0.1532\n",
      "Train : EPOCH 0019 / 0300  | BATCH 0010 | LOSS 0.1518\n",
      "Train : EPOCH 0019 / 0300  | BATCH 0011 | LOSS 0.1514\n",
      "Train : EPOCH 0019 / 0300  | BATCH 0012 | LOSS 0.1527\n",
      "Train : EPOCH 0019 / 0300  | BATCH 0013 | LOSS 0.1513\n",
      "Train : EPOCH 0019 / 0300  | BATCH 0014 | LOSS 0.1489\n",
      "Validation Error: \n",
      " Accuracy: 0.0%, Avg loss: 0.161263, f1: 0.6204714775085449 \n",
      "\n",
      "Epoch 20\n",
      "-------------------------------\n",
      "Train : EPOCH 0020 / 0300  | BATCH 0000 | LOSS 0.1232\n",
      "Train : EPOCH 0020 / 0300  | BATCH 0001 | LOSS 0.1257\n",
      "Train : EPOCH 0020 / 0300  | BATCH 0002 | LOSS 0.1352\n",
      "Train : EPOCH 0020 / 0300  | BATCH 0003 | LOSS 0.1428\n",
      "Train : EPOCH 0020 / 0300  | BATCH 0004 | LOSS 0.1431\n",
      "Train : EPOCH 0020 / 0300  | BATCH 0005 | LOSS 0.1425\n",
      "Train : EPOCH 0020 / 0300  | BATCH 0006 | LOSS 0.1422\n",
      "Train : EPOCH 0020 / 0300  | BATCH 0007 | LOSS 0.1398\n",
      "Train : EPOCH 0020 / 0300  | BATCH 0008 | LOSS 0.1417\n",
      "Train : EPOCH 0020 / 0300  | BATCH 0009 | LOSS 0.1419\n",
      "Train : EPOCH 0020 / 0300  | BATCH 0010 | LOSS 0.1418\n",
      "Train : EPOCH 0020 / 0300  | BATCH 0011 | LOSS 0.1404\n",
      "Train : EPOCH 0020 / 0300  | BATCH 0012 | LOSS 0.1381\n",
      "Train : EPOCH 0020 / 0300  | BATCH 0013 | LOSS 0.1394\n",
      "Train : EPOCH 0020 / 0300  | BATCH 0014 | LOSS 0.1392\n",
      "Validation Error: \n",
      " Accuracy: 0.0%, Avg loss: 0.143122, f1: 0.7025897588048663 \n",
      "\n",
      "Epoch 21\n",
      "-------------------------------\n",
      "Train : EPOCH 0021 / 0300  | BATCH 0000 | LOSS 0.1248\n",
      "Train : EPOCH 0021 / 0300  | BATCH 0001 | LOSS 0.1304\n",
      "Train : EPOCH 0021 / 0300  | BATCH 0002 | LOSS 0.1240\n",
      "Train : EPOCH 0021 / 0300  | BATCH 0003 | LOSS 0.1266\n",
      "Train : EPOCH 0021 / 0300  | BATCH 0004 | LOSS 0.1288\n",
      "Train : EPOCH 0021 / 0300  | BATCH 0005 | LOSS 0.1321\n",
      "Train : EPOCH 0021 / 0300  | BATCH 0006 | LOSS 0.1338\n",
      "Train : EPOCH 0021 / 0300  | BATCH 0007 | LOSS 0.1323\n",
      "Train : EPOCH 0021 / 0300  | BATCH 0008 | LOSS 0.1294\n",
      "Train : EPOCH 0021 / 0300  | BATCH 0009 | LOSS 0.1277\n",
      "Train : EPOCH 0021 / 0300  | BATCH 0010 | LOSS 0.1287\n",
      "Train : EPOCH 0021 / 0300  | BATCH 0011 | LOSS 0.1304\n",
      "Train : EPOCH 0021 / 0300  | BATCH 0012 | LOSS 0.1281\n",
      "Train : EPOCH 0021 / 0300  | BATCH 0013 | LOSS 0.1288\n",
      "Train : EPOCH 0021 / 0300  | BATCH 0014 | LOSS 0.1284\n",
      "Validation Error: \n",
      " Accuracy: 0.0%, Avg loss: 0.131043, f1: 0.7261235203061785 \n",
      "\n",
      "Epoch 21 에서 best model 저장\n",
      "-------------------------------\n",
      "--------------------------------------------\n",
      "Epoch 22\n",
      "-------------------------------\n",
      "Train : EPOCH 0022 / 0300  | BATCH 0000 | LOSS 0.1339\n",
      "Train : EPOCH 0022 / 0300  | BATCH 0001 | LOSS 0.1498\n",
      "Train : EPOCH 0022 / 0300  | BATCH 0002 | LOSS 0.1347\n",
      "Train : EPOCH 0022 / 0300  | BATCH 0003 | LOSS 0.1273\n",
      "Train : EPOCH 0022 / 0300  | BATCH 0004 | LOSS 0.1227\n",
      "Train : EPOCH 0022 / 0300  | BATCH 0005 | LOSS 0.1207\n",
      "Train : EPOCH 0022 / 0300  | BATCH 0006 | LOSS 0.1203\n",
      "Train : EPOCH 0022 / 0300  | BATCH 0007 | LOSS 0.1221\n",
      "Train : EPOCH 0022 / 0300  | BATCH 0008 | LOSS 0.1213\n",
      "Train : EPOCH 0022 / 0300  | BATCH 0009 | LOSS 0.1185\n",
      "Train : EPOCH 0022 / 0300  | BATCH 0010 | LOSS 0.1173\n",
      "Train : EPOCH 0022 / 0300  | BATCH 0011 | LOSS 0.1193\n",
      "Train : EPOCH 0022 / 0300  | BATCH 0012 | LOSS 0.1201\n",
      "Train : EPOCH 0022 / 0300  | BATCH 0013 | LOSS 0.1199\n",
      "Train : EPOCH 0022 / 0300  | BATCH 0014 | LOSS 0.1186\n",
      "Validation Error: \n",
      " Accuracy: 0.0%, Avg loss: 0.107258, f1: 0.7953420962606158 \n",
      "\n",
      "Epoch 22 에서 best model 저장\n",
      "-------------------------------\n",
      "--------------------------------------------\n",
      "Epoch 23\n",
      "-------------------------------\n",
      "Train : EPOCH 0023 / 0300  | BATCH 0000 | LOSS 0.1236\n",
      "Train : EPOCH 0023 / 0300  | BATCH 0001 | LOSS 0.1213\n",
      "Train : EPOCH 0023 / 0300  | BATCH 0002 | LOSS 0.1293\n",
      "Train : EPOCH 0023 / 0300  | BATCH 0003 | LOSS 0.1220\n",
      "Train : EPOCH 0023 / 0300  | BATCH 0004 | LOSS 0.1164\n",
      "Train : EPOCH 0023 / 0300  | BATCH 0005 | LOSS 0.1138\n",
      "Train : EPOCH 0023 / 0300  | BATCH 0006 | LOSS 0.1170\n",
      "Train : EPOCH 0023 / 0300  | BATCH 0007 | LOSS 0.1170\n",
      "Train : EPOCH 0023 / 0300  | BATCH 0008 | LOSS 0.1176\n",
      "Train : EPOCH 0023 / 0300  | BATCH 0009 | LOSS 0.1159\n",
      "Train : EPOCH 0023 / 0300  | BATCH 0010 | LOSS 0.1173\n",
      "Train : EPOCH 0023 / 0300  | BATCH 0011 | LOSS 0.1157\n",
      "Train : EPOCH 0023 / 0300  | BATCH 0012 | LOSS 0.1168\n",
      "Train : EPOCH 0023 / 0300  | BATCH 0013 | LOSS 0.1143\n",
      "Train : EPOCH 0023 / 0300  | BATCH 0014 | LOSS 0.1130\n",
      "Validation Error: \n",
      " Accuracy: 0.0%, Avg loss: 0.134597, f1: 0.7239835091999599 \n",
      "\n",
      "Epoch 24\n",
      "-------------------------------\n",
      "Train : EPOCH 0024 / 0300  | BATCH 0000 | LOSS 0.1067\n",
      "Train : EPOCH 0024 / 0300  | BATCH 0001 | LOSS 0.1116\n",
      "Train : EPOCH 0024 / 0300  | BATCH 0002 | LOSS 0.1214\n",
      "Train : EPOCH 0024 / 0300  | BATCH 0003 | LOSS 0.1147\n",
      "Train : EPOCH 0024 / 0300  | BATCH 0004 | LOSS 0.1099\n",
      "Train : EPOCH 0024 / 0300  | BATCH 0005 | LOSS 0.1099\n",
      "Train : EPOCH 0024 / 0300  | BATCH 0006 | LOSS 0.1078\n",
      "Train : EPOCH 0024 / 0300  | BATCH 0007 | LOSS 0.1055\n",
      "Train : EPOCH 0024 / 0300  | BATCH 0008 | LOSS 0.1063\n",
      "Train : EPOCH 0024 / 0300  | BATCH 0009 | LOSS 0.1144\n",
      "Train : EPOCH 0024 / 0300  | BATCH 0010 | LOSS 0.1135\n",
      "Train : EPOCH 0024 / 0300  | BATCH 0011 | LOSS 0.1123\n",
      "Train : EPOCH 0024 / 0300  | BATCH 0012 | LOSS 0.1192\n",
      "Train : EPOCH 0024 / 0300  | BATCH 0013 | LOSS 0.1193\n",
      "Train : EPOCH 0024 / 0300  | BATCH 0014 | LOSS 0.1190\n",
      "Validation Error: \n",
      " Accuracy: 0.0%, Avg loss: 0.096591, f1: 0.8122683678354535 \n",
      "\n",
      "Epoch 24 에서 best model 저장\n",
      "-------------------------------\n",
      "--------------------------------------------\n",
      "Epoch 25\n",
      "-------------------------------\n",
      "Train : EPOCH 0025 / 0300  | BATCH 0000 | LOSS 0.1040\n",
      "Train : EPOCH 0025 / 0300  | BATCH 0001 | LOSS 0.0964\n",
      "Train : EPOCH 0025 / 0300  | BATCH 0002 | LOSS 0.0959\n",
      "Train : EPOCH 0025 / 0300  | BATCH 0003 | LOSS 0.1037\n",
      "Train : EPOCH 0025 / 0300  | BATCH 0004 | LOSS 0.1217\n",
      "Train : EPOCH 0025 / 0300  | BATCH 0005 | LOSS 0.1401\n",
      "Train : EPOCH 0025 / 0300  | BATCH 0006 | LOSS 0.1336\n",
      "Train : EPOCH 0025 / 0300  | BATCH 0007 | LOSS 0.1298\n",
      "Train : EPOCH 0025 / 0300  | BATCH 0008 | LOSS 0.1311\n",
      "Train : EPOCH 0025 / 0300  | BATCH 0009 | LOSS 0.1329\n",
      "Train : EPOCH 0025 / 0300  | BATCH 0010 | LOSS 0.1300\n",
      "Train : EPOCH 0025 / 0300  | BATCH 0011 | LOSS 0.1286\n",
      "Train : EPOCH 0025 / 0300  | BATCH 0012 | LOSS 0.1257\n",
      "Train : EPOCH 0025 / 0300  | BATCH 0013 | LOSS 0.1256\n",
      "Train : EPOCH 0025 / 0300  | BATCH 0014 | LOSS 0.1223\n",
      "Validation Error: \n",
      " Accuracy: 0.0%, Avg loss: 0.130330, f1: 0.7117140974317279 \n",
      "\n",
      "Epoch 26\n",
      "-------------------------------\n",
      "Train : EPOCH 0026 / 0300  | BATCH 0000 | LOSS 0.1130\n",
      "Train : EPOCH 0026 / 0300  | BATCH 0001 | LOSS 0.1054\n",
      "Train : EPOCH 0026 / 0300  | BATCH 0002 | LOSS 0.1113\n",
      "Train : EPOCH 0026 / 0300  | BATCH 0003 | LOSS 0.1155\n",
      "Train : EPOCH 0026 / 0300  | BATCH 0004 | LOSS 0.1109\n",
      "Train : EPOCH 0026 / 0300  | BATCH 0005 | LOSS 0.1055\n",
      "Train : EPOCH 0026 / 0300  | BATCH 0006 | LOSS 0.1054\n",
      "Train : EPOCH 0026 / 0300  | BATCH 0007 | LOSS 0.1086\n",
      "Train : EPOCH 0026 / 0300  | BATCH 0008 | LOSS 0.1081\n",
      "Train : EPOCH 0026 / 0300  | BATCH 0009 | LOSS 0.1097\n",
      "Train : EPOCH 0026 / 0300  | BATCH 0010 | LOSS 0.1080\n",
      "Train : EPOCH 0026 / 0300  | BATCH 0011 | LOSS 0.1059\n",
      "Train : EPOCH 0026 / 0300  | BATCH 0012 | LOSS 0.1063\n",
      "Train : EPOCH 0026 / 0300  | BATCH 0013 | LOSS 0.1048\n",
      "Train : EPOCH 0026 / 0300  | BATCH 0014 | LOSS 0.1064\n",
      "Validation Error: \n",
      " Accuracy: 0.0%, Avg loss: 0.140485, f1: 0.6900587337357658 \n",
      "\n",
      "Epoch 27\n",
      "-------------------------------\n",
      "Train : EPOCH 0027 / 0300  | BATCH 0000 | LOSS 0.1279\n",
      "Train : EPOCH 0027 / 0300  | BATCH 0001 | LOSS 0.1161\n",
      "Train : EPOCH 0027 / 0300  | BATCH 0002 | LOSS 0.1048\n",
      "Train : EPOCH 0027 / 0300  | BATCH 0003 | LOSS 0.1022\n",
      "Train : EPOCH 0027 / 0300  | BATCH 0004 | LOSS 0.1068\n",
      "Train : EPOCH 0027 / 0300  | BATCH 0005 | LOSS 0.1049\n",
      "Train : EPOCH 0027 / 0300  | BATCH 0006 | LOSS 0.1015\n",
      "Train : EPOCH 0027 / 0300  | BATCH 0007 | LOSS 0.1010\n",
      "Train : EPOCH 0027 / 0300  | BATCH 0008 | LOSS 0.0994\n",
      "Train : EPOCH 0027 / 0300  | BATCH 0009 | LOSS 0.1006\n",
      "Train : EPOCH 0027 / 0300  | BATCH 0010 | LOSS 0.1002\n",
      "Train : EPOCH 0027 / 0300  | BATCH 0011 | LOSS 0.0996\n",
      "Train : EPOCH 0027 / 0300  | BATCH 0012 | LOSS 0.0996\n",
      "Train : EPOCH 0027 / 0300  | BATCH 0013 | LOSS 0.1005\n",
      "Train : EPOCH 0027 / 0300  | BATCH 0014 | LOSS 0.1031\n",
      "Validation Error: \n",
      " Accuracy: 0.0%, Avg loss: 0.133200, f1: 0.744559475353786 \n",
      "\n",
      "Epoch 28\n",
      "-------------------------------\n",
      "Train : EPOCH 0028 / 0300  | BATCH 0000 | LOSS 0.0876\n",
      "Train : EPOCH 0028 / 0300  | BATCH 0001 | LOSS 0.0930\n",
      "Train : EPOCH 0028 / 0300  | BATCH 0002 | LOSS 0.0972\n",
      "Train : EPOCH 0028 / 0300  | BATCH 0003 | LOSS 0.1028\n",
      "Train : EPOCH 0028 / 0300  | BATCH 0004 | LOSS 0.0994\n",
      "Train : EPOCH 0028 / 0300  | BATCH 0005 | LOSS 0.0993\n",
      "Train : EPOCH 0028 / 0300  | BATCH 0006 | LOSS 0.0972\n",
      "Train : EPOCH 0028 / 0300  | BATCH 0007 | LOSS 0.0960\n",
      "Train : EPOCH 0028 / 0300  | BATCH 0008 | LOSS 0.0936\n",
      "Train : EPOCH 0028 / 0300  | BATCH 0009 | LOSS 0.0947\n",
      "Train : EPOCH 0028 / 0300  | BATCH 0010 | LOSS 0.0937\n",
      "Train : EPOCH 0028 / 0300  | BATCH 0011 | LOSS 0.0923\n",
      "Train : EPOCH 0028 / 0300  | BATCH 0012 | LOSS 0.0946\n",
      "Train : EPOCH 0028 / 0300  | BATCH 0013 | LOSS 0.0963\n",
      "Train : EPOCH 0028 / 0300  | BATCH 0014 | LOSS 0.0938\n",
      "Validation Error: \n",
      " Accuracy: 0.0%, Avg loss: 0.132564, f1: 0.7439789431435722 \n",
      "\n",
      "Epoch 29\n",
      "-------------------------------\n",
      "Train : EPOCH 0029 / 0300  | BATCH 0000 | LOSS 0.1022\n",
      "Train : EPOCH 0029 / 0300  | BATCH 0001 | LOSS 0.0948\n",
      "Train : EPOCH 0029 / 0300  | BATCH 0002 | LOSS 0.0876\n",
      "Train : EPOCH 0029 / 0300  | BATCH 0003 | LOSS 0.0885\n",
      "Train : EPOCH 0029 / 0300  | BATCH 0004 | LOSS 0.0844\n",
      "Train : EPOCH 0029 / 0300  | BATCH 0005 | LOSS 0.0822\n",
      "Train : EPOCH 0029 / 0300  | BATCH 0006 | LOSS 0.0852\n",
      "Train : EPOCH 0029 / 0300  | BATCH 0007 | LOSS 0.0844\n",
      "Train : EPOCH 0029 / 0300  | BATCH 0008 | LOSS 0.0884\n",
      "Train : EPOCH 0029 / 0300  | BATCH 0009 | LOSS 0.0886\n",
      "Train : EPOCH 0029 / 0300  | BATCH 0010 | LOSS 0.0896\n",
      "Train : EPOCH 0029 / 0300  | BATCH 0011 | LOSS 0.0891\n",
      "Train : EPOCH 0029 / 0300  | BATCH 0012 | LOSS 0.0884\n",
      "Train : EPOCH 0029 / 0300  | BATCH 0013 | LOSS 0.0876\n",
      "Train : EPOCH 0029 / 0300  | BATCH 0014 | LOSS 0.0900\n",
      "Validation Error: \n",
      " Accuracy: 0.0%, Avg loss: 0.222381, f1: 0.6156147505555835 \n",
      "\n",
      "Epoch 30\n",
      "-------------------------------\n",
      "Train : EPOCH 0030 / 0300  | BATCH 0000 | LOSS 0.1329\n",
      "Train : EPOCH 0030 / 0300  | BATCH 0001 | LOSS 0.1045\n",
      "Train : EPOCH 0030 / 0300  | BATCH 0002 | LOSS 0.0987\n",
      "Train : EPOCH 0030 / 0300  | BATCH 0003 | LOSS 0.0924\n",
      "Train : EPOCH 0030 / 0300  | BATCH 0004 | LOSS 0.0902\n",
      "Train : EPOCH 0030 / 0300  | BATCH 0005 | LOSS 0.0885\n",
      "Train : EPOCH 0030 / 0300  | BATCH 0006 | LOSS 0.0867\n",
      "Train : EPOCH 0030 / 0300  | BATCH 0007 | LOSS 0.0865\n",
      "Train : EPOCH 0030 / 0300  | BATCH 0008 | LOSS 0.0901\n",
      "Train : EPOCH 0030 / 0300  | BATCH 0009 | LOSS 0.0925\n",
      "Train : EPOCH 0030 / 0300  | BATCH 0010 | LOSS 0.0938\n",
      "Train : EPOCH 0030 / 0300  | BATCH 0011 | LOSS 0.0921\n",
      "Train : EPOCH 0030 / 0300  | BATCH 0012 | LOSS 0.0910\n",
      "Train : EPOCH 0030 / 0300  | BATCH 0013 | LOSS 0.0916\n",
      "Train : EPOCH 0030 / 0300  | BATCH 0014 | LOSS 0.0907\n",
      "Validation Error: \n",
      " Accuracy: 0.0%, Avg loss: 0.152200, f1: 0.6915296997342791 \n",
      "\n",
      "Epoch 31\n",
      "-------------------------------\n",
      "Train : EPOCH 0031 / 0300  | BATCH 0000 | LOSS 0.0801\n",
      "Train : EPOCH 0031 / 0300  | BATCH 0001 | LOSS 0.0868\n",
      "Train : EPOCH 0031 / 0300  | BATCH 0002 | LOSS 0.0846\n",
      "Train : EPOCH 0031 / 0300  | BATCH 0003 | LOSS 0.0801\n",
      "Train : EPOCH 0031 / 0300  | BATCH 0004 | LOSS 0.0832\n",
      "Train : EPOCH 0031 / 0300  | BATCH 0005 | LOSS 0.0812\n",
      "Train : EPOCH 0031 / 0300  | BATCH 0006 | LOSS 0.0873\n",
      "Train : EPOCH 0031 / 0300  | BATCH 0007 | LOSS 0.0858\n",
      "Train : EPOCH 0031 / 0300  | BATCH 0008 | LOSS 0.0849\n",
      "Train : EPOCH 0031 / 0300  | BATCH 0009 | LOSS 0.0851\n",
      "Train : EPOCH 0031 / 0300  | BATCH 0010 | LOSS 0.0841\n",
      "Train : EPOCH 0031 / 0300  | BATCH 0011 | LOSS 0.0828\n",
      "Train : EPOCH 0031 / 0300  | BATCH 0012 | LOSS 0.0814\n",
      "Train : EPOCH 0031 / 0300  | BATCH 0013 | LOSS 0.0834\n",
      "Train : EPOCH 0031 / 0300  | BATCH 0014 | LOSS 0.0822\n",
      "Validation Error: \n",
      " Accuracy: 0.0%, Avg loss: 0.080346, f1: 0.8307650685310364 \n",
      "\n",
      "Epoch 31 에서 best model 저장\n",
      "-------------------------------\n",
      "--------------------------------------------\n",
      "Epoch 32\n",
      "-------------------------------\n",
      "Train : EPOCH 0032 / 0300  | BATCH 0000 | LOSS 0.0728\n",
      "Train : EPOCH 0032 / 0300  | BATCH 0001 | LOSS 0.0907\n",
      "Train : EPOCH 0032 / 0300  | BATCH 0002 | LOSS 0.0883\n",
      "Train : EPOCH 0032 / 0300  | BATCH 0003 | LOSS 0.0828\n",
      "Train : EPOCH 0032 / 0300  | BATCH 0004 | LOSS 0.0879\n",
      "Train : EPOCH 0032 / 0300  | BATCH 0005 | LOSS 0.0851\n",
      "Train : EPOCH 0032 / 0300  | BATCH 0006 | LOSS 0.0815\n",
      "Train : EPOCH 0032 / 0300  | BATCH 0007 | LOSS 0.0803\n",
      "Train : EPOCH 0032 / 0300  | BATCH 0008 | LOSS 0.0787\n",
      "Train : EPOCH 0032 / 0300  | BATCH 0009 | LOSS 0.0780\n",
      "Train : EPOCH 0032 / 0300  | BATCH 0010 | LOSS 0.0787\n",
      "Train : EPOCH 0032 / 0300  | BATCH 0011 | LOSS 0.0772\n",
      "Train : EPOCH 0032 / 0300  | BATCH 0012 | LOSS 0.0777\n",
      "Train : EPOCH 0032 / 0300  | BATCH 0013 | LOSS 0.0779\n",
      "Train : EPOCH 0032 / 0300  | BATCH 0014 | LOSS 0.0766\n"
     ]
    },
    {
     "ename": "KeyboardInterrupt",
     "evalue": "",
     "output_type": "error",
     "traceback": [
      "\u001b[1;31m---------------------------------------------------------------------------\u001b[0m",
      "\u001b[1;31mKeyboardInterrupt\u001b[0m                         Traceback (most recent call last)",
      "\u001b[1;32m~\\AppData\\Local\\Temp\\ipykernel_24496\\3218923154.py\u001b[0m in \u001b[0;36m<module>\u001b[1;34m\u001b[0m\n\u001b[0;32m      4\u001b[0m     \u001b[0mprint\u001b[0m\u001b[1;33m(\u001b[0m\u001b[1;34mf\"Epoch {t+1}\\n-------------------------------\"\u001b[0m\u001b[1;33m)\u001b[0m\u001b[1;33m\u001b[0m\u001b[1;33m\u001b[0m\u001b[0m\n\u001b[0;32m      5\u001b[0m     \u001b[0mtrain_loss\u001b[0m \u001b[1;33m=\u001b[0m \u001b[0mtrain\u001b[0m\u001b[1;33m(\u001b[0m\u001b[0mtrain_dataloader\u001b[0m\u001b[1;33m,\u001b[0m \u001b[0mmodel\u001b[0m\u001b[1;33m,\u001b[0m \u001b[0mloss_fn\u001b[0m\u001b[1;33m,\u001b[0m \u001b[0moptimizer\u001b[0m\u001b[1;33m,\u001b[0m \u001b[0mepoch\u001b[0m \u001b[1;33m=\u001b[0m \u001b[0mt\u001b[0m\u001b[1;33m+\u001b[0m\u001b[1;36m1\u001b[0m\u001b[1;33m)\u001b[0m\u001b[1;33m\u001b[0m\u001b[1;33m\u001b[0m\u001b[0m\n\u001b[1;32m----> 6\u001b[1;33m     \u001b[0mvalidation_loss\u001b[0m\u001b[1;33m,\u001b[0m \u001b[0mscore\u001b[0m \u001b[1;33m=\u001b[0m \u001b[0mvalidation\u001b[0m\u001b[1;33m(\u001b[0m\u001b[0mvalidation_dataloader\u001b[0m\u001b[1;33m,\u001b[0m \u001b[0mmodel\u001b[0m\u001b[1;33m,\u001b[0m \u001b[0mloss_fn\u001b[0m\u001b[1;33m)\u001b[0m\u001b[1;33m\u001b[0m\u001b[1;33m\u001b[0m\u001b[0m\n\u001b[0m\u001b[0;32m      7\u001b[0m \u001b[1;33m\u001b[0m\u001b[0m\n\u001b[0;32m      8\u001b[0m     \u001b[1;31m# tensor board\u001b[0m\u001b[1;33m\u001b[0m\u001b[1;33m\u001b[0m\u001b[1;33m\u001b[0m\u001b[0m\n",
      "\u001b[1;32m~\\AppData\\Local\\Temp\\ipykernel_24496\\3811477199.py\u001b[0m in \u001b[0;36mvalidation\u001b[1;34m(dataloader, model, loss_fn)\u001b[0m\n\u001b[0;32m     15\u001b[0m         \u001b[1;32mfor\u001b[0m \u001b[0mX\u001b[0m\u001b[1;33m,\u001b[0m \u001b[0my\u001b[0m \u001b[1;32min\u001b[0m \u001b[0mdataloader\u001b[0m\u001b[1;33m:\u001b[0m\u001b[1;33m\u001b[0m\u001b[1;33m\u001b[0m\u001b[0m\n\u001b[0;32m     16\u001b[0m             \u001b[0mX\u001b[0m\u001b[1;33m,\u001b[0m \u001b[0my\u001b[0m \u001b[1;33m=\u001b[0m \u001b[0mX\u001b[0m\u001b[1;33m.\u001b[0m\u001b[0mto\u001b[0m\u001b[1;33m(\u001b[0m\u001b[0mdevice\u001b[0m\u001b[1;33m)\u001b[0m\u001b[1;33m,\u001b[0m \u001b[0my\u001b[0m\u001b[1;33m.\u001b[0m\u001b[0mto\u001b[0m\u001b[1;33m(\u001b[0m\u001b[0mdevice\u001b[0m\u001b[1;33m)\u001b[0m\u001b[1;33m\u001b[0m\u001b[1;33m\u001b[0m\u001b[0m\n\u001b[1;32m---> 17\u001b[1;33m             \u001b[0mpred\u001b[0m \u001b[1;33m=\u001b[0m \u001b[0mmodel\u001b[0m\u001b[1;33m(\u001b[0m\u001b[0mX\u001b[0m\u001b[1;33m[\u001b[0m\u001b[1;33m:\u001b[0m\u001b[1;33m,\u001b[0m\u001b[1;33m:\u001b[0m\u001b[1;33m,\u001b[0m\u001b[1;33m:\u001b[0m\u001b[1;36m3750\u001b[0m\u001b[1;33m]\u001b[0m\u001b[1;33m)\u001b[0m\u001b[1;33m\u001b[0m\u001b[1;33m\u001b[0m\u001b[0m\n\u001b[0m\u001b[0;32m     18\u001b[0m             \u001b[0mvalidation_loss\u001b[0m \u001b[1;33m+=\u001b[0m \u001b[0mloss_fn\u001b[0m\u001b[1;33m(\u001b[0m\u001b[0mpred\u001b[0m\u001b[1;33m,\u001b[0m \u001b[0my\u001b[0m\u001b[1;33m)\u001b[0m\u001b[1;33m.\u001b[0m\u001b[0mitem\u001b[0m\u001b[1;33m(\u001b[0m\u001b[1;33m)\u001b[0m\u001b[1;33m\u001b[0m\u001b[1;33m\u001b[0m\u001b[0m\n\u001b[0;32m     19\u001b[0m             \u001b[0mcorrect\u001b[0m \u001b[1;33m=\u001b[0m \u001b[1;36m0\u001b[0m\u001b[1;33m\u001b[0m\u001b[1;33m\u001b[0m\u001b[0m\n",
      "\u001b[1;32mc:\\anaconda3\\envs\\SED\\lib\\site-packages\\torch\\nn\\modules\\module.py\u001b[0m in \u001b[0;36m_call_impl\u001b[1;34m(self, *input, **kwargs)\u001b[0m\n\u001b[0;32m   1128\u001b[0m         if not (self._backward_hooks or self._forward_hooks or self._forward_pre_hooks or _global_backward_hooks\n\u001b[0;32m   1129\u001b[0m                 or _global_forward_hooks or _global_forward_pre_hooks):\n\u001b[1;32m-> 1130\u001b[1;33m             \u001b[1;32mreturn\u001b[0m \u001b[0mforward_call\u001b[0m\u001b[1;33m(\u001b[0m\u001b[1;33m*\u001b[0m\u001b[0minput\u001b[0m\u001b[1;33m,\u001b[0m \u001b[1;33m**\u001b[0m\u001b[0mkwargs\u001b[0m\u001b[1;33m)\u001b[0m\u001b[1;33m\u001b[0m\u001b[1;33m\u001b[0m\u001b[0m\n\u001b[0m\u001b[0;32m   1131\u001b[0m         \u001b[1;31m# Do not call functions when jit is used\u001b[0m\u001b[1;33m\u001b[0m\u001b[1;33m\u001b[0m\u001b[1;33m\u001b[0m\u001b[0m\n\u001b[0;32m   1132\u001b[0m         \u001b[0mfull_backward_hooks\u001b[0m\u001b[1;33m,\u001b[0m \u001b[0mnon_full_backward_hooks\u001b[0m \u001b[1;33m=\u001b[0m \u001b[1;33m[\u001b[0m\u001b[1;33m]\u001b[0m\u001b[1;33m,\u001b[0m \u001b[1;33m[\u001b[0m\u001b[1;33m]\u001b[0m\u001b[1;33m\u001b[0m\u001b[1;33m\u001b[0m\u001b[0m\n",
      "\u001b[1;32mz:\\nas1_data\\user\\hhj\\hab\\sound_event_detection_traffic_surveillance\\nnet\\CRNN.py\u001b[0m in \u001b[0;36mforward\u001b[1;34m(self, x)\u001b[0m\n\u001b[0;32m     79\u001b[0m     \u001b[1;31m#input size : (batch_size, n_channels, n_frames/n_segment, n_freq) <- mel spectogram\u001b[0m\u001b[1;33m\u001b[0m\u001b[1;33m\u001b[0m\u001b[1;33m\u001b[0m\u001b[0m\n\u001b[0;32m     80\u001b[0m     \u001b[0mx\u001b[0m \u001b[1;33m=\u001b[0m \u001b[0mself\u001b[0m\u001b[1;33m.\u001b[0m\u001b[0mcnn\u001b[0m\u001b[1;33m(\u001b[0m\u001b[0mx\u001b[0m\u001b[1;33m)\u001b[0m\u001b[1;33m\u001b[0m\u001b[1;33m\u001b[0m\u001b[0m\n\u001b[1;32m---> 81\u001b[1;33m     \u001b[0mx\u001b[0m \u001b[1;33m=\u001b[0m \u001b[0mself\u001b[0m\u001b[1;33m.\u001b[0m\u001b[0mrnn\u001b[0m\u001b[1;33m(\u001b[0m\u001b[0mx\u001b[0m\u001b[1;33m)\u001b[0m\u001b[1;33m\u001b[0m\u001b[1;33m\u001b[0m\u001b[0m\n\u001b[0m\u001b[0;32m     82\u001b[0m     \u001b[0mx\u001b[0m \u001b[1;33m=\u001b[0m \u001b[0mself\u001b[0m\u001b[1;33m.\u001b[0m\u001b[0mdropout\u001b[0m\u001b[1;33m(\u001b[0m\u001b[0mx\u001b[0m\u001b[1;33m)\u001b[0m\u001b[1;33m\u001b[0m\u001b[1;33m\u001b[0m\u001b[0m\n\u001b[0;32m     83\u001b[0m     \u001b[0mx\u001b[0m \u001b[1;33m=\u001b[0m \u001b[0mself\u001b[0m\u001b[1;33m.\u001b[0m\u001b[0mdense\u001b[0m\u001b[1;33m(\u001b[0m\u001b[0mx\u001b[0m\u001b[1;33m)\u001b[0m\u001b[1;33m\u001b[0m\u001b[1;33m\u001b[0m\u001b[0m\n",
      "\u001b[1;32mc:\\anaconda3\\envs\\SED\\lib\\site-packages\\torch\\nn\\modules\\module.py\u001b[0m in \u001b[0;36m_call_impl\u001b[1;34m(self, *input, **kwargs)\u001b[0m\n\u001b[0;32m   1128\u001b[0m         if not (self._backward_hooks or self._forward_hooks or self._forward_pre_hooks or _global_backward_hooks\n\u001b[0;32m   1129\u001b[0m                 or _global_forward_hooks or _global_forward_pre_hooks):\n\u001b[1;32m-> 1130\u001b[1;33m             \u001b[1;32mreturn\u001b[0m \u001b[0mforward_call\u001b[0m\u001b[1;33m(\u001b[0m\u001b[1;33m*\u001b[0m\u001b[0minput\u001b[0m\u001b[1;33m,\u001b[0m \u001b[1;33m**\u001b[0m\u001b[0mkwargs\u001b[0m\u001b[1;33m)\u001b[0m\u001b[1;33m\u001b[0m\u001b[1;33m\u001b[0m\u001b[0m\n\u001b[0m\u001b[0;32m   1131\u001b[0m         \u001b[1;31m# Do not call functions when jit is used\u001b[0m\u001b[1;33m\u001b[0m\u001b[1;33m\u001b[0m\u001b[1;33m\u001b[0m\u001b[0m\n\u001b[0;32m   1132\u001b[0m         \u001b[0mfull_backward_hooks\u001b[0m\u001b[1;33m,\u001b[0m \u001b[0mnon_full_backward_hooks\u001b[0m \u001b[1;33m=\u001b[0m \u001b[1;33m[\u001b[0m\u001b[1;33m]\u001b[0m\u001b[1;33m,\u001b[0m \u001b[1;33m[\u001b[0m\u001b[1;33m]\u001b[0m\u001b[1;33m\u001b[0m\u001b[1;33m\u001b[0m\u001b[0m\n",
      "\u001b[1;32mz:\\nas1_data\\user\\hhj\\hab\\sound_event_detection_traffic_surveillance\\nnet\\CRNN.py\u001b[0m in \u001b[0;36mforward\u001b[1;34m(self, input_feat)\u001b[0m\n\u001b[0;32m     59\u001b[0m \u001b[1;33m\u001b[0m\u001b[0m\n\u001b[0;32m     60\u001b[0m     \u001b[1;32mdef\u001b[0m \u001b[0mforward\u001b[0m\u001b[1;33m(\u001b[0m\u001b[0mself\u001b[0m\u001b[1;33m,\u001b[0m \u001b[0minput_feat\u001b[0m\u001b[1;33m)\u001b[0m\u001b[1;33m:\u001b[0m\u001b[1;33m\u001b[0m\u001b[1;33m\u001b[0m\u001b[0m\n\u001b[1;32m---> 61\u001b[1;33m         \u001b[0mrecurrent\u001b[0m\u001b[1;33m,\u001b[0m \u001b[0m_\u001b[0m \u001b[1;33m=\u001b[0m \u001b[0mself\u001b[0m\u001b[1;33m.\u001b[0m\u001b[0mrnn\u001b[0m\u001b[1;33m(\u001b[0m\u001b[0minput_feat\u001b[0m\u001b[1;33m)\u001b[0m\u001b[1;33m\u001b[0m\u001b[1;33m\u001b[0m\u001b[0m\n\u001b[0m\u001b[0;32m     62\u001b[0m         \u001b[1;32mreturn\u001b[0m \u001b[0mrecurrent\u001b[0m\u001b[1;33m\u001b[0m\u001b[1;33m\u001b[0m\u001b[0m\n\u001b[0;32m     63\u001b[0m \u001b[1;33m\u001b[0m\u001b[0m\n",
      "\u001b[1;32mc:\\anaconda3\\envs\\SED\\lib\\site-packages\\torch\\nn\\modules\\module.py\u001b[0m in \u001b[0;36m_call_impl\u001b[1;34m(self, *input, **kwargs)\u001b[0m\n\u001b[0;32m   1128\u001b[0m         if not (self._backward_hooks or self._forward_hooks or self._forward_pre_hooks or _global_backward_hooks\n\u001b[0;32m   1129\u001b[0m                 or _global_forward_hooks or _global_forward_pre_hooks):\n\u001b[1;32m-> 1130\u001b[1;33m             \u001b[1;32mreturn\u001b[0m \u001b[0mforward_call\u001b[0m\u001b[1;33m(\u001b[0m\u001b[1;33m*\u001b[0m\u001b[0minput\u001b[0m\u001b[1;33m,\u001b[0m \u001b[1;33m**\u001b[0m\u001b[0mkwargs\u001b[0m\u001b[1;33m)\u001b[0m\u001b[1;33m\u001b[0m\u001b[1;33m\u001b[0m\u001b[0m\n\u001b[0m\u001b[0;32m   1131\u001b[0m         \u001b[1;31m# Do not call functions when jit is used\u001b[0m\u001b[1;33m\u001b[0m\u001b[1;33m\u001b[0m\u001b[1;33m\u001b[0m\u001b[0m\n\u001b[0;32m   1132\u001b[0m         \u001b[0mfull_backward_hooks\u001b[0m\u001b[1;33m,\u001b[0m \u001b[0mnon_full_backward_hooks\u001b[0m \u001b[1;33m=\u001b[0m \u001b[1;33m[\u001b[0m\u001b[1;33m]\u001b[0m\u001b[1;33m,\u001b[0m \u001b[1;33m[\u001b[0m\u001b[1;33m]\u001b[0m\u001b[1;33m\u001b[0m\u001b[1;33m\u001b[0m\u001b[0m\n",
      "\u001b[1;32mc:\\anaconda3\\envs\\SED\\lib\\site-packages\\torch\\nn\\modules\\rnn.py\u001b[0m in \u001b[0;36mforward\u001b[1;34m(self, input, hx)\u001b[0m\n\u001b[0;32m    949\u001b[0m         \u001b[1;32mif\u001b[0m \u001b[0mbatch_sizes\u001b[0m \u001b[1;32mis\u001b[0m \u001b[1;32mNone\u001b[0m\u001b[1;33m:\u001b[0m\u001b[1;33m\u001b[0m\u001b[1;33m\u001b[0m\u001b[0m\n\u001b[0;32m    950\u001b[0m             result = _VF.gru(input, hx, self._flat_weights, self.bias, self.num_layers,\n\u001b[1;32m--> 951\u001b[1;33m                              self.dropout, self.training, self.bidirectional, self.batch_first)\n\u001b[0m\u001b[0;32m    952\u001b[0m         \u001b[1;32melse\u001b[0m\u001b[1;33m:\u001b[0m\u001b[1;33m\u001b[0m\u001b[1;33m\u001b[0m\u001b[0m\n\u001b[0;32m    953\u001b[0m             result = _VF.gru(input, batch_sizes, hx, self._flat_weights, self.bias,\n",
      "\u001b[1;31mKeyboardInterrupt\u001b[0m: "
     ]
    }
   ],
   "source": [
    "best_loss = 1000\n",
    "\n",
    "for t in range(epochs):\n",
    "    print(f\"Epoch {t+1}\\n-------------------------------\")\n",
    "    train_loss = train(train_dataloader, model, loss_fn, optimizer, epoch = t+1)\n",
    "    validation_loss, score = validation(validation_dataloader, model, loss_fn)\n",
    "\n",
    "    # tensor board\n",
    "    writer.add_scalar('training loss', train_loss, t+1)\n",
    "    writer.add_scalar('validation loss', validation_loss, t+1)\n",
    "\n",
    "    # model save\n",
    "    save(EPOCH = t+1, net = model, optimizer = optimizer, TRAIN_LOSS = train_loss, VAL_LOSS = validation_loss, PATH = ckpt_dir)\n",
    "    if validation_loss < best_loss:\n",
    "\n",
    "        best_loss = validation_loss\n",
    "        save_best_model(f1score = score, EPOCH = t+1, net = model, optimizer = optimizer, TRAIN_LOSS = train_loss, VAL_LOSS = validation_loss, PATH = ckpt_dir)\n",
    "        print(f\"--------------------------------------------\")\n",
    "        \n",
    "print(\"Done!\")"
   ]
  },
  {
   "cell_type": "markdown",
   "metadata": {},
   "source": [
    "### 8. test"
   ]
  },
  {
   "cell_type": "code",
   "execution_count": 29,
   "metadata": {},
   "outputs": [],
   "source": [
    "with open(args.conf_file, \"r\") as f:\n",
    "    conf = yaml.safe_load(f)"
   ]
  },
  {
   "cell_type": "code",
   "execution_count": 34,
   "metadata": {},
   "outputs": [],
   "source": [
    "conf['test']['ckpt_path'] = './checkpoint\\MIVIA_2022_08_17_11_31'"
   ]
  },
  {
   "cell_type": "code",
   "execution_count": 35,
   "metadata": {},
   "outputs": [],
   "source": [
    "\n",
    "\n",
    "def print_stats(waveform, sample_rate=None, src=None):\n",
    "  if src:\n",
    "    print(\"-\" * 10)\n",
    "    print(\"Source:\", src)\n",
    "    print(\"-\" * 10)\n",
    "  if sample_rate:\n",
    "    print(\"Sample Rate:\", sample_rate)\n",
    "  print(\"Shape:\", tuple(waveform.shape))\n",
    "  print(\"Dtype:\", waveform.dtype)\n",
    "  print(f\" - Max:     {waveform.max().item():6.3f}\")\n",
    "  print(f\" - Min:     {waveform.min().item():6.3f}\")\n",
    "  print(f\" - Mean:    {waveform.mean().item():6.3f}\")\n",
    "  print(f\" - Std Dev: {waveform.std().item():6.3f}\")\n",
    "  print()\n",
    "  print(waveform)\n",
    "  print()\n",
    "\n",
    "def plot_spectrogram(spec, title=None, ylabel='freq_bin', aspect='auto', xmax=None):\n",
    "  fig, axs = plt.subplots(1, 1)\n",
    "  axs.set_title(title or 'Spectrogram (db)')\n",
    "  axs.set_ylabel(ylabel)\n",
    "  axs.set_xlabel('frame')\n",
    "  im = axs.imshow(librosa.power_to_db(spec), origin='lower', aspect=aspect)\n",
    "  if xmax:\n",
    "    axs.set_xlim((0, xmax))\n",
    "  fig.colorbar(im, ax=axs)\n",
    "  # plt.show(block=False)\n",
    "\n",
    "  fig.canvas.draw()\n",
    "  plot = fig2np(fig)\n",
    "  return plot\n",
    "\n",
    "def plot_waveform(waveform, sample_rate, title=\"Waveform\", xlim=None, ylim=None):\n",
    "  waveform = waveform.numpy()\n",
    "\n",
    "  num_channels, num_frames = waveform.shape\n",
    "  time_axis = torch.arange(0, num_frames) / sample_rate\n",
    "\n",
    "  figure, axes = plt.subplots(num_channels, 1)\n",
    "  if num_channels == 1:\n",
    "    axes = [axes]\n",
    "  for c in range(num_channels):\n",
    "    axes[c].plot(time_axis, waveform[c], linewidth=1)\n",
    "    axes[c].grid(True)\n",
    "    if num_channels > 1:\n",
    "      axes[c].set_ylabel(f'Channel {c+1}')\n",
    "    if xlim:\n",
    "      axes[c].set_xlim(xlim)\n",
    "    if ylim:\n",
    "      axes[c].set_ylim(ylim)\n",
    "  figure.suptitle(title)\n",
    "  plt.show(block=False)\n",
    "\n",
    "### This function(play_audio) operates only on jupyter notebook.(not vscode)\n",
    "def play_audio(waveform, sample_rate):\n",
    "  waveform = waveform.numpy()\n",
    "\n",
    "  num_channels, num_frames = waveform.shape\n",
    "  if num_channels == 1:\n",
    "    display(Audio(waveform[0], rate=sample_rate))\n",
    "  elif num_channels == 2:\n",
    "    display(Audio((waveform[0], waveform[1]), rate=sample_rate))\n",
    "  else:\n",
    "    raise ValueError(\"Waveform with more than 2 channels are not supported.\")\n",
    "\n",
    "\n",
    "def fig2np(fig):\n",
    "    data = np.fromstring(fig.canvas.tostring_rgb(), dtype=np.uint8, sep='')\n",
    "    data = data.reshape(fig.canvas.get_width_height()[::-1] + (3,))\n",
    "    return data\n",
    "\n",
    "\n",
    "\n",
    "\n",
    "\n",
    "\n",
    "\n",
    "\n"
   ]
  },
  {
   "cell_type": "code",
   "execution_count": 39,
   "metadata": {},
   "outputs": [],
   "source": [
    "########################################################################################################################\n",
    "#                                                         TEST                                                         #\n",
    "########################################################################################################################\n",
    "\n",
    "def test(dataloader, model, loss_fn):\n",
    "    size = len(dataloader.dataset)\n",
    "    num_batches = len(dataloader)\n",
    "\n",
    "    ### 로드 추가(only model)\n",
    "    model, _, _, _, _ = load_bestmodel(PATH = conf['test']['ckpt_path'], model = model, optimizer = optimizer, device = torch.device('cuda')) # best model\n",
    "\n",
    "    model.eval()\n",
    "    test_loss, correct = 0, 0\n",
    "\n",
    "    score = 0.0 #임시로 추가 1\n",
    "\n",
    "    with torch.no_grad():\n",
    "        for i, (X, y) in enumerate(dataloader):\n",
    "            X, y = X.to(device), y.to(device) # X : [batchsize, frequency, frame]\n",
    "            pred = model(X[:,:,:3750]) #[batchsize, frame, class]\n",
    "            test_loss += loss_fn(pred, y).item()\n",
    "\n",
    "            # input feature visualization torch.ge(pred, 0.5)\n",
    "\n",
    "            mod_binary = torch.ge(pred, 0.4)\n",
    "\n",
    "            ### 임시로 추가 2\n",
    "            mod_binary = torch.ge(pred, 0.4)\n",
    "            label_binary = torch.ge(y, 0.4)\n",
    "            is_correct = torch.eq(mod_binary, label_binary)\n",
    "            score += F1_score(mod_binary,is_correct,y)\n",
    "            ### 임시로 추가 \n",
    "\n",
    "            \n",
    "            \n",
    "            \n",
    "            \n",
    "\n",
    "            # writer.add_image(f'spectrogram{i}', plot_spectrogram(X.cpu().squeeze(), title = f'{i}'))\n",
    "            # writer.add_image(f'label{i}', matplotlib_label_show(y.cpu().squeeze(), title = f'label {i}'))\n",
    "            # writer.add_image(f'prediction{i}', matplotlib_label_show(pred.detach().cpu().squeeze(), title = f'prediction {i}'))\n",
    "            # writer.add_image(f'post{i}', matplotlib_label_show(mod_binary.detach().cpu().squeeze(), title = f'post {i}'))\n",
    "\n",
    "            correct = 0\n",
    "            # correct += (pred.argmax(1) == /y).type(torch.float).sum().item()\n",
    "\n",
    "    test_loss /= num_batches\n",
    "    correct /= size\n",
    "\n",
    "    score /= num_batches # 임시로 추가 3\n",
    "\n",
    "\n",
    "    # ...학습 중 손실(running loss)을 기록하고\n",
    "    writer.add_scalar('test loss', test_loss)\n",
    "    print(f\"test Error: \\n Accuracy: {(100*correct):>0.1f}%, Avg loss: {test_loss:>8f}, f1 : {score} \\n\")\n",
    "\n",
    "    return test_loss"
   ]
  },
  {
   "cell_type": "code",
   "execution_count": 40,
   "metadata": {},
   "outputs": [
    {
     "name": "stdout",
     "output_type": "stream",
     "text": [
      "test Error: \n",
      " Accuracy: 0.0%, Avg loss: 0.081571, f1 : 0.8238625781876701 \n",
      "\n",
      "0.08157054467925004\n"
     ]
    }
   ],
   "source": [
    "test_loss = test(test_dataloader, model, loss_fn)\n",
    "print(test_loss)"
   ]
  },
  {
   "cell_type": "markdown",
   "metadata": {},
   "source": [
    "### test 결과 시각화"
   ]
  },
  {
   "cell_type": "code",
   "execution_count": 115,
   "metadata": {},
   "outputs": [],
   "source": [
    "import scipy\n",
    "\n",
    "def matplotlib_label_show(target):\n",
    "    n_frame = target.shape[0] # target.shape[0] = segment\n",
    "\n",
    "    fig = plt.figure()\n",
    "    ax1 = fig.add_subplot(111)\n",
    "\n",
    "    x = np.arange(n_frame)  #(60,)\n",
    "    y1 = target[:,0]        #(60,) \n",
    "    y2 = target[:,1]        #(60,) tire skidding\n",
    "    y3 = target[:,2]        #(60,) car crash\n",
    "\n",
    "    ax1.plot(x, y1, label = 'scream')\n",
    "    ax1.plot(x, y2, label = 'tire skidding', color = 'orange')\n",
    "    ax1.plot(x, y3, label = 'car crash', color = 'green')\n",
    "\n",
    "\n",
    "    ax1.legend(framealpha = 1, loc = 'lower right', bbox_to_anchor=(1.4,0))\n",
    "    # ax1.set_title('{}'.format(xmlfile))\n",
    "\n",
    "\n",
    "    plt.show()\n",
    "\n",
    "\n",
    "def median_filter(pred, median_window, thresholds):\n",
    "    # pred : [batch, frame, class]\n",
    "    pred = pred.squeeze() # [frame, class]\n",
    "    post_filter = scipy.ndimage.filters.median_filter(pred.cpu().detach().numpy(), (median_window, 1)) # [frames, class]\n",
    "    post_filter = (post_filter>thresholds).astype(float)\n",
    "    \n",
    "    return torch.Tensor(post_filter).unsqueeze(0)"
   ]
  },
  {
   "cell_type": "code",
   "execution_count": 236,
   "metadata": {},
   "outputs": [],
   "source": [
    "spectrogram, label = next(iter(test_dataloader))"
   ]
  },
  {
   "cell_type": "code",
   "execution_count": 42,
   "metadata": {},
   "outputs": [],
   "source": [
    "for i, (x, y) in enumerate(test_dataloader):\n",
    "    if i == 3: \n",
    "        spectrogram = x\n",
    "        label = y\n",
    "\n",
    "\n",
    "        break"
   ]
  },
  {
   "cell_type": "code",
   "execution_count": 69,
   "metadata": {},
   "outputs": [],
   "source": [
    "label = label.to(device)\n",
    "spectrogram = spectrogram.to(device)"
   ]
  },
  {
   "cell_type": "code",
   "execution_count": 70,
   "metadata": {},
   "outputs": [],
   "source": [
    "model, _, _, _, _ = load_bestmodel(PATH = conf['test']['ckpt_path'], model = model, optimizer = optimizer, device = torch.device('cuda'))\n",
    "loss_fn = nn.BCELoss()\n",
    "optimizer = torch.optim.Adam(model.parameters(), lr=learning_rate)"
   ]
  },
  {
   "cell_type": "code",
   "execution_count": 71,
   "metadata": {},
   "outputs": [],
   "source": [
    "pred = model(spectrogram[:,:,:3750])\n",
    "\n",
    "post = torch.ge(pred, 0.5)\n",
    "post_filter = median_filter(pred, conf['test']['median_window'], conf['test']['threshold'])"
   ]
  },
  {
   "cell_type": "code",
   "execution_count": 72,
   "metadata": {},
   "outputs": [
    {
     "name": "stdout",
     "output_type": "stream",
     "text": [
      "<built-in method type of Tensor object at 0x000002045E08F188> cuda:0\n",
      "<built-in method type of Tensor object at 0x000002045E028E58> cuda:0\n",
      "<built-in method type of Tensor object at 0x000002047125BC28> cpu\n",
      "0.7\n"
     ]
    }
   ],
   "source": [
    "print(pred.type, pred.device)\n",
    "print(post.type, post.device)\n",
    "print(post_filter.type, post_filter.device)\n",
    "print(conf['test']['threshold'])"
   ]
  },
  {
   "cell_type": "code",
   "execution_count": 73,
   "metadata": {},
   "outputs": [
    {
     "data": {
      "image/png": "[encoded data removed]",
      "text/plain": [
       "<Figure size 432x288 with 1 Axes>"
      ]
     },
     "metadata": {
      "needs_background": "light"
     },
     "output_type": "display_data"
    },
    {
     "data": {
      "image/png": "[encoded data removed]",
      "text/plain": [
       "<Figure size 432x288 with 1 Axes>"
      ]
     },
     "metadata": {
      "needs_background": "light"
     },
     "output_type": "display_data"
    },
    {
     "data": {
      "image/png": "[encoded data removed]",
      "text/plain": [
       "<Figure size 432x288 with 1 Axes>"
      ]
     },
     "metadata": {
      "needs_background": "light"
     },
     "output_type": "display_data"
    },
    {
     "data": {
      "image/png": "[encoded data removed]",
      "text/plain": [
       "<Figure size 432x288 with 1 Axes>"
      ]
     },
     "metadata": {
      "needs_background": "light"
     },
     "output_type": "display_data"
    }
   ],
   "source": [
    "matplotlib_label_show(label.cpu().squeeze())\n",
    "matplotlib_label_show(pred.detach().cpu().squeeze())\n",
    "matplotlib_label_show(post.detach().cpu().squeeze())\n",
    "matplotlib_label_show(post_filter.squeeze())\n"
   ]
  },
  {
   "cell_type": "markdown",
   "metadata": {},
   "source": [
    "### median filter test"
   ]
  },
  {
   "cell_type": "code",
   "execution_count": 74,
   "metadata": {},
   "outputs": [
    {
     "data": {
      "text/plain": [
       "torch.Tensor"
      ]
     },
     "execution_count": 74,
     "metadata": {},
     "output_type": "execute_result"
    }
   ],
   "source": [
    "type(pred)"
   ]
  },
  {
   "cell_type": "code",
   "execution_count": 75,
   "metadata": {},
   "outputs": [],
   "source": [
    "pred_threshold = pred.detach().cpu().numpy() > conf['test']['threshold']"
   ]
  },
  {
   "cell_type": "code",
   "execution_count": 76,
   "metadata": {},
   "outputs": [
    {
     "name": "stdout",
     "output_type": "stream",
     "text": [
      "<class 'numpy.ndarray'>\n",
      "[[[False False False]\n",
      "  [False False False]\n",
      "  [False False False]\n",
      "  ...\n",
      "  [False False False]\n",
      "  [False False False]\n",
      "  [False False  True]]]\n",
      "(1, 3750, 3)\n"
     ]
    }
   ],
   "source": [
    "print(type(pred_threshold))\n",
    "print(pred_threshold)\n",
    "print(pred_threshold.shape)"
   ]
  },
  {
   "cell_type": "code",
   "execution_count": 77,
   "metadata": {},
   "outputs": [],
   "source": [
    "pred_threshold_median = scipy.ndimage.filters.median_filter(pred_threshold.squeeze(), (7, 1))"
   ]
  },
  {
   "cell_type": "code",
   "execution_count": 78,
   "metadata": {},
   "outputs": [
    {
     "name": "stdout",
     "output_type": "stream",
     "text": [
      "[[False False False]\n",
      " [False False False]\n",
      " [False False False]\n",
      " ...\n",
      " [False False False]\n",
      " [False False False]\n",
      " [False False False]]\n"
     ]
    }
   ],
   "source": [
    "print(pred_threshold_median)"
   ]
  },
  {
   "cell_type": "code",
   "execution_count": 83,
   "metadata": {},
   "outputs": [
    {
     "name": "stdout",
     "output_type": "stream",
     "text": [
      "False\n",
      "False\n"
     ]
    }
   ],
   "source": [
    "print((pred_threshold == pred_threshold_median).all())\n",
    "print(np.array_equal(pred_threshold_median, pred_threshold))"
   ]
  },
  {
   "cell_type": "code",
   "execution_count": 86,
   "metadata": {},
   "outputs": [
    {
     "name": "stdout",
     "output_type": "stream",
     "text": [
      "(1, 3750, 3)\n",
      "<class 'numpy.ndarray'>\n"
     ]
    }
   ],
   "source": [
    "print(pred_threshold.shape)\n",
    "print(type(pred_threshold))"
   ]
  },
  {
   "cell_type": "code",
   "execution_count": 113,
   "metadata": {},
   "outputs": [
    {
     "data": {
      "text/plain": [
       "<matplotlib.image.AxesImage at 0x204787e9c08>"
      ]
     },
     "execution_count": 113,
     "metadata": {},
     "output_type": "execute_result"
    },
    {
     "data": {
      "image/png": "[encoded data removed]",
      "text/plain": [
       "<Figure size 720x432 with 1 Axes>"
      ]
     },
     "metadata": {
      "needs_background": "light"
     },
     "output_type": "display_data"
    }
   ],
   "source": [
    "plt.figure(figsize=(10, 6))\n",
    "plt.subplot(3, 1, 3)\n",
    "plt.imshow(pred.cpu().detach().numpy().squeeze().T, aspect='auto', interpolation='nearest', cmap='gray_r')"
   ]
  },
  {
   "cell_type": "code",
   "execution_count": 103,
   "metadata": {},
   "outputs": [
    {
     "data": {
      "text/plain": [
       "<matplotlib.image.AxesImage at 0x2047126a748>"
      ]
     },
     "execution_count": 103,
     "metadata": {},
     "output_type": "execute_result"
    },
    {
     "data": {
      "image/png": "[encoded data removed]",
      "text/plain": [
       "<Figure size 720x432 with 1 Axes>"
      ]
     },
     "metadata": {
      "needs_background": "light"
     },
     "output_type": "display_data"
    }
   ],
   "source": [
    "plt.figure(figsize=(10, 6))\n",
    "plt.subplot(3, 1, 3)\n",
    "plt.imshow(pred_threshold.squeeze().T, aspect='auto', interpolation='nearest', cmap='gray_r')"
   ]
  },
  {
   "cell_type": "code",
   "execution_count": 105,
   "metadata": {},
   "outputs": [
    {
     "data": {
      "text/plain": [
       "<matplotlib.image.AxesImage at 0x2043fd96788>"
      ]
     },
     "execution_count": 105,
     "metadata": {},
     "output_type": "execute_result"
    },
    {
     "data": {
      "image/png": "[encoded data removed]",
      "text/plain": [
       "<Figure size 720x432 with 1 Axes>"
      ]
     },
     "metadata": {
      "needs_background": "light"
     },
     "output_type": "display_data"
    }
   ],
   "source": [
    "plt.figure(figsize=(10, 6))\n",
    "plt.subplot(3, 1, 3)\n",
    "plt.imshow(pred_threshold_median.squeeze().T, aspect='auto', interpolation='nearest', cmap='gray_r')"
   ]
  },
  {
   "cell_type": "code",
   "execution_count": 104,
   "metadata": {},
   "outputs": [
    {
     "data": {
      "text/plain": [
       "<matplotlib.image.AxesImage at 0x2043fd17c88>"
      ]
     },
     "execution_count": 104,
     "metadata": {},
     "output_type": "execute_result"
    },
    {
     "data": {
      "image/png": "[encoded data removed]",
      "text/plain": [
       "<Figure size 720x432 with 1 Axes>"
      ]
     },
     "metadata": {
      "needs_background": "light"
     },
     "output_type": "display_data"
    }
   ],
   "source": [
    "plt.figure(figsize=(10, 6))\n",
    "plt.subplot(3, 1, 3)\n",
    "plt.imshow(label.squeeze().cpu().T, aspect='auto', interpolation='nearest', cmap='gray_r')"
   ]
  },
  {
   "cell_type": "code",
   "execution_count": 100,
   "metadata": {},
   "outputs": [
    {
     "name": "stdout",
     "output_type": "stream",
     "text": [
      "torch.Size([3, 3750])\n",
      "(3, 3750)\n"
     ]
    }
   ],
   "source": [
    "print(label.squeeze().T.shape)\n",
    "print(pred_threshold.squeeze().T.shape)"
   ]
  },
  {
   "cell_type": "code",
   "execution_count": null,
   "metadata": {},
   "outputs": [],
   "source": []
  }
 ],
 "metadata": {
  "interpreter": {
   "hash": "a4ad0417facfa80d8f6e81d286e3c53318013c90ea417e991fd5d95e3de5f482"
  },
  "kernelspec": {
   "display_name": "Python 3.10.4 ('SED')",
   "language": "python",
   "name": "python3"
  },
  "language_info": {
   "codemirror_mode": {
    "name": "ipython",
    "version": 3
   },
   "file_extension": ".py",
   "mimetype": "text/x-python",
   "name": "python",
   "nbconvert_exporter": "python",
   "pygments_lexer": "ipython3",
   "version": "3.7.13"
  },
  "orig_nbformat": 4
 },
 "nbformat": 4,
 "nbformat_minor": 2
}
