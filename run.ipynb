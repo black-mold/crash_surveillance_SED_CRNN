{
 "cells": [
  {
   "cell_type": "markdown",
   "metadata": {},
   "source": [
    "### 참고\n",
    "* https://tutorials.pytorch.kr/intermediate/tensorboard_tutorial.html \n",
    "    * 텐서보드 튜토리얼\n",
    "* https://tutorials.pytorch.kr/beginner/basics/quickstart_tutorial.html\n",
    "    * 파이토치 빠른 시작\n",
    "* https://tutorials.pytorch.kr/recipes/recipes/saving_and_loading_a_general_checkpoint.html\n",
    "    * 체크포인트 저장\n",
    "* https://tutorials.pytorch.kr/beginner/saving_loading_models.html\n",
    "    * 모델 저장하기, 불러오기"
   ]
  },
  {
   "cell_type": "code",
   "execution_count": 6,
   "metadata": {},
   "outputs": [],
   "source": [
    "import argparse\n",
    "import yaml\n",
    "import torch\n",
    "import time\n",
    "\n",
    "from torch.utils.tensorboard import SummaryWriter\n",
    "from torch import nn\n",
    "\n",
    "from utils.dataset import *\n",
    "from utils.encoder import *\n",
    "from nnet.CRNN import *\n",
    "from utils.util import *\n",
    "\n",
    "# from nnet.CRNN import CRNN"
   ]
  },
  {
   "cell_type": "markdown",
   "metadata": {},
   "source": [
    "### 1. Argument 설정"
   ]
  },
  {
   "cell_type": "code",
   "execution_count": 7,
   "metadata": {},
   "outputs": [],
   "source": [
    "parser = argparse.ArgumentParser()\n",
    "\n",
    "parser.add_argument(\n",
    "    \"-d\", \"--data\", \n",
    "    default=\"MIVIA\", \n",
    "    action=\"store\",\n",
    "    help=\"The dataset using training\")\n",
    "\n",
    "parser.add_argument(\n",
    "    \"-c\", \"--conf_file\",\n",
    "    default=\"./config/default.yaml\", \n",
    "    help=\"The configuration file with all the experiment parameters.\",\n",
    "    )\n",
    "\n",
    "parser.add_argument(\n",
    "    \"-m\", \"--mode\",\n",
    "    default=\"train\", \n",
    "    help=\"train or test\",\n",
    "    )\n",
    "\n",
    "parser.add_argument(\n",
    "    \"--gpu\",\n",
    "    default=\"0\",\n",
    "    type = int,\n",
    "    help=\"The number of GPUs to train on, or the gpu to use, default='0', \"\n",
    "    \"so uses one GPU\",\n",
    ")\n",
    "\n",
    "parser.add_argument(\n",
    "    \"--test_from_checkpoint\", default=None, help=\"Test the model specified\"\n",
    ")\n",
    "\n",
    "# args = parser.parse_args()\n",
    "args = parser.parse_args([\"--data\", \"MIVIA\", \"--conf_file\", \"./config/default.yml\", \"-m\" \"train\"])\n"
   ]
  },
  {
   "cell_type": "code",
   "execution_count": 8,
   "metadata": {},
   "outputs": [],
   "source": [
    "with open(args.conf_file, \"r\") as f:\n",
    "    conf = yaml.safe_load(f)"
   ]
  },
  {
   "cell_type": "markdown",
   "metadata": {},
   "source": [
    "### 2. data configuration"
   ]
  },
  {
   "cell_type": "code",
   "execution_count": 9,
   "metadata": {},
   "outputs": [],
   "source": [
    "encoder = multi_label_encoder(\n",
    "    fs = conf['feats']['sample_rate'], \n",
    "    audio_len = conf['feats']['audio_len'], \n",
    "    n_fft = conf['feats']['n_fft'], \n",
    "    hop_length = conf['feats']['hop_length'], \n",
    "    net_pooling = conf['feats']['net_pooling']\n",
    "    )\n",
    "\n",
    "training_data = mivia(\n",
    "    conf['data']['audio_folder'], \n",
    "    encoder = encoder,\n",
    "    transform = MelSpectrogram_transform(conf['feats']),\n",
    "    target_transform= None, \n",
    "    partition = conf['data']['select_traindata'], \n",
    "    pad_to = conf['feats']['audio_len'],\n",
    "    fs = conf['feats']['sample_rate']\n",
    "    )\n",
    "\n",
    "test_data = mivia(\n",
    "    conf['data']['audio_folder'], \n",
    "    encoder = encoder,\n",
    "    transform = MelSpectrogram_transform(conf['feats']),\n",
    "    target_transform= None, \n",
    "    partition = conf['data']['select_testdata'], \n",
    "    pad_to = conf['feats']['audio_len'],\n",
    "    fs = conf['feats']['sample_rate']\n",
    "    )\n",
    "\n",
    "validation_data = mivia(\n",
    "    conf['data']['audio_folder'], \n",
    "    encoder = encoder,\n",
    "    transform = MelSpectrogram_transform(conf['feats']),\n",
    "    target_transform= None, \n",
    "    partition = conf['data']['select_valdata'], \n",
    "    pad_to = conf['feats']['audio_len'],\n",
    "    fs = conf['feats']['sample_rate']\n",
    "    )\n",
    "# test_data = mivia(conf['data']['audio_folder'], conf['data']['xml_folder'], encoder, partition = conf['data']['select_testdata'], transform = MelSpectrogram_transform(conf['feats']))"
   ]
  },
  {
   "cell_type": "code",
   "execution_count": 10,
   "metadata": {},
   "outputs": [
    {
     "name": "stdout",
     "output_type": "stream",
     "text": [
      "MelSpectrogram(\n",
      "  (spectrogram): Spectrogram()\n",
      "  (mel_scale): MelScale()\n",
      ")\n"
     ]
    }
   ],
   "source": [
    "print(MelSpectrogram_transform(conf['feats']))"
   ]
  },
  {
   "cell_type": "markdown",
   "metadata": {},
   "source": [
    "### 3. device, hyperparameter, tensorboard configuration "
   ]
  },
  {
   "cell_type": "code",
   "execution_count": 11,
   "metadata": {},
   "outputs": [
    {
     "name": "stderr",
     "output_type": "stream",
     "text": [
      "c:\\anaconda3\\envs\\SED\\lib\\importlib\\_bootstrap.py:219: RuntimeWarning: numpy.ndarray size changed, may indicate binary incompatibility. Expected 80 from C header, got 88 from PyObject\n",
      "  return f(*args, **kwds)\n"
     ]
    }
   ],
   "source": [
    "device = \"cuda\" if torch.cuda.is_available() else \"cpu\"\n",
    "\n",
    "# train, validation configuration\n",
    "learning_rate = conf['opt']['lr'] # 1e-3\n",
    "batch_size = conf['training']['batch_size']\n",
    "epochs = conf['training']['n_epochs']\n",
    "ckpt_dir = conf['training']['ckpt_path']\n",
    "log_dir = conf['training']['log_path']\n",
    "\n",
    "# save path(model) make\n",
    "ckpt_dir = os.path.join(ckpt_dir, args.data + time.strftime('_%Y_%m_%d_%I_%M',time.localtime(time.time()))) # './checkpoint\\\\MIVIA_2022_07_26_11_26'\n",
    "if not os.path.exists(ckpt_dir):\n",
    "    os.makedirs(ckpt_dir)\n",
    "\n",
    "# log path(tensorboard) make\n",
    "if args.test_from_checkpoint is not None: # test tensorboard directory configuration\n",
    "    log_dir = os.path.join(log_dir, os.path.basename(ckpt_dir), args.mode) # tensorboard directory\n",
    "else: # training / validation tensorboard directory\n",
    "    log_dir = os.path.join(log_dir, args.data + time.strftime('_%Y_%m_%d_%I_%M',time.localtime(time.time())), args.mode) # ./runs\\MIVIA_2022_07_26_11_46\\train\n",
    "\n",
    "writer = SummaryWriter(log_dir = log_dir)"
   ]
  },
  {
   "cell_type": "code",
   "execution_count": 12,
   "metadata": {},
   "outputs": [
    {
     "name": "stdout",
     "output_type": "stream",
     "text": [
      "./checkpoint\\MIVIA_2022_08_19_01_01\n",
      "./runs\\MIVIA_2022_08_19_01_01\\train\n"
     ]
    }
   ],
   "source": [
    "print(ckpt_dir)\n",
    "print(log_dir)"
   ]
  },
  {
   "cell_type": "code",
   "execution_count": 13,
   "metadata": {},
   "outputs": [],
   "source": [
    "train_dataloader = DataLoader(training_data, batch_size, shuffle=True)       # C, D\n",
    "validation_dataloader = DataLoader(validation_data, batch_size, shuffle = True) # B\n",
    "test_dataloader = DataLoader(test_data, 1, shuffle = False)             # A"
   ]
  },
  {
   "cell_type": "code",
   "execution_count": 14,
   "metadata": {},
   "outputs": [
    {
     "name": "stdout",
     "output_type": "stream",
     "text": [
      "15\n",
      "29\n",
      "7\n",
      "14\n",
      "14\n",
      "14\n"
     ]
    }
   ],
   "source": [
    "print(len(train_dataloader))\n",
    "print(len(train_dataloader.dataset))\n",
    "print(len(validation_dataloader)) # batch size 수\n",
    "print(len(validation_dataloader.dataset)) # 전체 sample 갯수\n",
    "print(len(test_dataloader))\n",
    "print(len(test_dataloader.dataset))"
   ]
  },
  {
   "cell_type": "markdown",
   "metadata": {},
   "source": [
    "### 4. model, loss function, optimizer 정의"
   ]
  },
  {
   "cell_type": "code",
   "execution_count": 15,
   "metadata": {},
   "outputs": [],
   "source": [
    "model = CRNN().to(device)\n",
    "loss_fn = nn.BCELoss()\n",
    "optimizer = torch.optim.Adam(model.parameters(), lr=learning_rate)"
   ]
  },
  {
   "cell_type": "markdown",
   "metadata": {},
   "source": [
    "### 5. train 정의"
   ]
  },
  {
   "cell_type": "code",
   "execution_count": 16,
   "metadata": {},
   "outputs": [],
   "source": [
    "########################################################################################################################\n",
    "#                                                         Train                                                        #\n",
    "########################################################################################################################\n",
    "def train(dataloader, model, loss_fn, optimizer, epoch):\n",
    "    size = len(dataloader.dataset)  # 전체 training data의 size\n",
    "    num_batches = len(dataloader)   # number of batch\n",
    "\n",
    "    ## 테스트 더 할라면 여기다가 load 추가, if문이 좋음.\n",
    "\n",
    "    model.train()\n",
    "\n",
    "    running_loss = 0.0\n",
    "    \n",
    "    for batch_idx, (X, y) in enumerate(dataloader, 0): \n",
    "        X, y = X.to(device), y.to(device)\n",
    "\n",
    "        # 예측 오류 계산\n",
    "        pred = model(X[:,:,:3750]) # [batch, frame, class]\n",
    "        loss = loss_fn(pred, y)  \n",
    "\n",
    "        # 역전파\n",
    "        optimizer.zero_grad()\n",
    "        loss.backward()\n",
    "        optimizer.step()\n",
    "\n",
    "        # loss 기록\n",
    "        running_loss += loss.item()\n",
    "\n",
    "        print(\"Train : EPOCH %04d / %04d  | BATCH %04d | LOSS %.4f\" %\n",
    "              (epoch, conf['training']['n_epochs'], batch_idx, running_loss/(batch_idx+1)))\n",
    "\n",
    "    running_loss = running_loss/num_batches #\n",
    "\n",
    "    return running_loss\n",
    "\n"
   ]
  },
  {
   "cell_type": "markdown",
   "metadata": {},
   "source": [
    "### 6. Validation\n",
    "* 4가지 임시로 추가함"
   ]
  },
  {
   "cell_type": "code",
   "execution_count": 17,
   "metadata": {},
   "outputs": [],
   "source": [
    "# 임시로 추가\n",
    "def F1_score(mod, TF, t_test):\n",
    "\n",
    "        TP = ((mod*TF) != 0).sum()\n",
    "        TN = (( (torch.logical_not(mod.type(torch.bool)))*TF) != 0).sum()\n",
    "        FP = ((mod*(torch.logical_not(TF.type(torch.bool)))) != 0).sum()\n",
    "        FN = (((torch.logical_not(mod.type(torch.bool)))*(torch.logical_not(TF.type(torch.bool)))) != 0).sum()\n",
    "        \n",
    "        # G_noCC = torch.logical_not(mod[:,0].type(torch.bool))\n",
    "        # G_noTS = torch.logical_not(mod[:,1].type(torch.bool))\n",
    "        # T11 = ((mod[:,0]*t_test[:,0]) != 0).sum()\n",
    "        # T12 = (((mod[:,1]*G_noCC)*t_test[:,0]) != 0).sum()\n",
    "        # T13 = (((G_noCC*G_noTS)*t_test[:,0]) != 0 ).sum()\n",
    "        # T21 = (((mod[:,0]*G_noTS)*t_test[:,1]) != 0).sum()\n",
    "        # T22 = ((mod[:,1]*t_test[:,1]) != 0).sum()\n",
    "        # T23 = (((G_noCC*G_noTS)*t_test[:,1]) != 0).sum()\n",
    "        # T = [[T11,T12,T13],[T21,T22,T23]]\n",
    "\n",
    "        P = torch.true_divide(TP,TP+FP + 0.00001)\n",
    "        R = torch.true_divide(TP,TP+FN + 0.00001)\n",
    "        F1 = torch.true_divide(2*P*R , P+R + 0.00001).item()\n",
    "        # ER = torch.true_divide(FP+FN,TP+FN).item()\n",
    "        # FPR = torch.true_divide(FP, FP+TN).item()\n",
    "        # #pdb.set_trace()\n",
    "        # acc = torch.true_divide(TP+TN , FP+FN+TP+TN).item()\n",
    "        \n",
    "        # Total = sum(sum(T, []))\n",
    "        # RecRate = (T[0][0]+T[1][1]).item()/ Total.item()\n",
    "        # MissRate = (T[0][2] + T[1][2]).item()/Total.item()\n",
    "        # ErrorRate = (T[0][1] + T[1][0]).item()/Total.item()\n",
    "\n",
    "        return F1"
   ]
  },
  {
   "cell_type": "code",
   "execution_count": 18,
   "metadata": {},
   "outputs": [],
   "source": [
    "########################################################################################################################\n",
    "#                                                      VALIDATION                                                      #\n",
    "########################################################################################################################\n",
    "\n",
    "def validation(dataloader, model, loss_fn):\n",
    "    size = len(dataloader.dataset)\n",
    "    num_batches = len(dataloader)\n",
    "\n",
    "    model.eval()\n",
    "    validation_loss, correct = 0, 0\n",
    "\n",
    "    score = 0.0 #임시로 추가 1\n",
    "\n",
    "    with torch.no_grad():\n",
    "        for X, y in dataloader:\n",
    "            X, y = X.to(device), y.to(device)\n",
    "            pred = model(X[:,:,:3750])\n",
    "            validation_loss += loss_fn(pred, y).item()\n",
    "            correct = 0\n",
    "            # correct += (pred.argmax(1) == y).type(torch.float).sum().item()\n",
    "\n",
    "            ### 임시로 추가 2\n",
    "\n",
    "            mod_binary = torch.ge(pred, 0.4)\n",
    "            label_binary = torch.ge(y, 0.4)\n",
    "            is_correct = torch.eq(mod_binary, label_binary)\n",
    "\n",
    "            score += F1_score(mod_binary,is_correct,y)\n",
    "\n",
    "            ### 임시로 추가 \n",
    "\n",
    "    validation_loss /= num_batches\n",
    "    correct /= size\n",
    "\n",
    "    score /= num_batches # 임시로 추가 3\n",
    "\n",
    "    print(f\"Validation Error: \\n Accuracy: {(100*correct):>0.1f}%, Avg loss: {validation_loss:>8f}, f1: {score} \\n\")\n",
    "\n",
    "    return validation_loss, score\n",
    "\n",
    "\n",
    "    # # 임시로 추가 4\n",
    "    # writer.add_scalar('f1', score, epoch)\n",
    "    # #임시로 추가\n",
    "\n",
    "    # print(f\"Validation Error: \\n Accuracy: {(100*correct):>0.1f}%, Avg loss: {validation_loss:>8f}, f1: {score} \\n\")"
   ]
  },
  {
   "cell_type": "markdown",
   "metadata": {},
   "source": [
    "### 7. train & validation 실행"
   ]
  },
  {
   "cell_type": "code",
   "execution_count": 14,
   "metadata": {},
   "outputs": [
    {
     "name": "stdout",
     "output_type": "stream",
     "text": [
      "Epoch 1\n",
      "-------------------------------\n",
      "Train : EPOCH 0001 / 0300  | BATCH 0000 | LOSS 0.6481\n",
      "Train : EPOCH 0001 / 0300  | BATCH 0001 | LOSS 0.5797\n",
      "Train : EPOCH 0001 / 0300  | BATCH 0002 | LOSS 0.5470\n",
      "Train : EPOCH 0001 / 0300  | BATCH 0003 | LOSS 0.5249\n",
      "Train : EPOCH 0001 / 0300  | BATCH 0004 | LOSS 0.5067\n",
      "Train : EPOCH 0001 / 0300  | BATCH 0005 | LOSS 0.4932\n",
      "Train : EPOCH 0001 / 0300  | BATCH 0006 | LOSS 0.4821\n",
      "Train : EPOCH 0001 / 0300  | BATCH 0007 | LOSS 0.4719\n",
      "Train : EPOCH 0001 / 0300  | BATCH 0008 | LOSS 0.4635\n",
      "Train : EPOCH 0001 / 0300  | BATCH 0009 | LOSS 0.4545\n",
      "Train : EPOCH 0001 / 0300  | BATCH 0010 | LOSS 0.4471\n",
      "Train : EPOCH 0001 / 0300  | BATCH 0011 | LOSS 0.4395\n",
      "Train : EPOCH 0001 / 0300  | BATCH 0012 | LOSS 0.4351\n",
      "Train : EPOCH 0001 / 0300  | BATCH 0013 | LOSS 0.4308\n",
      "Train : EPOCH 0001 / 0300  | BATCH 0014 | LOSS 0.4249\n",
      "Validation Error: \n",
      " Accuracy: 0.0%, Avg loss: 0.335251, f1: 0.0 \n",
      "\n",
      "Epoch 1 에서 best model 저장\n",
      "-------------------------------\n",
      "--------------------------------------------\n",
      "Epoch 2\n",
      "-------------------------------\n",
      "Train : EPOCH 0002 / 0300  | BATCH 0000 | LOSS 0.3518\n",
      "Train : EPOCH 0002 / 0300  | BATCH 0001 | LOSS 0.3454\n",
      "Train : EPOCH 0002 / 0300  | BATCH 0002 | LOSS 0.3378\n",
      "Train : EPOCH 0002 / 0300  | BATCH 0003 | LOSS 0.3387\n",
      "Train : EPOCH 0002 / 0300  | BATCH 0004 | LOSS 0.3400\n",
      "Train : EPOCH 0002 / 0300  | BATCH 0005 | LOSS 0.3379\n",
      "Train : EPOCH 0002 / 0300  | BATCH 0006 | LOSS 0.3360\n",
      "Train : EPOCH 0002 / 0300  | BATCH 0007 | LOSS 0.3354\n",
      "Train : EPOCH 0002 / 0300  | BATCH 0008 | LOSS 0.3331\n",
      "Train : EPOCH 0002 / 0300  | BATCH 0009 | LOSS 0.3328\n",
      "Train : EPOCH 0002 / 0300  | BATCH 0010 | LOSS 0.3325\n",
      "Train : EPOCH 0002 / 0300  | BATCH 0011 | LOSS 0.3309\n",
      "Train : EPOCH 0002 / 0300  | BATCH 0012 | LOSS 0.3282\n",
      "Train : EPOCH 0002 / 0300  | BATCH 0013 | LOSS 0.3285\n",
      "Train : EPOCH 0002 / 0300  | BATCH 0014 | LOSS 0.3282\n",
      "Validation Error: \n",
      " Accuracy: 0.0%, Avg loss: 0.280761, f1: 0.0 \n",
      "\n",
      "Epoch 2 에서 best model 저장\n",
      "-------------------------------\n",
      "--------------------------------------------\n",
      "Epoch 3\n",
      "-------------------------------\n",
      "Train : EPOCH 0003 / 0300  | BATCH 0000 | LOSS 0.3077\n",
      "Train : EPOCH 0003 / 0300  | BATCH 0001 | LOSS 0.2968\n",
      "Train : EPOCH 0003 / 0300  | BATCH 0002 | LOSS 0.2989\n",
      "Train : EPOCH 0003 / 0300  | BATCH 0003 | LOSS 0.3028\n",
      "Train : EPOCH 0003 / 0300  | BATCH 0004 | LOSS 0.3020\n",
      "Train : EPOCH 0003 / 0300  | BATCH 0005 | LOSS 0.2981\n",
      "Train : EPOCH 0003 / 0300  | BATCH 0006 | LOSS 0.3010\n",
      "Train : EPOCH 0003 / 0300  | BATCH 0007 | LOSS 0.2995\n",
      "Train : EPOCH 0003 / 0300  | BATCH 0008 | LOSS 0.2976\n",
      "Train : EPOCH 0003 / 0300  | BATCH 0009 | LOSS 0.2981\n",
      "Train : EPOCH 0003 / 0300  | BATCH 0010 | LOSS 0.2976\n",
      "Train : EPOCH 0003 / 0300  | BATCH 0011 | LOSS 0.2949\n",
      "Train : EPOCH 0003 / 0300  | BATCH 0012 | LOSS 0.2956\n",
      "Train : EPOCH 0003 / 0300  | BATCH 0013 | LOSS 0.2958\n",
      "Train : EPOCH 0003 / 0300  | BATCH 0014 | LOSS 0.2960\n",
      "Validation Error: \n",
      " Accuracy: 0.0%, Avg loss: 0.260672, f1: 0.0 \n",
      "\n",
      "Epoch 3 에서 best model 저장\n",
      "-------------------------------\n",
      "--------------------------------------------\n",
      "Epoch 4\n",
      "-------------------------------\n",
      "Train : EPOCH 0004 / 0300  | BATCH 0000 | LOSS 0.2703\n",
      "Train : EPOCH 0004 / 0300  | BATCH 0001 | LOSS 0.2732\n",
      "Train : EPOCH 0004 / 0300  | BATCH 0002 | LOSS 0.2742\n",
      "Train : EPOCH 0004 / 0300  | BATCH 0003 | LOSS 0.2817\n",
      "Train : EPOCH 0004 / 0300  | BATCH 0004 | LOSS 0.2836\n",
      "Train : EPOCH 0004 / 0300  | BATCH 0005 | LOSS 0.2839\n",
      "Train : EPOCH 0004 / 0300  | BATCH 0006 | LOSS 0.2825\n",
      "Train : EPOCH 0004 / 0300  | BATCH 0007 | LOSS 0.2794\n",
      "Train : EPOCH 0004 / 0300  | BATCH 0008 | LOSS 0.2811\n",
      "Train : EPOCH 0004 / 0300  | BATCH 0009 | LOSS 0.2821\n",
      "Train : EPOCH 0004 / 0300  | BATCH 0010 | LOSS 0.2842\n",
      "Train : EPOCH 0004 / 0300  | BATCH 0011 | LOSS 0.2833\n",
      "Train : EPOCH 0004 / 0300  | BATCH 0012 | LOSS 0.2822\n",
      "Train : EPOCH 0004 / 0300  | BATCH 0013 | LOSS 0.2824\n",
      "Train : EPOCH 0004 / 0300  | BATCH 0014 | LOSS 0.2824\n",
      "Validation Error: \n",
      " Accuracy: 0.0%, Avg loss: 0.255287, f1: 0.0 \n",
      "\n",
      "Epoch 4 에서 best model 저장\n",
      "-------------------------------\n",
      "--------------------------------------------\n",
      "Epoch 5\n",
      "-------------------------------\n",
      "Train : EPOCH 0005 / 0300  | BATCH 0000 | LOSS 0.2807\n",
      "Train : EPOCH 0005 / 0300  | BATCH 0001 | LOSS 0.2746\n",
      "Train : EPOCH 0005 / 0300  | BATCH 0002 | LOSS 0.2816\n",
      "Train : EPOCH 0005 / 0300  | BATCH 0003 | LOSS 0.2764\n",
      "Train : EPOCH 0005 / 0300  | BATCH 0004 | LOSS 0.2762\n",
      "Train : EPOCH 0005 / 0300  | BATCH 0005 | LOSS 0.2779\n",
      "Train : EPOCH 0005 / 0300  | BATCH 0006 | LOSS 0.2782\n",
      "Train : EPOCH 0005 / 0300  | BATCH 0007 | LOSS 0.2753\n",
      "Train : EPOCH 0005 / 0300  | BATCH 0008 | LOSS 0.2743\n",
      "Train : EPOCH 0005 / 0300  | BATCH 0009 | LOSS 0.2753\n",
      "Train : EPOCH 0005 / 0300  | BATCH 0010 | LOSS 0.2736\n",
      "Train : EPOCH 0005 / 0300  | BATCH 0011 | LOSS 0.2735\n",
      "Train : EPOCH 0005 / 0300  | BATCH 0012 | LOSS 0.2736\n",
      "Train : EPOCH 0005 / 0300  | BATCH 0013 | LOSS 0.2746\n",
      "Train : EPOCH 0005 / 0300  | BATCH 0014 | LOSS 0.2739\n",
      "Validation Error: \n",
      " Accuracy: 0.0%, Avg loss: 0.246386, f1: 0.0 \n",
      "\n",
      "Epoch 5 에서 best model 저장\n",
      "-------------------------------\n",
      "--------------------------------------------\n",
      "Epoch 6\n",
      "-------------------------------\n",
      "Train : EPOCH 0006 / 0300  | BATCH 0000 | LOSS 0.2821\n",
      "Train : EPOCH 0006 / 0300  | BATCH 0001 | LOSS 0.2691\n",
      "Train : EPOCH 0006 / 0300  | BATCH 0002 | LOSS 0.2678\n",
      "Train : EPOCH 0006 / 0300  | BATCH 0003 | LOSS 0.2698\n",
      "Train : EPOCH 0006 / 0300  | BATCH 0004 | LOSS 0.2734\n",
      "Train : EPOCH 0006 / 0300  | BATCH 0005 | LOSS 0.2737\n",
      "Train : EPOCH 0006 / 0300  | BATCH 0006 | LOSS 0.2702\n",
      "Train : EPOCH 0006 / 0300  | BATCH 0007 | LOSS 0.2735\n",
      "Train : EPOCH 0006 / 0300  | BATCH 0008 | LOSS 0.2722\n",
      "Train : EPOCH 0006 / 0300  | BATCH 0009 | LOSS 0.2719\n",
      "Train : EPOCH 0006 / 0300  | BATCH 0010 | LOSS 0.2722\n",
      "Train : EPOCH 0006 / 0300  | BATCH 0011 | LOSS 0.2703\n",
      "Train : EPOCH 0006 / 0300  | BATCH 0012 | LOSS 0.2699\n",
      "Train : EPOCH 0006 / 0300  | BATCH 0013 | LOSS 0.2694\n",
      "Train : EPOCH 0006 / 0300  | BATCH 0014 | LOSS 0.2692\n",
      "Validation Error: \n",
      " Accuracy: 0.0%, Avg loss: 0.238693, f1: 0.0 \n",
      "\n",
      "Epoch 6 에서 best model 저장\n",
      "-------------------------------\n",
      "--------------------------------------------\n",
      "Epoch 7\n",
      "-------------------------------\n",
      "Train : EPOCH 0007 / 0300  | BATCH 0000 | LOSS 0.2807\n",
      "Train : EPOCH 0007 / 0300  | BATCH 0001 | LOSS 0.2692\n",
      "Train : EPOCH 0007 / 0300  | BATCH 0002 | LOSS 0.2687\n",
      "Train : EPOCH 0007 / 0300  | BATCH 0003 | LOSS 0.2695\n",
      "Train : EPOCH 0007 / 0300  | BATCH 0004 | LOSS 0.2717\n",
      "Train : EPOCH 0007 / 0300  | BATCH 0005 | LOSS 0.2673\n",
      "Train : EPOCH 0007 / 0300  | BATCH 0006 | LOSS 0.2648\n",
      "Train : EPOCH 0007 / 0300  | BATCH 0007 | LOSS 0.2657\n",
      "Train : EPOCH 0007 / 0300  | BATCH 0008 | LOSS 0.2674\n",
      "Train : EPOCH 0007 / 0300  | BATCH 0009 | LOSS 0.2681\n",
      "Train : EPOCH 0007 / 0300  | BATCH 0010 | LOSS 0.2681\n",
      "Train : EPOCH 0007 / 0300  | BATCH 0011 | LOSS 0.2652\n",
      "Train : EPOCH 0007 / 0300  | BATCH 0012 | LOSS 0.2647\n",
      "Train : EPOCH 0007 / 0300  | BATCH 0013 | LOSS 0.2652\n",
      "Train : EPOCH 0007 / 0300  | BATCH 0014 | LOSS 0.2650\n",
      "Validation Error: \n",
      " Accuracy: 0.0%, Avg loss: 0.233645, f1: 0.0 \n",
      "\n",
      "Epoch 7 에서 best model 저장\n",
      "-------------------------------\n",
      "--------------------------------------------\n",
      "Epoch 8\n",
      "-------------------------------\n",
      "Train : EPOCH 0008 / 0300  | BATCH 0000 | LOSS 0.2475\n",
      "Train : EPOCH 0008 / 0300  | BATCH 0001 | LOSS 0.2468\n",
      "Train : EPOCH 0008 / 0300  | BATCH 0002 | LOSS 0.2420\n",
      "Train : EPOCH 0008 / 0300  | BATCH 0003 | LOSS 0.2428\n",
      "Train : EPOCH 0008 / 0300  | BATCH 0004 | LOSS 0.2517\n",
      "Train : EPOCH 0008 / 0300  | BATCH 0005 | LOSS 0.2533\n",
      "Train : EPOCH 0008 / 0300  | BATCH 0006 | LOSS 0.2554\n",
      "Train : EPOCH 0008 / 0300  | BATCH 0007 | LOSS 0.2548\n",
      "Train : EPOCH 0008 / 0300  | BATCH 0008 | LOSS 0.2562\n",
      "Train : EPOCH 0008 / 0300  | BATCH 0009 | LOSS 0.2543\n",
      "Train : EPOCH 0008 / 0300  | BATCH 0010 | LOSS 0.2560\n",
      "Train : EPOCH 0008 / 0300  | BATCH 0011 | LOSS 0.2563\n",
      "Train : EPOCH 0008 / 0300  | BATCH 0012 | LOSS 0.2565\n",
      "Train : EPOCH 0008 / 0300  | BATCH 0013 | LOSS 0.2582\n",
      "Train : EPOCH 0008 / 0300  | BATCH 0014 | LOSS 0.2595\n",
      "Validation Error: \n",
      " Accuracy: 0.0%, Avg loss: 0.228988, f1: 0.0 \n",
      "\n",
      "Epoch 8 에서 best model 저장\n",
      "-------------------------------\n",
      "--------------------------------------------\n",
      "Epoch 9\n",
      "-------------------------------\n",
      "Train : EPOCH 0009 / 0300  | BATCH 0000 | LOSS 0.2748\n",
      "Train : EPOCH 0009 / 0300  | BATCH 0001 | LOSS 0.2576\n",
      "Train : EPOCH 0009 / 0300  | BATCH 0002 | LOSS 0.2520\n",
      "Train : EPOCH 0009 / 0300  | BATCH 0003 | LOSS 0.2481\n",
      "Train : EPOCH 0009 / 0300  | BATCH 0004 | LOSS 0.2455\n",
      "Train : EPOCH 0009 / 0300  | BATCH 0005 | LOSS 0.2486\n",
      "Train : EPOCH 0009 / 0300  | BATCH 0006 | LOSS 0.2494\n",
      "Train : EPOCH 0009 / 0300  | BATCH 0007 | LOSS 0.2506\n",
      "Train : EPOCH 0009 / 0300  | BATCH 0008 | LOSS 0.2521\n",
      "Train : EPOCH 0009 / 0300  | BATCH 0009 | LOSS 0.2541\n",
      "Train : EPOCH 0009 / 0300  | BATCH 0010 | LOSS 0.2541\n",
      "Train : EPOCH 0009 / 0300  | BATCH 0011 | LOSS 0.2524\n",
      "Train : EPOCH 0009 / 0300  | BATCH 0012 | LOSS 0.2517\n",
      "Train : EPOCH 0009 / 0300  | BATCH 0013 | LOSS 0.2497\n",
      "Train : EPOCH 0009 / 0300  | BATCH 0014 | LOSS 0.2495\n",
      "Validation Error: \n",
      " Accuracy: 0.0%, Avg loss: 0.228192, f1: 0.00021893594280949661 \n",
      "\n",
      "Epoch 9 에서 best model 저장\n",
      "-------------------------------\n",
      "--------------------------------------------\n",
      "Epoch 10\n",
      "-------------------------------\n",
      "Train : EPOCH 0010 / 0300  | BATCH 0000 | LOSS 0.2610\n",
      "Train : EPOCH 0010 / 0300  | BATCH 0001 | LOSS 0.2504\n",
      "Train : EPOCH 0010 / 0300  | BATCH 0002 | LOSS 0.2481\n",
      "Train : EPOCH 0010 / 0300  | BATCH 0003 | LOSS 0.2465\n",
      "Train : EPOCH 0010 / 0300  | BATCH 0004 | LOSS 0.2466\n",
      "Train : EPOCH 0010 / 0300  | BATCH 0005 | LOSS 0.2451\n",
      "Train : EPOCH 0010 / 0300  | BATCH 0006 | LOSS 0.2450\n",
      "Train : EPOCH 0010 / 0300  | BATCH 0007 | LOSS 0.2432\n",
      "Train : EPOCH 0010 / 0300  | BATCH 0008 | LOSS 0.2455\n",
      "Train : EPOCH 0010 / 0300  | BATCH 0009 | LOSS 0.2434\n",
      "Train : EPOCH 0010 / 0300  | BATCH 0010 | LOSS 0.2431\n",
      "Train : EPOCH 0010 / 0300  | BATCH 0011 | LOSS 0.2428\n",
      "Train : EPOCH 0010 / 0300  | BATCH 0012 | LOSS 0.2422\n",
      "Train : EPOCH 0010 / 0300  | BATCH 0013 | LOSS 0.2407\n",
      "Train : EPOCH 0010 / 0300  | BATCH 0014 | LOSS 0.2409\n",
      "Validation Error: \n",
      " Accuracy: 0.0%, Avg loss: 0.212947, f1: 0.0 \n",
      "\n",
      "Epoch 10 에서 best model 저장\n",
      "-------------------------------\n",
      "--------------------------------------------\n",
      "Epoch 11\n",
      "-------------------------------\n",
      "Train : EPOCH 0011 / 0300  | BATCH 0000 | LOSS 0.2361\n",
      "Train : EPOCH 0011 / 0300  | BATCH 0001 | LOSS 0.2360\n",
      "Train : EPOCH 0011 / 0300  | BATCH 0002 | LOSS 0.2397\n",
      "Train : EPOCH 0011 / 0300  | BATCH 0003 | LOSS 0.2443\n",
      "Train : EPOCH 0011 / 0300  | BATCH 0004 | LOSS 0.2465\n",
      "Train : EPOCH 0011 / 0300  | BATCH 0005 | LOSS 0.2396\n",
      "Train : EPOCH 0011 / 0300  | BATCH 0006 | LOSS 0.2399\n",
      "Train : EPOCH 0011 / 0300  | BATCH 0007 | LOSS 0.2372\n",
      "Train : EPOCH 0011 / 0300  | BATCH 0008 | LOSS 0.2377\n",
      "Train : EPOCH 0011 / 0300  | BATCH 0009 | LOSS 0.2368\n",
      "Train : EPOCH 0011 / 0300  | BATCH 0010 | LOSS 0.2365\n",
      "Train : EPOCH 0011 / 0300  | BATCH 0011 | LOSS 0.2358\n",
      "Train : EPOCH 0011 / 0300  | BATCH 0012 | LOSS 0.2362\n",
      "Train : EPOCH 0011 / 0300  | BATCH 0013 | LOSS 0.2354\n",
      "Train : EPOCH 0011 / 0300  | BATCH 0014 | LOSS 0.2339\n",
      "Validation Error: \n",
      " Accuracy: 0.0%, Avg loss: 0.197654, f1: 0.01579095654389156 \n",
      "\n",
      "Epoch 11 에서 best model 저장\n",
      "-------------------------------\n",
      "--------------------------------------------\n",
      "Epoch 12\n",
      "-------------------------------\n",
      "Train : EPOCH 0012 / 0300  | BATCH 0000 | LOSS 0.2360\n",
      "Train : EPOCH 0012 / 0300  | BATCH 0001 | LOSS 0.2371\n",
      "Train : EPOCH 0012 / 0300  | BATCH 0002 | LOSS 0.2295\n",
      "Train : EPOCH 0012 / 0300  | BATCH 0003 | LOSS 0.2247\n",
      "Train : EPOCH 0012 / 0300  | BATCH 0004 | LOSS 0.2239\n",
      "Train : EPOCH 0012 / 0300  | BATCH 0005 | LOSS 0.2260\n",
      "Train : EPOCH 0012 / 0300  | BATCH 0006 | LOSS 0.2312\n",
      "Train : EPOCH 0012 / 0300  | BATCH 0007 | LOSS 0.2288\n",
      "Train : EPOCH 0012 / 0300  | BATCH 0008 | LOSS 0.2274\n",
      "Train : EPOCH 0012 / 0300  | BATCH 0009 | LOSS 0.2275\n",
      "Train : EPOCH 0012 / 0300  | BATCH 0010 | LOSS 0.2280\n",
      "Train : EPOCH 0012 / 0300  | BATCH 0011 | LOSS 0.2244\n",
      "Train : EPOCH 0012 / 0300  | BATCH 0012 | LOSS 0.2219\n",
      "Train : EPOCH 0012 / 0300  | BATCH 0013 | LOSS 0.2207\n",
      "Train : EPOCH 0012 / 0300  | BATCH 0014 | LOSS 0.2212\n",
      "Validation Error: \n",
      " Accuracy: 0.0%, Avg loss: 0.198118, f1: 0.4589924599443163 \n",
      "\n",
      "Epoch 13\n",
      "-------------------------------\n",
      "Train : EPOCH 0013 / 0300  | BATCH 0000 | LOSS 0.2011\n",
      "Train : EPOCH 0013 / 0300  | BATCH 0001 | LOSS 0.2101\n",
      "Train : EPOCH 0013 / 0300  | BATCH 0002 | LOSS 0.2070\n",
      "Train : EPOCH 0013 / 0300  | BATCH 0003 | LOSS 0.2113\n",
      "Train : EPOCH 0013 / 0300  | BATCH 0004 | LOSS 0.2112\n",
      "Train : EPOCH 0013 / 0300  | BATCH 0005 | LOSS 0.2093\n",
      "Train : EPOCH 0013 / 0300  | BATCH 0006 | LOSS 0.2122\n",
      "Train : EPOCH 0013 / 0300  | BATCH 0007 | LOSS 0.2105\n",
      "Train : EPOCH 0013 / 0300  | BATCH 0008 | LOSS 0.2108\n",
      "Train : EPOCH 0013 / 0300  | BATCH 0009 | LOSS 0.2083\n",
      "Train : EPOCH 0013 / 0300  | BATCH 0010 | LOSS 0.2062\n",
      "Train : EPOCH 0013 / 0300  | BATCH 0011 | LOSS 0.2048\n",
      "Train : EPOCH 0013 / 0300  | BATCH 0012 | LOSS 0.2035\n",
      "Train : EPOCH 0013 / 0300  | BATCH 0013 | LOSS 0.2038\n",
      "Train : EPOCH 0013 / 0300  | BATCH 0014 | LOSS 0.2015\n",
      "Validation Error: \n",
      " Accuracy: 0.0%, Avg loss: 0.170692, f1: 0.5622315789972033 \n",
      "\n",
      "Epoch 13 에서 best model 저장\n",
      "-------------------------------\n",
      "--------------------------------------------\n",
      "Epoch 14\n",
      "-------------------------------\n",
      "Train : EPOCH 0014 / 0300  | BATCH 0000 | LOSS 0.1900\n",
      "Train : EPOCH 0014 / 0300  | BATCH 0001 | LOSS 0.1958\n",
      "Train : EPOCH 0014 / 0300  | BATCH 0002 | LOSS 0.1899\n",
      "Train : EPOCH 0014 / 0300  | BATCH 0003 | LOSS 0.1912\n",
      "Train : EPOCH 0014 / 0300  | BATCH 0004 | LOSS 0.1909\n",
      "Train : EPOCH 0014 / 0300  | BATCH 0005 | LOSS 0.1918\n",
      "Train : EPOCH 0014 / 0300  | BATCH 0006 | LOSS 0.1912\n",
      "Train : EPOCH 0014 / 0300  | BATCH 0007 | LOSS 0.1903\n",
      "Train : EPOCH 0014 / 0300  | BATCH 0008 | LOSS 0.1885\n",
      "Train : EPOCH 0014 / 0300  | BATCH 0009 | LOSS 0.1878\n",
      "Train : EPOCH 0014 / 0300  | BATCH 0010 | LOSS 0.1849\n",
      "Train : EPOCH 0014 / 0300  | BATCH 0011 | LOSS 0.1826\n",
      "Train : EPOCH 0014 / 0300  | BATCH 0012 | LOSS 0.1821\n",
      "Train : EPOCH 0014 / 0300  | BATCH 0013 | LOSS 0.1817\n",
      "Train : EPOCH 0014 / 0300  | BATCH 0014 | LOSS 0.1821\n",
      "Validation Error: \n",
      " Accuracy: 0.0%, Avg loss: 0.160901, f1: 0.5549332669803074 \n",
      "\n",
      "Epoch 14 에서 best model 저장\n",
      "-------------------------------\n",
      "--------------------------------------------\n",
      "Epoch 15\n",
      "-------------------------------\n",
      "Train : EPOCH 0015 / 0300  | BATCH 0000 | LOSS 0.1708\n",
      "Train : EPOCH 0015 / 0300  | BATCH 0001 | LOSS 0.1749\n",
      "Train : EPOCH 0015 / 0300  | BATCH 0002 | LOSS 0.1794\n",
      "Train : EPOCH 0015 / 0300  | BATCH 0003 | LOSS 0.1747\n",
      "Train : EPOCH 0015 / 0300  | BATCH 0004 | LOSS 0.1766\n",
      "Train : EPOCH 0015 / 0300  | BATCH 0005 | LOSS 0.1736\n",
      "Train : EPOCH 0015 / 0300  | BATCH 0006 | LOSS 0.1730\n",
      "Train : EPOCH 0015 / 0300  | BATCH 0007 | LOSS 0.1709\n",
      "Train : EPOCH 0015 / 0300  | BATCH 0008 | LOSS 0.1678\n",
      "Train : EPOCH 0015 / 0300  | BATCH 0009 | LOSS 0.1666\n",
      "Train : EPOCH 0015 / 0300  | BATCH 0010 | LOSS 0.1660\n",
      "Train : EPOCH 0015 / 0300  | BATCH 0011 | LOSS 0.1656\n",
      "Train : EPOCH 0015 / 0300  | BATCH 0012 | LOSS 0.1650\n",
      "Train : EPOCH 0015 / 0300  | BATCH 0013 | LOSS 0.1655\n",
      "Train : EPOCH 0015 / 0300  | BATCH 0014 | LOSS 0.1640\n",
      "Validation Error: \n",
      " Accuracy: 0.0%, Avg loss: 0.218142, f1: 0.40639318100043703 \n",
      "\n",
      "Epoch 16\n",
      "-------------------------------\n",
      "Train : EPOCH 0016 / 0300  | BATCH 0000 | LOSS 0.1760\n",
      "Train : EPOCH 0016 / 0300  | BATCH 0001 | LOSS 0.1606\n",
      "Train : EPOCH 0016 / 0300  | BATCH 0002 | LOSS 0.1589\n",
      "Train : EPOCH 0016 / 0300  | BATCH 0003 | LOSS 0.1622\n",
      "Train : EPOCH 0016 / 0300  | BATCH 0004 | LOSS 0.1603\n",
      "Train : EPOCH 0016 / 0300  | BATCH 0005 | LOSS 0.1561\n",
      "Train : EPOCH 0016 / 0300  | BATCH 0006 | LOSS 0.1561\n",
      "Train : EPOCH 0016 / 0300  | BATCH 0007 | LOSS 0.1592\n",
      "Train : EPOCH 0016 / 0300  | BATCH 0008 | LOSS 0.1587\n",
      "Train : EPOCH 0016 / 0300  | BATCH 0009 | LOSS 0.1567\n",
      "Train : EPOCH 0016 / 0300  | BATCH 0010 | LOSS 0.1552\n",
      "Train : EPOCH 0016 / 0300  | BATCH 0011 | LOSS 0.1546\n",
      "Train : EPOCH 0016 / 0300  | BATCH 0012 | LOSS 0.1545\n",
      "Train : EPOCH 0016 / 0300  | BATCH 0013 | LOSS 0.1529\n",
      "Train : EPOCH 0016 / 0300  | BATCH 0014 | LOSS 0.1523\n",
      "Validation Error: \n",
      " Accuracy: 0.0%, Avg loss: 0.124149, f1: 0.850502005645207 \n",
      "\n",
      "Epoch 16 에서 best model 저장\n",
      "-------------------------------\n",
      "--------------------------------------------\n",
      "Epoch 17\n",
      "-------------------------------\n",
      "Train : EPOCH 0017 / 0300  | BATCH 0000 | LOSS 0.1580\n",
      "Train : EPOCH 0017 / 0300  | BATCH 0001 | LOSS 0.1587\n",
      "Train : EPOCH 0017 / 0300  | BATCH 0002 | LOSS 0.1538\n",
      "Train : EPOCH 0017 / 0300  | BATCH 0003 | LOSS 0.1523\n",
      "Train : EPOCH 0017 / 0300  | BATCH 0004 | LOSS 0.1469\n",
      "Train : EPOCH 0017 / 0300  | BATCH 0005 | LOSS 0.1448\n",
      "Train : EPOCH 0017 / 0300  | BATCH 0006 | LOSS 0.1429\n",
      "Train : EPOCH 0017 / 0300  | BATCH 0007 | LOSS 0.1403\n",
      "Train : EPOCH 0017 / 0300  | BATCH 0008 | LOSS 0.1405\n",
      "Train : EPOCH 0017 / 0300  | BATCH 0009 | LOSS 0.1376\n",
      "Train : EPOCH 0017 / 0300  | BATCH 0010 | LOSS 0.1375\n",
      "Train : EPOCH 0017 / 0300  | BATCH 0011 | LOSS 0.1377\n",
      "Train : EPOCH 0017 / 0300  | BATCH 0012 | LOSS 0.1369\n",
      "Train : EPOCH 0017 / 0300  | BATCH 0013 | LOSS 0.1364\n",
      "Train : EPOCH 0017 / 0300  | BATCH 0014 | LOSS 0.1346\n",
      "Validation Error: \n",
      " Accuracy: 0.0%, Avg loss: 0.130032, f1: 0.7726511188915798 \n",
      "\n",
      "Epoch 18\n",
      "-------------------------------\n",
      "Train : EPOCH 0018 / 0300  | BATCH 0000 | LOSS 0.1433\n",
      "Train : EPOCH 0018 / 0300  | BATCH 0001 | LOSS 0.1313\n",
      "Train : EPOCH 0018 / 0300  | BATCH 0002 | LOSS 0.1272\n",
      "Train : EPOCH 0018 / 0300  | BATCH 0003 | LOSS 0.1240\n",
      "Train : EPOCH 0018 / 0300  | BATCH 0004 | LOSS 0.1213\n",
      "Train : EPOCH 0018 / 0300  | BATCH 0005 | LOSS 0.1193\n",
      "Train : EPOCH 0018 / 0300  | BATCH 0006 | LOSS 0.1208\n",
      "Train : EPOCH 0018 / 0300  | BATCH 0007 | LOSS 0.1201\n",
      "Train : EPOCH 0018 / 0300  | BATCH 0008 | LOSS 0.1195\n",
      "Train : EPOCH 0018 / 0300  | BATCH 0009 | LOSS 0.1198\n",
      "Train : EPOCH 0018 / 0300  | BATCH 0010 | LOSS 0.1212\n",
      "Train : EPOCH 0018 / 0300  | BATCH 0011 | LOSS 0.1215\n",
      "Train : EPOCH 0018 / 0300  | BATCH 0012 | LOSS 0.1214\n",
      "Train : EPOCH 0018 / 0300  | BATCH 0013 | LOSS 0.1222\n",
      "Train : EPOCH 0018 / 0300  | BATCH 0014 | LOSS 0.1212\n",
      "Validation Error: \n",
      " Accuracy: 0.0%, Avg loss: 0.178410, f1: 0.6246244396482196 \n",
      "\n",
      "Epoch 19\n",
      "-------------------------------\n",
      "Train : EPOCH 0019 / 0300  | BATCH 0000 | LOSS 0.1119\n",
      "Train : EPOCH 0019 / 0300  | BATCH 0001 | LOSS 0.1303\n",
      "Train : EPOCH 0019 / 0300  | BATCH 0002 | LOSS 0.1256\n",
      "Train : EPOCH 0019 / 0300  | BATCH 0003 | LOSS 0.1255\n",
      "Train : EPOCH 0019 / 0300  | BATCH 0004 | LOSS 0.1237\n",
      "Train : EPOCH 0019 / 0300  | BATCH 0005 | LOSS 0.1217\n",
      "Train : EPOCH 0019 / 0300  | BATCH 0006 | LOSS 0.1205\n",
      "Train : EPOCH 0019 / 0300  | BATCH 0007 | LOSS 0.1192\n",
      "Train : EPOCH 0019 / 0300  | BATCH 0008 | LOSS 0.1190\n",
      "Train : EPOCH 0019 / 0300  | BATCH 0009 | LOSS 0.1193\n",
      "Train : EPOCH 0019 / 0300  | BATCH 0010 | LOSS 0.1220\n",
      "Train : EPOCH 0019 / 0300  | BATCH 0011 | LOSS 0.1219\n",
      "Train : EPOCH 0019 / 0300  | BATCH 0012 | LOSS 0.1216\n",
      "Train : EPOCH 0019 / 0300  | BATCH 0013 | LOSS 0.1205\n",
      "Train : EPOCH 0019 / 0300  | BATCH 0014 | LOSS 0.1191\n",
      "Validation Error: \n",
      " Accuracy: 0.0%, Avg loss: 0.093639, f1: 0.8438606262207031 \n",
      "\n",
      "Epoch 19 에서 best model 저장\n",
      "-------------------------------\n",
      "--------------------------------------------\n",
      "Epoch 20\n",
      "-------------------------------\n",
      "Train : EPOCH 0020 / 0300  | BATCH 0000 | LOSS 0.1080\n",
      "Train : EPOCH 0020 / 0300  | BATCH 0001 | LOSS 0.1081\n",
      "Train : EPOCH 0020 / 0300  | BATCH 0002 | LOSS 0.1086\n",
      "Train : EPOCH 0020 / 0300  | BATCH 0003 | LOSS 0.1076\n",
      "Train : EPOCH 0020 / 0300  | BATCH 0004 | LOSS 0.1076\n",
      "Train : EPOCH 0020 / 0300  | BATCH 0005 | LOSS 0.1093\n",
      "Train : EPOCH 0020 / 0300  | BATCH 0006 | LOSS 0.1113\n",
      "Train : EPOCH 0020 / 0300  | BATCH 0007 | LOSS 0.1088\n",
      "Train : EPOCH 0020 / 0300  | BATCH 0008 | LOSS 0.1095\n",
      "Train : EPOCH 0020 / 0300  | BATCH 0009 | LOSS 0.1073\n",
      "Train : EPOCH 0020 / 0300  | BATCH 0010 | LOSS 0.1062\n",
      "Train : EPOCH 0020 / 0300  | BATCH 0011 | LOSS 0.1049\n",
      "Train : EPOCH 0020 / 0300  | BATCH 0012 | LOSS 0.1046\n",
      "Train : EPOCH 0020 / 0300  | BATCH 0013 | LOSS 0.1068\n",
      "Train : EPOCH 0020 / 0300  | BATCH 0014 | LOSS 0.1069\n",
      "Validation Error: \n",
      " Accuracy: 0.0%, Avg loss: 0.139759, f1: 0.7193896089281354 \n",
      "\n",
      "Epoch 21\n",
      "-------------------------------\n",
      "Train : EPOCH 0021 / 0300  | BATCH 0000 | LOSS 0.1016\n",
      "Train : EPOCH 0021 / 0300  | BATCH 0001 | LOSS 0.0991\n",
      "Train : EPOCH 0021 / 0300  | BATCH 0002 | LOSS 0.1033\n",
      "Train : EPOCH 0021 / 0300  | BATCH 0003 | LOSS 0.1035\n",
      "Train : EPOCH 0021 / 0300  | BATCH 0004 | LOSS 0.1010\n",
      "Train : EPOCH 0021 / 0300  | BATCH 0005 | LOSS 0.0992\n",
      "Train : EPOCH 0021 / 0300  | BATCH 0006 | LOSS 0.1006\n",
      "Train : EPOCH 0021 / 0300  | BATCH 0007 | LOSS 0.0996\n",
      "Train : EPOCH 0021 / 0300  | BATCH 0008 | LOSS 0.1003\n",
      "Train : EPOCH 0021 / 0300  | BATCH 0009 | LOSS 0.1003\n",
      "Train : EPOCH 0021 / 0300  | BATCH 0010 | LOSS 0.1012\n",
      "Train : EPOCH 0021 / 0300  | BATCH 0011 | LOSS 0.1014\n",
      "Train : EPOCH 0021 / 0300  | BATCH 0012 | LOSS 0.1011\n",
      "Train : EPOCH 0021 / 0300  | BATCH 0013 | LOSS 0.1010\n",
      "Train : EPOCH 0021 / 0300  | BATCH 0014 | LOSS 0.1003\n",
      "Validation Error: \n",
      " Accuracy: 0.0%, Avg loss: 0.156380, f1: 0.6636154311043876 \n",
      "\n",
      "Epoch 22\n",
      "-------------------------------\n",
      "Train : EPOCH 0022 / 0300  | BATCH 0000 | LOSS 0.0845\n",
      "Train : EPOCH 0022 / 0300  | BATCH 0001 | LOSS 0.0904\n",
      "Train : EPOCH 0022 / 0300  | BATCH 0002 | LOSS 0.0927\n",
      "Train : EPOCH 0022 / 0300  | BATCH 0003 | LOSS 0.0960\n",
      "Train : EPOCH 0022 / 0300  | BATCH 0004 | LOSS 0.0972\n",
      "Train : EPOCH 0022 / 0300  | BATCH 0005 | LOSS 0.0995\n",
      "Train : EPOCH 0022 / 0300  | BATCH 0006 | LOSS 0.0971\n",
      "Train : EPOCH 0022 / 0300  | BATCH 0007 | LOSS 0.0980\n",
      "Train : EPOCH 0022 / 0300  | BATCH 0008 | LOSS 0.0965\n",
      "Train : EPOCH 0022 / 0300  | BATCH 0009 | LOSS 0.0963\n",
      "Train : EPOCH 0022 / 0300  | BATCH 0010 | LOSS 0.0948\n",
      "Train : EPOCH 0022 / 0300  | BATCH 0011 | LOSS 0.0943\n",
      "Train : EPOCH 0022 / 0300  | BATCH 0012 | LOSS 0.0955\n",
      "Train : EPOCH 0022 / 0300  | BATCH 0013 | LOSS 0.0954\n",
      "Train : EPOCH 0022 / 0300  | BATCH 0014 | LOSS 0.0941\n",
      "Validation Error: \n",
      " Accuracy: 0.0%, Avg loss: 0.184057, f1: 0.6420160957745144 \n",
      "\n",
      "Epoch 23\n",
      "-------------------------------\n",
      "Train : EPOCH 0023 / 0300  | BATCH 0000 | LOSS 0.1164\n",
      "Train : EPOCH 0023 / 0300  | BATCH 0001 | LOSS 0.1099\n",
      "Train : EPOCH 0023 / 0300  | BATCH 0002 | LOSS 0.1004\n",
      "Train : EPOCH 0023 / 0300  | BATCH 0003 | LOSS 0.0963\n",
      "Train : EPOCH 0023 / 0300  | BATCH 0004 | LOSS 0.0999\n",
      "Train : EPOCH 0023 / 0300  | BATCH 0005 | LOSS 0.0993\n",
      "Train : EPOCH 0023 / 0300  | BATCH 0006 | LOSS 0.0996\n",
      "Train : EPOCH 0023 / 0300  | BATCH 0007 | LOSS 0.0995\n",
      "Train : EPOCH 0023 / 0300  | BATCH 0008 | LOSS 0.0986\n",
      "Train : EPOCH 0023 / 0300  | BATCH 0009 | LOSS 0.0971\n",
      "Train : EPOCH 0023 / 0300  | BATCH 0010 | LOSS 0.0952\n",
      "Train : EPOCH 0023 / 0300  | BATCH 0011 | LOSS 0.0945\n",
      "Train : EPOCH 0023 / 0300  | BATCH 0012 | LOSS 0.0946\n",
      "Train : EPOCH 0023 / 0300  | BATCH 0013 | LOSS 0.0957\n",
      "Train : EPOCH 0023 / 0300  | BATCH 0014 | LOSS 0.0944\n",
      "Validation Error: \n",
      " Accuracy: 0.0%, Avg loss: 0.067073, f1: 0.9009115185056414 \n",
      "\n",
      "Epoch 23 에서 best model 저장\n",
      "-------------------------------\n",
      "--------------------------------------------\n",
      "Epoch 24\n",
      "-------------------------------\n",
      "Train : EPOCH 0024 / 0300  | BATCH 0000 | LOSS 0.0785\n",
      "Train : EPOCH 0024 / 0300  | BATCH 0001 | LOSS 0.0858\n",
      "Train : EPOCH 0024 / 0300  | BATCH 0002 | LOSS 0.0867\n",
      "Train : EPOCH 0024 / 0300  | BATCH 0003 | LOSS 0.0885\n",
      "Train : EPOCH 0024 / 0300  | BATCH 0004 | LOSS 0.0921\n",
      "Train : EPOCH 0024 / 0300  | BATCH 0005 | LOSS 0.0932\n",
      "Train : EPOCH 0024 / 0300  | BATCH 0006 | LOSS 0.0930\n",
      "Train : EPOCH 0024 / 0300  | BATCH 0007 | LOSS 0.0911\n",
      "Train : EPOCH 0024 / 0300  | BATCH 0008 | LOSS 0.0942\n",
      "Train : EPOCH 0024 / 0300  | BATCH 0009 | LOSS 0.0941\n",
      "Train : EPOCH 0024 / 0300  | BATCH 0010 | LOSS 0.0963\n",
      "Train : EPOCH 0024 / 0300  | BATCH 0011 | LOSS 0.0942\n",
      "Train : EPOCH 0024 / 0300  | BATCH 0012 | LOSS 0.0928\n",
      "Train : EPOCH 0024 / 0300  | BATCH 0013 | LOSS 0.0945\n",
      "Train : EPOCH 0024 / 0300  | BATCH 0014 | LOSS 0.0962\n",
      "Validation Error: \n",
      " Accuracy: 0.0%, Avg loss: 0.076472, f1: 0.8434938788414001 \n",
      "\n",
      "Epoch 25\n",
      "-------------------------------\n",
      "Train : EPOCH 0025 / 0300  | BATCH 0000 | LOSS 0.1066\n",
      "Train : EPOCH 0025 / 0300  | BATCH 0001 | LOSS 0.0988\n",
      "Train : EPOCH 0025 / 0300  | BATCH 0002 | LOSS 0.0962\n",
      "Train : EPOCH 0025 / 0300  | BATCH 0003 | LOSS 0.0940\n",
      "Train : EPOCH 0025 / 0300  | BATCH 0004 | LOSS 0.0998\n",
      "Train : EPOCH 0025 / 0300  | BATCH 0005 | LOSS 0.0968\n",
      "Train : EPOCH 0025 / 0300  | BATCH 0006 | LOSS 0.0960\n",
      "Train : EPOCH 0025 / 0300  | BATCH 0007 | LOSS 0.0950\n",
      "Train : EPOCH 0025 / 0300  | BATCH 0008 | LOSS 0.0983\n",
      "Train : EPOCH 0025 / 0300  | BATCH 0009 | LOSS 0.1087\n",
      "Train : EPOCH 0025 / 0300  | BATCH 0010 | LOSS 0.1143\n",
      "Train : EPOCH 0025 / 0300  | BATCH 0011 | LOSS 0.1223\n",
      "Train : EPOCH 0025 / 0300  | BATCH 0012 | LOSS 0.1223\n",
      "Train : EPOCH 0025 / 0300  | BATCH 0013 | LOSS 0.1190\n",
      "Train : EPOCH 0025 / 0300  | BATCH 0014 | LOSS 0.1222\n",
      "Validation Error: \n",
      " Accuracy: 0.0%, Avg loss: 0.177398, f1: 0.6507480016776493 \n",
      "\n",
      "Epoch 26\n",
      "-------------------------------\n",
      "Train : EPOCH 0026 / 0300  | BATCH 0000 | LOSS 0.0905\n",
      "Train : EPOCH 0026 / 0300  | BATCH 0001 | LOSS 0.1173\n",
      "Train : EPOCH 0026 / 0300  | BATCH 0002 | LOSS 0.1101\n",
      "Train : EPOCH 0026 / 0300  | BATCH 0003 | LOSS 0.1089\n",
      "Train : EPOCH 0026 / 0300  | BATCH 0004 | LOSS 0.1106\n",
      "Train : EPOCH 0026 / 0300  | BATCH 0005 | LOSS 0.1123\n",
      "Train : EPOCH 0026 / 0300  | BATCH 0006 | LOSS 0.1143\n",
      "Train : EPOCH 0026 / 0300  | BATCH 0007 | LOSS 0.1110\n",
      "Train : EPOCH 0026 / 0300  | BATCH 0008 | LOSS 0.1081\n",
      "Train : EPOCH 0026 / 0300  | BATCH 0009 | LOSS 0.1085\n",
      "Train : EPOCH 0026 / 0300  | BATCH 0010 | LOSS 0.1079\n",
      "Train : EPOCH 0026 / 0300  | BATCH 0011 | LOSS 0.1092\n",
      "Train : EPOCH 0026 / 0300  | BATCH 0012 | LOSS 0.1122\n",
      "Train : EPOCH 0026 / 0300  | BATCH 0013 | LOSS 0.1128\n",
      "Train : EPOCH 0026 / 0300  | BATCH 0014 | LOSS 0.1108\n",
      "Validation Error: \n",
      " Accuracy: 0.0%, Avg loss: 0.103543, f1: 0.7890354990959167 \n",
      "\n",
      "Epoch 27\n",
      "-------------------------------\n",
      "Train : EPOCH 0027 / 0300  | BATCH 0000 | LOSS 0.0789\n",
      "Train : EPOCH 0027 / 0300  | BATCH 0001 | LOSS 0.0949\n",
      "Train : EPOCH 0027 / 0300  | BATCH 0002 | LOSS 0.0919\n",
      "Train : EPOCH 0027 / 0300  | BATCH 0003 | LOSS 0.0918\n",
      "Train : EPOCH 0027 / 0300  | BATCH 0004 | LOSS 0.0925\n",
      "Train : EPOCH 0027 / 0300  | BATCH 0005 | LOSS 0.0896\n",
      "Train : EPOCH 0027 / 0300  | BATCH 0006 | LOSS 0.0936\n",
      "Train : EPOCH 0027 / 0300  | BATCH 0007 | LOSS 0.0942\n",
      "Train : EPOCH 0027 / 0300  | BATCH 0008 | LOSS 0.0931\n",
      "Train : EPOCH 0027 / 0300  | BATCH 0009 | LOSS 0.0933\n",
      "Train : EPOCH 0027 / 0300  | BATCH 0010 | LOSS 0.0914\n",
      "Train : EPOCH 0027 / 0300  | BATCH 0011 | LOSS 0.0908\n",
      "Train : EPOCH 0027 / 0300  | BATCH 0012 | LOSS 0.0896\n",
      "Train : EPOCH 0027 / 0300  | BATCH 0013 | LOSS 0.0887\n",
      "Train : EPOCH 0027 / 0300  | BATCH 0014 | LOSS 0.0908\n",
      "Validation Error: \n",
      " Accuracy: 0.0%, Avg loss: 0.209541, f1: 0.6135591864585876 \n",
      "\n",
      "Epoch 28\n",
      "-------------------------------\n",
      "Train : EPOCH 0028 / 0300  | BATCH 0000 | LOSS 0.1053\n",
      "Train : EPOCH 0028 / 0300  | BATCH 0001 | LOSS 0.0977\n",
      "Train : EPOCH 0028 / 0300  | BATCH 0002 | LOSS 0.0982\n",
      "Train : EPOCH 0028 / 0300  | BATCH 0003 | LOSS 0.0964\n",
      "Train : EPOCH 0028 / 0300  | BATCH 0004 | LOSS 0.0918\n",
      "Train : EPOCH 0028 / 0300  | BATCH 0005 | LOSS 0.0893\n",
      "Train : EPOCH 0028 / 0300  | BATCH 0006 | LOSS 0.0870\n",
      "Train : EPOCH 0028 / 0300  | BATCH 0007 | LOSS 0.0927\n",
      "Train : EPOCH 0028 / 0300  | BATCH 0008 | LOSS 0.0951\n",
      "Train : EPOCH 0028 / 0300  | BATCH 0009 | LOSS 0.0952\n",
      "Train : EPOCH 0028 / 0300  | BATCH 0010 | LOSS 0.0938\n",
      "Train : EPOCH 0028 / 0300  | BATCH 0011 | LOSS 0.0954\n",
      "Train : EPOCH 0028 / 0300  | BATCH 0012 | LOSS 0.0940\n",
      "Train : EPOCH 0028 / 0300  | BATCH 0013 | LOSS 0.0920\n",
      "Train : EPOCH 0028 / 0300  | BATCH 0014 | LOSS 0.0923\n",
      "Validation Error: \n",
      " Accuracy: 0.0%, Avg loss: 0.064095, f1: 0.8910744871412005 \n",
      "\n",
      "Epoch 28 에서 best model 저장\n",
      "-------------------------------\n",
      "--------------------------------------------\n",
      "Epoch 29\n",
      "-------------------------------\n",
      "Train : EPOCH 0029 / 0300  | BATCH 0000 | LOSS 0.0757\n",
      "Train : EPOCH 0029 / 0300  | BATCH 0001 | LOSS 0.0776\n",
      "Train : EPOCH 0029 / 0300  | BATCH 0002 | LOSS 0.0850\n",
      "Train : EPOCH 0029 / 0300  | BATCH 0003 | LOSS 0.0900\n",
      "Train : EPOCH 0029 / 0300  | BATCH 0004 | LOSS 0.0883\n",
      "Train : EPOCH 0029 / 0300  | BATCH 0005 | LOSS 0.0872\n",
      "Train : EPOCH 0029 / 0300  | BATCH 0006 | LOSS 0.0848\n",
      "Train : EPOCH 0029 / 0300  | BATCH 0007 | LOSS 0.0835\n",
      "Train : EPOCH 0029 / 0300  | BATCH 0008 | LOSS 0.0850\n",
      "Train : EPOCH 0029 / 0300  | BATCH 0009 | LOSS 0.0844\n",
      "Train : EPOCH 0029 / 0300  | BATCH 0010 | LOSS 0.0838\n",
      "Train : EPOCH 0029 / 0300  | BATCH 0011 | LOSS 0.0822\n",
      "Train : EPOCH 0029 / 0300  | BATCH 0012 | LOSS 0.0846\n",
      "Train : EPOCH 0029 / 0300  | BATCH 0013 | LOSS 0.0859\n",
      "Train : EPOCH 0029 / 0300  | BATCH 0014 | LOSS 0.0845\n",
      "Validation Error: \n",
      " Accuracy: 0.0%, Avg loss: 0.091065, f1: 0.8096692221505302 \n",
      "\n",
      "Epoch 30\n",
      "-------------------------------\n",
      "Train : EPOCH 0030 / 0300  | BATCH 0000 | LOSS 0.0711\n",
      "Train : EPOCH 0030 / 0300  | BATCH 0001 | LOSS 0.0804\n",
      "Train : EPOCH 0030 / 0300  | BATCH 0002 | LOSS 0.0806\n",
      "Train : EPOCH 0030 / 0300  | BATCH 0003 | LOSS 0.0873\n",
      "Train : EPOCH 0030 / 0300  | BATCH 0004 | LOSS 0.0846\n",
      "Train : EPOCH 0030 / 0300  | BATCH 0005 | LOSS 0.0852\n",
      "Train : EPOCH 0030 / 0300  | BATCH 0006 | LOSS 0.0866\n",
      "Train : EPOCH 0030 / 0300  | BATCH 0007 | LOSS 0.0844\n",
      "Train : EPOCH 0030 / 0300  | BATCH 0008 | LOSS 0.0813\n",
      "Train : EPOCH 0030 / 0300  | BATCH 0009 | LOSS 0.0825\n",
      "Train : EPOCH 0030 / 0300  | BATCH 0010 | LOSS 0.0829\n",
      "Train : EPOCH 0030 / 0300  | BATCH 0011 | LOSS 0.0835\n",
      "Train : EPOCH 0030 / 0300  | BATCH 0012 | LOSS 0.0814\n",
      "Train : EPOCH 0030 / 0300  | BATCH 0013 | LOSS 0.0803\n",
      "Train : EPOCH 0030 / 0300  | BATCH 0014 | LOSS 0.0793\n",
      "Validation Error: \n",
      " Accuracy: 0.0%, Avg loss: 0.116199, f1: 0.7532585433551243 \n",
      "\n",
      "Epoch 31\n",
      "-------------------------------\n",
      "Train : EPOCH 0031 / 0300  | BATCH 0000 | LOSS 0.0768\n",
      "Train : EPOCH 0031 / 0300  | BATCH 0001 | LOSS 0.0748\n",
      "Train : EPOCH 0031 / 0300  | BATCH 0002 | LOSS 0.0791\n",
      "Train : EPOCH 0031 / 0300  | BATCH 0003 | LOSS 0.0746\n",
      "Train : EPOCH 0031 / 0300  | BATCH 0004 | LOSS 0.0716\n",
      "Train : EPOCH 0031 / 0300  | BATCH 0005 | LOSS 0.0695\n",
      "Train : EPOCH 0031 / 0300  | BATCH 0006 | LOSS 0.0722\n",
      "Train : EPOCH 0031 / 0300  | BATCH 0007 | LOSS 0.0709\n",
      "Train : EPOCH 0031 / 0300  | BATCH 0008 | LOSS 0.0725\n",
      "Train : EPOCH 0031 / 0300  | BATCH 0009 | LOSS 0.0740\n",
      "Train : EPOCH 0031 / 0300  | BATCH 0010 | LOSS 0.0760\n",
      "Train : EPOCH 0031 / 0300  | BATCH 0011 | LOSS 0.0753\n",
      "Train : EPOCH 0031 / 0300  | BATCH 0012 | LOSS 0.0753\n",
      "Train : EPOCH 0031 / 0300  | BATCH 0013 | LOSS 0.0741\n",
      "Train : EPOCH 0031 / 0300  | BATCH 0014 | LOSS 0.0762\n",
      "Validation Error: \n",
      " Accuracy: 0.0%, Avg loss: 0.119262, f1: 0.7390131950378418 \n",
      "\n",
      "Epoch 32\n",
      "-------------------------------\n",
      "Train : EPOCH 0032 / 0300  | BATCH 0000 | LOSS 0.0642\n",
      "Train : EPOCH 0032 / 0300  | BATCH 0001 | LOSS 0.0742\n",
      "Train : EPOCH 0032 / 0300  | BATCH 0002 | LOSS 0.0708\n",
      "Train : EPOCH 0032 / 0300  | BATCH 0003 | LOSS 0.0708\n",
      "Train : EPOCH 0032 / 0300  | BATCH 0004 | LOSS 0.0712\n",
      "Train : EPOCH 0032 / 0300  | BATCH 0005 | LOSS 0.0688\n",
      "Train : EPOCH 0032 / 0300  | BATCH 0006 | LOSS 0.0702\n",
      "Train : EPOCH 0032 / 0300  | BATCH 0007 | LOSS 0.0747\n",
      "Train : EPOCH 0032 / 0300  | BATCH 0008 | LOSS 0.0745\n",
      "Train : EPOCH 0032 / 0300  | BATCH 0009 | LOSS 0.0740\n",
      "Train : EPOCH 0032 / 0300  | BATCH 0010 | LOSS 0.0787\n",
      "Train : EPOCH 0032 / 0300  | BATCH 0011 | LOSS 0.0785\n",
      "Train : EPOCH 0032 / 0300  | BATCH 0012 | LOSS 0.0765\n",
      "Train : EPOCH 0032 / 0300  | BATCH 0013 | LOSS 0.0752\n",
      "Train : EPOCH 0032 / 0300  | BATCH 0014 | LOSS 0.0733\n",
      "Validation Error: \n",
      " Accuracy: 0.0%, Avg loss: 0.086991, f1: 0.8119725074086871 \n",
      "\n",
      "Epoch 33\n",
      "-------------------------------\n",
      "Train : EPOCH 0033 / 0300  | BATCH 0000 | LOSS 0.0818\n",
      "Train : EPOCH 0033 / 0300  | BATCH 0001 | LOSS 0.0666\n",
      "Train : EPOCH 0033 / 0300  | BATCH 0002 | LOSS 0.0710\n",
      "Train : EPOCH 0033 / 0300  | BATCH 0003 | LOSS 0.0704\n",
      "Train : EPOCH 0033 / 0300  | BATCH 0004 | LOSS 0.0729\n",
      "Train : EPOCH 0033 / 0300  | BATCH 0005 | LOSS 0.0722\n",
      "Train : EPOCH 0033 / 0300  | BATCH 0006 | LOSS 0.0701\n",
      "Train : EPOCH 0033 / 0300  | BATCH 0007 | LOSS 0.0700\n",
      "Train : EPOCH 0033 / 0300  | BATCH 0008 | LOSS 0.0711\n",
      "Train : EPOCH 0033 / 0300  | BATCH 0009 | LOSS 0.0708\n",
      "Train : EPOCH 0033 / 0300  | BATCH 0010 | LOSS 0.0714\n",
      "Train : EPOCH 0033 / 0300  | BATCH 0011 | LOSS 0.0703\n",
      "Train : EPOCH 0033 / 0300  | BATCH 0012 | LOSS 0.0707\n",
      "Train : EPOCH 0033 / 0300  | BATCH 0013 | LOSS 0.0695\n",
      "Train : EPOCH 0033 / 0300  | BATCH 0014 | LOSS 0.0703\n",
      "Validation Error: \n",
      " Accuracy: 0.0%, Avg loss: 0.093074, f1: 0.8032842108181545 \n",
      "\n",
      "Epoch 34\n",
      "-------------------------------\n",
      "Train : EPOCH 0034 / 0300  | BATCH 0000 | LOSS 0.0508\n",
      "Train : EPOCH 0034 / 0300  | BATCH 0001 | LOSS 0.0711\n",
      "Train : EPOCH 0034 / 0300  | BATCH 0002 | LOSS 0.0704\n",
      "Train : EPOCH 0034 / 0300  | BATCH 0003 | LOSS 0.0692\n",
      "Train : EPOCH 0034 / 0300  | BATCH 0004 | LOSS 0.0671\n",
      "Train : EPOCH 0034 / 0300  | BATCH 0005 | LOSS 0.0674\n",
      "Train : EPOCH 0034 / 0300  | BATCH 0006 | LOSS 0.0665\n",
      "Train : EPOCH 0034 / 0300  | BATCH 0007 | LOSS 0.0646\n",
      "Train : EPOCH 0034 / 0300  | BATCH 0008 | LOSS 0.0660\n",
      "Train : EPOCH 0034 / 0300  | BATCH 0009 | LOSS 0.0671\n",
      "Train : EPOCH 0034 / 0300  | BATCH 0010 | LOSS 0.0665\n",
      "Train : EPOCH 0034 / 0300  | BATCH 0011 | LOSS 0.0657\n",
      "Train : EPOCH 0034 / 0300  | BATCH 0012 | LOSS 0.0653\n",
      "Train : EPOCH 0034 / 0300  | BATCH 0013 | LOSS 0.0664\n",
      "Train : EPOCH 0034 / 0300  | BATCH 0014 | LOSS 0.0674\n",
      "Validation Error: \n",
      " Accuracy: 0.0%, Avg loss: 0.084222, f1: 0.8174850514956883 \n",
      "\n",
      "Epoch 35\n",
      "-------------------------------\n",
      "Train : EPOCH 0035 / 0300  | BATCH 0000 | LOSS 0.0712\n",
      "Train : EPOCH 0035 / 0300  | BATCH 0001 | LOSS 0.0747\n",
      "Train : EPOCH 0035 / 0300  | BATCH 0002 | LOSS 0.0697\n",
      "Train : EPOCH 0035 / 0300  | BATCH 0003 | LOSS 0.0708\n",
      "Train : EPOCH 0035 / 0300  | BATCH 0004 | LOSS 0.0684\n",
      "Train : EPOCH 0035 / 0300  | BATCH 0005 | LOSS 0.0681\n",
      "Train : EPOCH 0035 / 0300  | BATCH 0006 | LOSS 0.0674\n",
      "Train : EPOCH 0035 / 0300  | BATCH 0007 | LOSS 0.0689\n",
      "Train : EPOCH 0035 / 0300  | BATCH 0008 | LOSS 0.0700\n",
      "Train : EPOCH 0035 / 0300  | BATCH 0009 | LOSS 0.0694\n",
      "Train : EPOCH 0035 / 0300  | BATCH 0010 | LOSS 0.0693\n",
      "Train : EPOCH 0035 / 0300  | BATCH 0011 | LOSS 0.0684\n",
      "Train : EPOCH 0035 / 0300  | BATCH 0012 | LOSS 0.0669\n",
      "Train : EPOCH 0035 / 0300  | BATCH 0013 | LOSS 0.0663\n",
      "Train : EPOCH 0035 / 0300  | BATCH 0014 | LOSS 0.0659\n",
      "Validation Error: \n",
      " Accuracy: 0.0%, Avg loss: 0.055712, f1: 0.8879411816596985 \n",
      "\n",
      "Epoch 35 에서 best model 저장\n",
      "-------------------------------\n",
      "--------------------------------------------\n",
      "Epoch 36\n",
      "-------------------------------\n",
      "Train : EPOCH 0036 / 0300  | BATCH 0000 | LOSS 0.1007\n",
      "Train : EPOCH 0036 / 0300  | BATCH 0001 | LOSS 0.0829\n",
      "Train : EPOCH 0036 / 0300  | BATCH 0002 | LOSS 0.0822\n",
      "Train : EPOCH 0036 / 0300  | BATCH 0003 | LOSS 0.0780\n",
      "Train : EPOCH 0036 / 0300  | BATCH 0004 | LOSS 0.0728\n",
      "Train : EPOCH 0036 / 0300  | BATCH 0005 | LOSS 0.0713\n",
      "Train : EPOCH 0036 / 0300  | BATCH 0006 | LOSS 0.0709\n",
      "Train : EPOCH 0036 / 0300  | BATCH 0007 | LOSS 0.0705\n",
      "Train : EPOCH 0036 / 0300  | BATCH 0008 | LOSS 0.0704\n",
      "Train : EPOCH 0036 / 0300  | BATCH 0009 | LOSS 0.0698\n",
      "Train : EPOCH 0036 / 0300  | BATCH 0010 | LOSS 0.0687\n",
      "Train : EPOCH 0036 / 0300  | BATCH 0011 | LOSS 0.0673\n",
      "Train : EPOCH 0036 / 0300  | BATCH 0012 | LOSS 0.0656\n",
      "Train : EPOCH 0036 / 0300  | BATCH 0013 | LOSS 0.0668\n",
      "Train : EPOCH 0036 / 0300  | BATCH 0014 | LOSS 0.0661\n",
      "Validation Error: \n",
      " Accuracy: 0.0%, Avg loss: 0.064108, f1: 0.865330559866769 \n",
      "\n",
      "Epoch 37\n",
      "-------------------------------\n",
      "Train : EPOCH 0037 / 0300  | BATCH 0000 | LOSS 0.0447\n",
      "Train : EPOCH 0037 / 0300  | BATCH 0001 | LOSS 0.0508\n",
      "Train : EPOCH 0037 / 0300  | BATCH 0002 | LOSS 0.0546\n",
      "Train : EPOCH 0037 / 0300  | BATCH 0003 | LOSS 0.0634\n",
      "Train : EPOCH 0037 / 0300  | BATCH 0004 | LOSS 0.0627\n",
      "Train : EPOCH 0037 / 0300  | BATCH 0005 | LOSS 0.0614\n",
      "Train : EPOCH 0037 / 0300  | BATCH 0006 | LOSS 0.0632\n",
      "Train : EPOCH 0037 / 0300  | BATCH 0007 | LOSS 0.0621\n",
      "Train : EPOCH 0037 / 0300  | BATCH 0008 | LOSS 0.0612\n",
      "Train : EPOCH 0037 / 0300  | BATCH 0009 | LOSS 0.0611\n",
      "Train : EPOCH 0037 / 0300  | BATCH 0010 | LOSS 0.0610\n",
      "Train : EPOCH 0037 / 0300  | BATCH 0011 | LOSS 0.0615\n",
      "Train : EPOCH 0037 / 0300  | BATCH 0012 | LOSS 0.0622\n",
      "Train : EPOCH 0037 / 0300  | BATCH 0013 | LOSS 0.0623\n",
      "Train : EPOCH 0037 / 0300  | BATCH 0014 | LOSS 0.0634\n",
      "Validation Error: \n",
      " Accuracy: 0.0%, Avg loss: 0.077037, f1: 0.8276288935116359 \n",
      "\n",
      "Epoch 38\n",
      "-------------------------------\n",
      "Train : EPOCH 0038 / 0300  | BATCH 0000 | LOSS 0.0470\n",
      "Train : EPOCH 0038 / 0300  | BATCH 0001 | LOSS 0.0603\n",
      "Train : EPOCH 0038 / 0300  | BATCH 0002 | LOSS 0.0638\n",
      "Train : EPOCH 0038 / 0300  | BATCH 0003 | LOSS 0.0634\n",
      "Train : EPOCH 0038 / 0300  | BATCH 0004 | LOSS 0.0606\n",
      "Train : EPOCH 0038 / 0300  | BATCH 0005 | LOSS 0.0628\n",
      "Train : EPOCH 0038 / 0300  | BATCH 0006 | LOSS 0.0625\n",
      "Train : EPOCH 0038 / 0300  | BATCH 0007 | LOSS 0.0621\n",
      "Train : EPOCH 0038 / 0300  | BATCH 0008 | LOSS 0.0611\n",
      "Train : EPOCH 0038 / 0300  | BATCH 0009 | LOSS 0.0606\n",
      "Train : EPOCH 0038 / 0300  | BATCH 0010 | LOSS 0.0607\n",
      "Train : EPOCH 0038 / 0300  | BATCH 0011 | LOSS 0.0598\n",
      "Train : EPOCH 0038 / 0300  | BATCH 0012 | LOSS 0.0607\n",
      "Train : EPOCH 0038 / 0300  | BATCH 0013 | LOSS 0.0612\n",
      "Train : EPOCH 0038 / 0300  | BATCH 0014 | LOSS 0.0627\n",
      "Validation Error: \n",
      " Accuracy: 0.0%, Avg loss: 0.068717, f1: 0.8523130246571132 \n",
      "\n",
      "Epoch 39\n",
      "-------------------------------\n",
      "Train : EPOCH 0039 / 0300  | BATCH 0000 | LOSS 0.0599\n",
      "Train : EPOCH 0039 / 0300  | BATCH 0001 | LOSS 0.0749\n",
      "Train : EPOCH 0039 / 0300  | BATCH 0002 | LOSS 0.0669\n",
      "Train : EPOCH 0039 / 0300  | BATCH 0003 | LOSS 0.0636\n",
      "Train : EPOCH 0039 / 0300  | BATCH 0004 | LOSS 0.0622\n",
      "Train : EPOCH 0039 / 0300  | BATCH 0005 | LOSS 0.0637\n",
      "Train : EPOCH 0039 / 0300  | BATCH 0006 | LOSS 0.0610\n",
      "Train : EPOCH 0039 / 0300  | BATCH 0007 | LOSS 0.0624\n",
      "Train : EPOCH 0039 / 0300  | BATCH 0008 | LOSS 0.0616\n",
      "Train : EPOCH 0039 / 0300  | BATCH 0009 | LOSS 0.0606\n",
      "Train : EPOCH 0039 / 0300  | BATCH 0010 | LOSS 0.0612\n",
      "Train : EPOCH 0039 / 0300  | BATCH 0011 | LOSS 0.0615\n",
      "Train : EPOCH 0039 / 0300  | BATCH 0012 | LOSS 0.0618\n",
      "Train : EPOCH 0039 / 0300  | BATCH 0013 | LOSS 0.0609\n",
      "Train : EPOCH 0039 / 0300  | BATCH 0014 | LOSS 0.0600\n",
      "Validation Error: \n",
      " Accuracy: 0.0%, Avg loss: 0.082499, f1: 0.8098185403006417 \n",
      "\n",
      "Epoch 40\n",
      "-------------------------------\n",
      "Train : EPOCH 0040 / 0300  | BATCH 0000 | LOSS 0.0663\n",
      "Train : EPOCH 0040 / 0300  | BATCH 0001 | LOSS 0.0572\n",
      "Train : EPOCH 0040 / 0300  | BATCH 0002 | LOSS 0.0594\n",
      "Train : EPOCH 0040 / 0300  | BATCH 0003 | LOSS 0.0606\n",
      "Train : EPOCH 0040 / 0300  | BATCH 0004 | LOSS 0.0579\n",
      "Train : EPOCH 0040 / 0300  | BATCH 0005 | LOSS 0.0603\n",
      "Train : EPOCH 0040 / 0300  | BATCH 0006 | LOSS 0.0611\n",
      "Train : EPOCH 0040 / 0300  | BATCH 0007 | LOSS 0.0600\n",
      "Train : EPOCH 0040 / 0300  | BATCH 0008 | LOSS 0.0603\n",
      "Train : EPOCH 0040 / 0300  | BATCH 0009 | LOSS 0.0598\n",
      "Train : EPOCH 0040 / 0300  | BATCH 0010 | LOSS 0.0593\n",
      "Train : EPOCH 0040 / 0300  | BATCH 0011 | LOSS 0.0588\n",
      "Train : EPOCH 0040 / 0300  | BATCH 0012 | LOSS 0.0591\n",
      "Train : EPOCH 0040 / 0300  | BATCH 0013 | LOSS 0.0593\n",
      "Train : EPOCH 0040 / 0300  | BATCH 0014 | LOSS 0.0589\n",
      "Validation Error: \n",
      " Accuracy: 0.0%, Avg loss: 0.078119, f1: 0.8169382299695697 \n",
      "\n",
      "Epoch 41\n",
      "-------------------------------\n",
      "Train : EPOCH 0041 / 0300  | BATCH 0000 | LOSS 0.0526\n",
      "Train : EPOCH 0041 / 0300  | BATCH 0001 | LOSS 0.0539\n",
      "Train : EPOCH 0041 / 0300  | BATCH 0002 | LOSS 0.0538\n",
      "Train : EPOCH 0041 / 0300  | BATCH 0003 | LOSS 0.0577\n",
      "Train : EPOCH 0041 / 0300  | BATCH 0004 | LOSS 0.0583\n",
      "Train : EPOCH 0041 / 0300  | BATCH 0005 | LOSS 0.0596\n",
      "Train : EPOCH 0041 / 0300  | BATCH 0006 | LOSS 0.0590\n",
      "Train : EPOCH 0041 / 0300  | BATCH 0007 | LOSS 0.0597\n",
      "Train : EPOCH 0041 / 0300  | BATCH 0008 | LOSS 0.0577\n",
      "Train : EPOCH 0041 / 0300  | BATCH 0009 | LOSS 0.0575\n",
      "Train : EPOCH 0041 / 0300  | BATCH 0010 | LOSS 0.0571\n",
      "Train : EPOCH 0041 / 0300  | BATCH 0011 | LOSS 0.0565\n",
      "Train : EPOCH 0041 / 0300  | BATCH 0012 | LOSS 0.0575\n",
      "Train : EPOCH 0041 / 0300  | BATCH 0013 | LOSS 0.0583\n",
      "Train : EPOCH 0041 / 0300  | BATCH 0014 | LOSS 0.0594\n",
      "Validation Error: \n",
      " Accuracy: 0.0%, Avg loss: 0.098631, f1: 0.7885778886931283 \n",
      "\n",
      "Epoch 42\n",
      "-------------------------------\n",
      "Train : EPOCH 0042 / 0300  | BATCH 0000 | LOSS 0.0834\n",
      "Train : EPOCH 0042 / 0300  | BATCH 0001 | LOSS 0.0674\n",
      "Train : EPOCH 0042 / 0300  | BATCH 0002 | LOSS 0.0657\n",
      "Train : EPOCH 0042 / 0300  | BATCH 0003 | LOSS 0.0608\n",
      "Train : EPOCH 0042 / 0300  | BATCH 0004 | LOSS 0.0605\n",
      "Train : EPOCH 0042 / 0300  | BATCH 0005 | LOSS 0.0586\n",
      "Train : EPOCH 0042 / 0300  | BATCH 0006 | LOSS 0.0567\n",
      "Train : EPOCH 0042 / 0300  | BATCH 0007 | LOSS 0.0564\n",
      "Train : EPOCH 0042 / 0300  | BATCH 0008 | LOSS 0.0551\n",
      "Train : EPOCH 0042 / 0300  | BATCH 0009 | LOSS 0.0564\n",
      "Train : EPOCH 0042 / 0300  | BATCH 0010 | LOSS 0.0565\n",
      "Train : EPOCH 0042 / 0300  | BATCH 0011 | LOSS 0.0580\n",
      "Train : EPOCH 0042 / 0300  | BATCH 0012 | LOSS 0.0574\n",
      "Train : EPOCH 0042 / 0300  | BATCH 0013 | LOSS 0.0585\n",
      "Train : EPOCH 0042 / 0300  | BATCH 0014 | LOSS 0.0579\n",
      "Validation Error: \n",
      " Accuracy: 0.0%, Avg loss: 0.091601, f1: 0.8065019079617092 \n",
      "\n",
      "Epoch 43\n",
      "-------------------------------\n",
      "Train : EPOCH 0043 / 0300  | BATCH 0000 | LOSS 0.0554\n",
      "Train : EPOCH 0043 / 0300  | BATCH 0001 | LOSS 0.0605\n",
      "Train : EPOCH 0043 / 0300  | BATCH 0002 | LOSS 0.0665\n",
      "Train : EPOCH 0043 / 0300  | BATCH 0003 | LOSS 0.0636\n",
      "Train : EPOCH 0043 / 0300  | BATCH 0004 | LOSS 0.0611\n",
      "Train : EPOCH 0043 / 0300  | BATCH 0005 | LOSS 0.0595\n",
      "Train : EPOCH 0043 / 0300  | BATCH 0006 | LOSS 0.0584\n",
      "Train : EPOCH 0043 / 0300  | BATCH 0007 | LOSS 0.0559\n",
      "Train : EPOCH 0043 / 0300  | BATCH 0008 | LOSS 0.0567\n",
      "Train : EPOCH 0043 / 0300  | BATCH 0009 | LOSS 0.0557\n",
      "Train : EPOCH 0043 / 0300  | BATCH 0010 | LOSS 0.0553\n",
      "Train : EPOCH 0043 / 0300  | BATCH 0011 | LOSS 0.0581\n",
      "Train : EPOCH 0043 / 0300  | BATCH 0012 | LOSS 0.0580\n",
      "Train : EPOCH 0043 / 0300  | BATCH 0013 | LOSS 0.0575\n",
      "Train : EPOCH 0043 / 0300  | BATCH 0014 | LOSS 0.0590\n",
      "Validation Error: \n",
      " Accuracy: 0.0%, Avg loss: 0.102403, f1: 0.7866538763046265 \n",
      "\n",
      "Epoch 44\n",
      "-------------------------------\n",
      "Train : EPOCH 0044 / 0300  | BATCH 0000 | LOSS 0.0517\n",
      "Train : EPOCH 0044 / 0300  | BATCH 0001 | LOSS 0.0500\n",
      "Train : EPOCH 0044 / 0300  | BATCH 0002 | LOSS 0.0481\n",
      "Train : EPOCH 0044 / 0300  | BATCH 0003 | LOSS 0.0503\n",
      "Train : EPOCH 0044 / 0300  | BATCH 0004 | LOSS 0.0544\n",
      "Train : EPOCH 0044 / 0300  | BATCH 0005 | LOSS 0.0560\n",
      "Train : EPOCH 0044 / 0300  | BATCH 0006 | LOSS 0.0564\n",
      "Train : EPOCH 0044 / 0300  | BATCH 0007 | LOSS 0.0580\n",
      "Train : EPOCH 0044 / 0300  | BATCH 0008 | LOSS 0.0565\n",
      "Train : EPOCH 0044 / 0300  | BATCH 0009 | LOSS 0.0562\n",
      "Train : EPOCH 0044 / 0300  | BATCH 0010 | LOSS 0.0556\n",
      "Train : EPOCH 0044 / 0300  | BATCH 0011 | LOSS 0.0544\n",
      "Train : EPOCH 0044 / 0300  | BATCH 0012 | LOSS 0.0554\n",
      "Train : EPOCH 0044 / 0300  | BATCH 0013 | LOSS 0.0566\n",
      "Train : EPOCH 0044 / 0300  | BATCH 0014 | LOSS 0.0578\n",
      "Validation Error: \n",
      " Accuracy: 0.0%, Avg loss: 0.085596, f1: 0.8179401755332947 \n",
      "\n",
      "Epoch 45\n",
      "-------------------------------\n",
      "Train : EPOCH 0045 / 0300  | BATCH 0000 | LOSS 0.0505\n",
      "Train : EPOCH 0045 / 0300  | BATCH 0001 | LOSS 0.0597\n",
      "Train : EPOCH 0045 / 0300  | BATCH 0002 | LOSS 0.0599\n",
      "Train : EPOCH 0045 / 0300  | BATCH 0003 | LOSS 0.0602\n",
      "Train : EPOCH 0045 / 0300  | BATCH 0004 | LOSS 0.0575\n",
      "Train : EPOCH 0045 / 0300  | BATCH 0005 | LOSS 0.0549\n",
      "Train : EPOCH 0045 / 0300  | BATCH 0006 | LOSS 0.0546\n",
      "Train : EPOCH 0045 / 0300  | BATCH 0007 | LOSS 0.0537\n",
      "Train : EPOCH 0045 / 0300  | BATCH 0008 | LOSS 0.0536\n",
      "Train : EPOCH 0045 / 0300  | BATCH 0009 | LOSS 0.0524\n",
      "Train : EPOCH 0045 / 0300  | BATCH 0010 | LOSS 0.0534\n",
      "Train : EPOCH 0045 / 0300  | BATCH 0011 | LOSS 0.0530\n",
      "Train : EPOCH 0045 / 0300  | BATCH 0012 | LOSS 0.0535\n",
      "Train : EPOCH 0045 / 0300  | BATCH 0013 | LOSS 0.0551\n",
      "Train : EPOCH 0045 / 0300  | BATCH 0014 | LOSS 0.0566\n",
      "Validation Error: \n",
      " Accuracy: 0.0%, Avg loss: 0.106064, f1: 0.7888193811689105 \n",
      "\n",
      "Epoch 46\n",
      "-------------------------------\n",
      "Train : EPOCH 0046 / 0300  | BATCH 0000 | LOSS 0.0690\n",
      "Train : EPOCH 0046 / 0300  | BATCH 0001 | LOSS 0.0584\n",
      "Train : EPOCH 0046 / 0300  | BATCH 0002 | LOSS 0.0589\n",
      "Train : EPOCH 0046 / 0300  | BATCH 0003 | LOSS 0.0566\n",
      "Train : EPOCH 0046 / 0300  | BATCH 0004 | LOSS 0.0539\n",
      "Train : EPOCH 0046 / 0300  | BATCH 0005 | LOSS 0.0529\n",
      "Train : EPOCH 0046 / 0300  | BATCH 0006 | LOSS 0.0534\n",
      "Train : EPOCH 0046 / 0300  | BATCH 0007 | LOSS 0.0564\n",
      "Train : EPOCH 0046 / 0300  | BATCH 0008 | LOSS 0.0567\n",
      "Train : EPOCH 0046 / 0300  | BATCH 0009 | LOSS 0.0579\n",
      "Train : EPOCH 0046 / 0300  | BATCH 0010 | LOSS 0.0566\n",
      "Train : EPOCH 0046 / 0300  | BATCH 0011 | LOSS 0.0561\n",
      "Train : EPOCH 0046 / 0300  | BATCH 0012 | LOSS 0.0560\n",
      "Train : EPOCH 0046 / 0300  | BATCH 0013 | LOSS 0.0555\n",
      "Train : EPOCH 0046 / 0300  | BATCH 0014 | LOSS 0.0551\n",
      "Validation Error: \n",
      " Accuracy: 0.0%, Avg loss: 0.076469, f1: 0.8374056986400059 \n",
      "\n",
      "Epoch 47\n",
      "-------------------------------\n",
      "Train : EPOCH 0047 / 0300  | BATCH 0000 | LOSS 0.0445\n",
      "Train : EPOCH 0047 / 0300  | BATCH 0001 | LOSS 0.0521\n",
      "Train : EPOCH 0047 / 0300  | BATCH 0002 | LOSS 0.0603\n",
      "Train : EPOCH 0047 / 0300  | BATCH 0003 | LOSS 0.0614\n",
      "Train : EPOCH 0047 / 0300  | BATCH 0004 | LOSS 0.0587\n",
      "Train : EPOCH 0047 / 0300  | BATCH 0005 | LOSS 0.0581\n",
      "Train : EPOCH 0047 / 0300  | BATCH 0006 | LOSS 0.0573\n",
      "Train : EPOCH 0047 / 0300  | BATCH 0007 | LOSS 0.0560\n",
      "Train : EPOCH 0047 / 0300  | BATCH 0008 | LOSS 0.0548\n",
      "Train : EPOCH 0047 / 0300  | BATCH 0009 | LOSS 0.0548\n",
      "Train : EPOCH 0047 / 0300  | BATCH 0010 | LOSS 0.0550\n",
      "Train : EPOCH 0047 / 0300  | BATCH 0011 | LOSS 0.0543\n",
      "Train : EPOCH 0047 / 0300  | BATCH 0012 | LOSS 0.0545\n",
      "Train : EPOCH 0047 / 0300  | BATCH 0013 | LOSS 0.0559\n",
      "Train : EPOCH 0047 / 0300  | BATCH 0014 | LOSS 0.0565\n",
      "Validation Error: \n",
      " Accuracy: 0.0%, Avg loss: 0.049835, f1: 0.8929679904665265 \n",
      "\n",
      "Epoch 47 에서 best model 저장\n",
      "-------------------------------\n",
      "--------------------------------------------\n",
      "Epoch 48\n",
      "-------------------------------\n",
      "Train : EPOCH 0048 / 0300  | BATCH 0000 | LOSS 0.0452\n",
      "Train : EPOCH 0048 / 0300  | BATCH 0001 | LOSS 0.0502\n",
      "Train : EPOCH 0048 / 0300  | BATCH 0002 | LOSS 0.0518\n",
      "Train : EPOCH 0048 / 0300  | BATCH 0003 | LOSS 0.0514\n",
      "Train : EPOCH 0048 / 0300  | BATCH 0004 | LOSS 0.0552\n",
      "Train : EPOCH 0048 / 0300  | BATCH 0005 | LOSS 0.0540\n",
      "Train : EPOCH 0048 / 0300  | BATCH 0006 | LOSS 0.0516\n",
      "Train : EPOCH 0048 / 0300  | BATCH 0007 | LOSS 0.0533\n",
      "Train : EPOCH 0048 / 0300  | BATCH 0008 | LOSS 0.0531\n",
      "Train : EPOCH 0048 / 0300  | BATCH 0009 | LOSS 0.0543\n",
      "Train : EPOCH 0048 / 0300  | BATCH 0010 | LOSS 0.0533\n",
      "Train : EPOCH 0048 / 0300  | BATCH 0011 | LOSS 0.0539\n",
      "Train : EPOCH 0048 / 0300  | BATCH 0012 | LOSS 0.0541\n",
      "Train : EPOCH 0048 / 0300  | BATCH 0013 | LOSS 0.0540\n",
      "Train : EPOCH 0048 / 0300  | BATCH 0014 | LOSS 0.0562\n"
     ]
    },
    {
     "ename": "KeyboardInterrupt",
     "evalue": "",
     "output_type": "error",
     "traceback": [
      "\u001b[1;31m---------------------------------------------------------------------------\u001b[0m",
      "\u001b[1;31mKeyboardInterrupt\u001b[0m                         Traceback (most recent call last)",
      "\u001b[1;32m~\\AppData\\Local\\Temp\\ipykernel_22544\\3218923154.py\u001b[0m in \u001b[0;36m<module>\u001b[1;34m\u001b[0m\n\u001b[0;32m      4\u001b[0m     \u001b[0mprint\u001b[0m\u001b[1;33m(\u001b[0m\u001b[1;34mf\"Epoch {t+1}\\n-------------------------------\"\u001b[0m\u001b[1;33m)\u001b[0m\u001b[1;33m\u001b[0m\u001b[1;33m\u001b[0m\u001b[0m\n\u001b[0;32m      5\u001b[0m     \u001b[0mtrain_loss\u001b[0m \u001b[1;33m=\u001b[0m \u001b[0mtrain\u001b[0m\u001b[1;33m(\u001b[0m\u001b[0mtrain_dataloader\u001b[0m\u001b[1;33m,\u001b[0m \u001b[0mmodel\u001b[0m\u001b[1;33m,\u001b[0m \u001b[0mloss_fn\u001b[0m\u001b[1;33m,\u001b[0m \u001b[0moptimizer\u001b[0m\u001b[1;33m,\u001b[0m \u001b[0mepoch\u001b[0m \u001b[1;33m=\u001b[0m \u001b[0mt\u001b[0m\u001b[1;33m+\u001b[0m\u001b[1;36m1\u001b[0m\u001b[1;33m)\u001b[0m\u001b[1;33m\u001b[0m\u001b[1;33m\u001b[0m\u001b[0m\n\u001b[1;32m----> 6\u001b[1;33m     \u001b[0mvalidation_loss\u001b[0m\u001b[1;33m,\u001b[0m \u001b[0mscore\u001b[0m \u001b[1;33m=\u001b[0m \u001b[0mvalidation\u001b[0m\u001b[1;33m(\u001b[0m\u001b[0mvalidation_dataloader\u001b[0m\u001b[1;33m,\u001b[0m \u001b[0mmodel\u001b[0m\u001b[1;33m,\u001b[0m \u001b[0mloss_fn\u001b[0m\u001b[1;33m)\u001b[0m\u001b[1;33m\u001b[0m\u001b[1;33m\u001b[0m\u001b[0m\n\u001b[0m\u001b[0;32m      7\u001b[0m \u001b[1;33m\u001b[0m\u001b[0m\n\u001b[0;32m      8\u001b[0m     \u001b[1;31m# tensor board\u001b[0m\u001b[1;33m\u001b[0m\u001b[1;33m\u001b[0m\u001b[1;33m\u001b[0m\u001b[0m\n",
      "\u001b[1;32m~\\AppData\\Local\\Temp\\ipykernel_22544\\3811477199.py\u001b[0m in \u001b[0;36mvalidation\u001b[1;34m(dataloader, model, loss_fn)\u001b[0m\n\u001b[0;32m     15\u001b[0m         \u001b[1;32mfor\u001b[0m \u001b[0mX\u001b[0m\u001b[1;33m,\u001b[0m \u001b[0my\u001b[0m \u001b[1;32min\u001b[0m \u001b[0mdataloader\u001b[0m\u001b[1;33m:\u001b[0m\u001b[1;33m\u001b[0m\u001b[1;33m\u001b[0m\u001b[0m\n\u001b[0;32m     16\u001b[0m             \u001b[0mX\u001b[0m\u001b[1;33m,\u001b[0m \u001b[0my\u001b[0m \u001b[1;33m=\u001b[0m \u001b[0mX\u001b[0m\u001b[1;33m.\u001b[0m\u001b[0mto\u001b[0m\u001b[1;33m(\u001b[0m\u001b[0mdevice\u001b[0m\u001b[1;33m)\u001b[0m\u001b[1;33m,\u001b[0m \u001b[0my\u001b[0m\u001b[1;33m.\u001b[0m\u001b[0mto\u001b[0m\u001b[1;33m(\u001b[0m\u001b[0mdevice\u001b[0m\u001b[1;33m)\u001b[0m\u001b[1;33m\u001b[0m\u001b[1;33m\u001b[0m\u001b[0m\n\u001b[1;32m---> 17\u001b[1;33m             \u001b[0mpred\u001b[0m \u001b[1;33m=\u001b[0m \u001b[0mmodel\u001b[0m\u001b[1;33m(\u001b[0m\u001b[0mX\u001b[0m\u001b[1;33m[\u001b[0m\u001b[1;33m:\u001b[0m\u001b[1;33m,\u001b[0m\u001b[1;33m:\u001b[0m\u001b[1;33m,\u001b[0m\u001b[1;33m:\u001b[0m\u001b[1;36m3750\u001b[0m\u001b[1;33m]\u001b[0m\u001b[1;33m)\u001b[0m\u001b[1;33m\u001b[0m\u001b[1;33m\u001b[0m\u001b[0m\n\u001b[0m\u001b[0;32m     18\u001b[0m             \u001b[0mvalidation_loss\u001b[0m \u001b[1;33m+=\u001b[0m \u001b[0mloss_fn\u001b[0m\u001b[1;33m(\u001b[0m\u001b[0mpred\u001b[0m\u001b[1;33m,\u001b[0m \u001b[0my\u001b[0m\u001b[1;33m)\u001b[0m\u001b[1;33m.\u001b[0m\u001b[0mitem\u001b[0m\u001b[1;33m(\u001b[0m\u001b[1;33m)\u001b[0m\u001b[1;33m\u001b[0m\u001b[1;33m\u001b[0m\u001b[0m\n\u001b[0;32m     19\u001b[0m             \u001b[0mcorrect\u001b[0m \u001b[1;33m=\u001b[0m \u001b[1;36m0\u001b[0m\u001b[1;33m\u001b[0m\u001b[1;33m\u001b[0m\u001b[0m\n",
      "\u001b[1;32mc:\\anaconda3\\envs\\SED\\lib\\site-packages\\torch\\nn\\modules\\module.py\u001b[0m in \u001b[0;36m_call_impl\u001b[1;34m(self, *input, **kwargs)\u001b[0m\n\u001b[0;32m   1128\u001b[0m         if not (self._backward_hooks or self._forward_hooks or self._forward_pre_hooks or _global_backward_hooks\n\u001b[0;32m   1129\u001b[0m                 or _global_forward_hooks or _global_forward_pre_hooks):\n\u001b[1;32m-> 1130\u001b[1;33m             \u001b[1;32mreturn\u001b[0m \u001b[0mforward_call\u001b[0m\u001b[1;33m(\u001b[0m\u001b[1;33m*\u001b[0m\u001b[0minput\u001b[0m\u001b[1;33m,\u001b[0m \u001b[1;33m**\u001b[0m\u001b[0mkwargs\u001b[0m\u001b[1;33m)\u001b[0m\u001b[1;33m\u001b[0m\u001b[1;33m\u001b[0m\u001b[0m\n\u001b[0m\u001b[0;32m   1131\u001b[0m         \u001b[1;31m# Do not call functions when jit is used\u001b[0m\u001b[1;33m\u001b[0m\u001b[1;33m\u001b[0m\u001b[1;33m\u001b[0m\u001b[0m\n\u001b[0;32m   1132\u001b[0m         \u001b[0mfull_backward_hooks\u001b[0m\u001b[1;33m,\u001b[0m \u001b[0mnon_full_backward_hooks\u001b[0m \u001b[1;33m=\u001b[0m \u001b[1;33m[\u001b[0m\u001b[1;33m]\u001b[0m\u001b[1;33m,\u001b[0m \u001b[1;33m[\u001b[0m\u001b[1;33m]\u001b[0m\u001b[1;33m\u001b[0m\u001b[1;33m\u001b[0m\u001b[0m\n",
      "\u001b[1;32mz:\\nas1_data\\user\\hhj\\hab\\crash_surveillance_SED_CRNN\\nnet\\CRNN.py\u001b[0m in \u001b[0;36mforward\u001b[1;34m(self, x)\u001b[0m\n\u001b[0;32m     79\u001b[0m     \u001b[1;31m#input size : (batch_size, n_channels, n_frames/n_segment, n_freq) <- mel spectogram\u001b[0m\u001b[1;33m\u001b[0m\u001b[1;33m\u001b[0m\u001b[1;33m\u001b[0m\u001b[0m\n\u001b[0;32m     80\u001b[0m     \u001b[0mx\u001b[0m \u001b[1;33m=\u001b[0m \u001b[0mself\u001b[0m\u001b[1;33m.\u001b[0m\u001b[0mcnn\u001b[0m\u001b[1;33m(\u001b[0m\u001b[0mx\u001b[0m\u001b[1;33m)\u001b[0m\u001b[1;33m\u001b[0m\u001b[1;33m\u001b[0m\u001b[0m\n\u001b[1;32m---> 81\u001b[1;33m     \u001b[0mx\u001b[0m \u001b[1;33m=\u001b[0m \u001b[0mself\u001b[0m\u001b[1;33m.\u001b[0m\u001b[0mrnn\u001b[0m\u001b[1;33m(\u001b[0m\u001b[0mx\u001b[0m\u001b[1;33m)\u001b[0m\u001b[1;33m\u001b[0m\u001b[1;33m\u001b[0m\u001b[0m\n\u001b[0m\u001b[0;32m     82\u001b[0m     \u001b[0mx\u001b[0m \u001b[1;33m=\u001b[0m \u001b[0mself\u001b[0m\u001b[1;33m.\u001b[0m\u001b[0mdropout\u001b[0m\u001b[1;33m(\u001b[0m\u001b[0mx\u001b[0m\u001b[1;33m)\u001b[0m\u001b[1;33m\u001b[0m\u001b[1;33m\u001b[0m\u001b[0m\n\u001b[0;32m     83\u001b[0m     \u001b[0mx\u001b[0m \u001b[1;33m=\u001b[0m \u001b[0mself\u001b[0m\u001b[1;33m.\u001b[0m\u001b[0mdense\u001b[0m\u001b[1;33m(\u001b[0m\u001b[0mx\u001b[0m\u001b[1;33m)\u001b[0m\u001b[1;33m\u001b[0m\u001b[1;33m\u001b[0m\u001b[0m\n",
      "\u001b[1;32mc:\\anaconda3\\envs\\SED\\lib\\site-packages\\torch\\nn\\modules\\module.py\u001b[0m in \u001b[0;36m_call_impl\u001b[1;34m(self, *input, **kwargs)\u001b[0m\n\u001b[0;32m   1128\u001b[0m         if not (self._backward_hooks or self._forward_hooks or self._forward_pre_hooks or _global_backward_hooks\n\u001b[0;32m   1129\u001b[0m                 or _global_forward_hooks or _global_forward_pre_hooks):\n\u001b[1;32m-> 1130\u001b[1;33m             \u001b[1;32mreturn\u001b[0m \u001b[0mforward_call\u001b[0m\u001b[1;33m(\u001b[0m\u001b[1;33m*\u001b[0m\u001b[0minput\u001b[0m\u001b[1;33m,\u001b[0m \u001b[1;33m**\u001b[0m\u001b[0mkwargs\u001b[0m\u001b[1;33m)\u001b[0m\u001b[1;33m\u001b[0m\u001b[1;33m\u001b[0m\u001b[0m\n\u001b[0m\u001b[0;32m   1131\u001b[0m         \u001b[1;31m# Do not call functions when jit is used\u001b[0m\u001b[1;33m\u001b[0m\u001b[1;33m\u001b[0m\u001b[1;33m\u001b[0m\u001b[0m\n\u001b[0;32m   1132\u001b[0m         \u001b[0mfull_backward_hooks\u001b[0m\u001b[1;33m,\u001b[0m \u001b[0mnon_full_backward_hooks\u001b[0m \u001b[1;33m=\u001b[0m \u001b[1;33m[\u001b[0m\u001b[1;33m]\u001b[0m\u001b[1;33m,\u001b[0m \u001b[1;33m[\u001b[0m\u001b[1;33m]\u001b[0m\u001b[1;33m\u001b[0m\u001b[1;33m\u001b[0m\u001b[0m\n",
      "\u001b[1;32mz:\\nas1_data\\user\\hhj\\hab\\crash_surveillance_SED_CRNN\\nnet\\CRNN.py\u001b[0m in \u001b[0;36mforward\u001b[1;34m(self, input_feat)\u001b[0m\n\u001b[0;32m     59\u001b[0m \u001b[1;33m\u001b[0m\u001b[0m\n\u001b[0;32m     60\u001b[0m     \u001b[1;32mdef\u001b[0m \u001b[0mforward\u001b[0m\u001b[1;33m(\u001b[0m\u001b[0mself\u001b[0m\u001b[1;33m,\u001b[0m \u001b[0minput_feat\u001b[0m\u001b[1;33m)\u001b[0m\u001b[1;33m:\u001b[0m\u001b[1;33m\u001b[0m\u001b[1;33m\u001b[0m\u001b[0m\n\u001b[1;32m---> 61\u001b[1;33m         \u001b[0mrecurrent\u001b[0m\u001b[1;33m,\u001b[0m \u001b[0m_\u001b[0m \u001b[1;33m=\u001b[0m \u001b[0mself\u001b[0m\u001b[1;33m.\u001b[0m\u001b[0mrnn\u001b[0m\u001b[1;33m(\u001b[0m\u001b[0minput_feat\u001b[0m\u001b[1;33m)\u001b[0m\u001b[1;33m\u001b[0m\u001b[1;33m\u001b[0m\u001b[0m\n\u001b[0m\u001b[0;32m     62\u001b[0m         \u001b[1;32mreturn\u001b[0m \u001b[0mrecurrent\u001b[0m\u001b[1;33m\u001b[0m\u001b[1;33m\u001b[0m\u001b[0m\n\u001b[0;32m     63\u001b[0m \u001b[1;33m\u001b[0m\u001b[0m\n",
      "\u001b[1;32mc:\\anaconda3\\envs\\SED\\lib\\site-packages\\torch\\nn\\modules\\module.py\u001b[0m in \u001b[0;36m_call_impl\u001b[1;34m(self, *input, **kwargs)\u001b[0m\n\u001b[0;32m   1128\u001b[0m         if not (self._backward_hooks or self._forward_hooks or self._forward_pre_hooks or _global_backward_hooks\n\u001b[0;32m   1129\u001b[0m                 or _global_forward_hooks or _global_forward_pre_hooks):\n\u001b[1;32m-> 1130\u001b[1;33m             \u001b[1;32mreturn\u001b[0m \u001b[0mforward_call\u001b[0m\u001b[1;33m(\u001b[0m\u001b[1;33m*\u001b[0m\u001b[0minput\u001b[0m\u001b[1;33m,\u001b[0m \u001b[1;33m**\u001b[0m\u001b[0mkwargs\u001b[0m\u001b[1;33m)\u001b[0m\u001b[1;33m\u001b[0m\u001b[1;33m\u001b[0m\u001b[0m\n\u001b[0m\u001b[0;32m   1131\u001b[0m         \u001b[1;31m# Do not call functions when jit is used\u001b[0m\u001b[1;33m\u001b[0m\u001b[1;33m\u001b[0m\u001b[1;33m\u001b[0m\u001b[0m\n\u001b[0;32m   1132\u001b[0m         \u001b[0mfull_backward_hooks\u001b[0m\u001b[1;33m,\u001b[0m \u001b[0mnon_full_backward_hooks\u001b[0m \u001b[1;33m=\u001b[0m \u001b[1;33m[\u001b[0m\u001b[1;33m]\u001b[0m\u001b[1;33m,\u001b[0m \u001b[1;33m[\u001b[0m\u001b[1;33m]\u001b[0m\u001b[1;33m\u001b[0m\u001b[1;33m\u001b[0m\u001b[0m\n",
      "\u001b[1;32mc:\\anaconda3\\envs\\SED\\lib\\site-packages\\torch\\nn\\modules\\rnn.py\u001b[0m in \u001b[0;36mforward\u001b[1;34m(self, input, hx)\u001b[0m\n\u001b[0;32m    949\u001b[0m         \u001b[1;32mif\u001b[0m \u001b[0mbatch_sizes\u001b[0m \u001b[1;32mis\u001b[0m \u001b[1;32mNone\u001b[0m\u001b[1;33m:\u001b[0m\u001b[1;33m\u001b[0m\u001b[1;33m\u001b[0m\u001b[0m\n\u001b[0;32m    950\u001b[0m             result = _VF.gru(input, hx, self._flat_weights, self.bias, self.num_layers,\n\u001b[1;32m--> 951\u001b[1;33m                              self.dropout, self.training, self.bidirectional, self.batch_first)\n\u001b[0m\u001b[0;32m    952\u001b[0m         \u001b[1;32melse\u001b[0m\u001b[1;33m:\u001b[0m\u001b[1;33m\u001b[0m\u001b[1;33m\u001b[0m\u001b[0m\n\u001b[0;32m    953\u001b[0m             result = _VF.gru(input, batch_sizes, hx, self._flat_weights, self.bias,\n",
      "\u001b[1;31mKeyboardInterrupt\u001b[0m: "
     ]
    }
   ],
   "source": [
    "best_loss = 1000\n",
    "\n",
    "for t in range(epochs):\n",
    "    print(f\"Epoch {t+1}\\n-------------------------------\")\n",
    "    train_loss = train(train_dataloader, model, loss_fn, optimizer, epoch = t+1)\n",
    "    validation_loss, score = validation(validation_dataloader, model, loss_fn)\n",
    "\n",
    "    # tensor board\n",
    "    writer.add_scalar('training loss', train_loss, t+1)\n",
    "    writer.add_scalar('validation loss', validation_loss, t+1)\n",
    "\n",
    "    # model save\n",
    "    save(EPOCH = t+1, net = model, optimizer = optimizer, TRAIN_LOSS = train_loss, VAL_LOSS = validation_loss, PATH = ckpt_dir)\n",
    "    if validation_loss < best_loss:\n",
    "\n",
    "        best_loss = validation_loss\n",
    "        save_best_model(f1score = score, EPOCH = t+1, net = model, optimizer = optimizer, TRAIN_LOSS = train_loss, VAL_LOSS = validation_loss, PATH = ckpt_dir)\n",
    "        print(f\"--------------------------------------------\")\n",
    "        \n",
    "print(\"Done!\")"
   ]
  },
  {
   "cell_type": "markdown",
   "metadata": {},
   "source": [
    "### 8. test"
   ]
  },
  {
   "cell_type": "code",
   "execution_count": 14,
   "metadata": {},
   "outputs": [],
   "source": [
    "with open(args.conf_file, \"r\") as f:\n",
    "    conf = yaml.safe_load(f)"
   ]
  },
  {
   "cell_type": "code",
   "execution_count": 15,
   "metadata": {},
   "outputs": [],
   "source": [
    "conf['test']['ckpt_path'] = './checkpoint\\MIVIA_2022_08_17_06_58'"
   ]
  },
  {
   "cell_type": "code",
   "execution_count": 16,
   "metadata": {},
   "outputs": [],
   "source": [
    "########################################################################################################################\n",
    "#                                                         TEST                                                         #\n",
    "########################################################################################################################\n",
    "\n",
    "def test(dataloader, model, loss_fn):\n",
    "    size = len(dataloader.dataset)\n",
    "    num_batches = len(dataloader)\n",
    "\n",
    "    ### 로드 추가(only model)\n",
    "    model, _, _, _, _ = load_bestmodel(PATH = conf['test']['ckpt_path'], model = model, optimizer = optimizer, device = torch.device('cuda')) # best model\n",
    "\n",
    "    model.eval()\n",
    "    test_loss, correct = 0, 0\n",
    "\n",
    "    score = 0.0 #임시로 추가 1\n",
    "\n",
    "    with torch.no_grad():\n",
    "        for i, (X, y) in enumerate(dataloader):\n",
    "            X, y = X.to(device), y.to(device) # X : [batchsize, frequency, frame]\n",
    "            pred = model(X[:,:,:3750]) #[batchsize, frame, class]\n",
    "            test_loss += loss_fn(pred, y).item()\n",
    "\n",
    "            # input feature visualization torch.ge(pred, 0.5)\n",
    "\n",
    "            mod_binary = torch.ge(pred, 0.4)\n",
    "\n",
    "            ### 임시로 추가 2\n",
    "            mod_binary = torch.ge(pred, 0.4)\n",
    "            label_binary = torch.ge(y, 0.4)\n",
    "            is_correct = torch.eq(mod_binary, label_binary)\n",
    "            score += F1_score(mod_binary,is_correct,y)\n",
    "            ### 임시로 추가 \n",
    "\n",
    "            \n",
    "            \n",
    "            \n",
    "            \n",
    "\n",
    "            # writer.add_image(f'spectrogram{i}', plot_spectrogram(X.cpu().squeeze(), title = f'{i}'))\n",
    "            # writer.add_image(f'label{i}', matplotlib_label_show(y.cpu().squeeze(), title = f'label {i}'))\n",
    "            # writer.add_image(f'prediction{i}', matplotlib_label_show(pred.detach().cpu().squeeze(), title = f'prediction {i}'))\n",
    "            # writer.add_image(f'post{i}', matplotlib_label_show(mod_binary.detach().cpu().squeeze(), title = f'post {i}'))\n",
    "\n",
    "            correct = 0\n",
    "            # correct += (pred.argmax(1) == /y).type(torch.float).sum().item()\n",
    "\n",
    "    test_loss /= num_batches\n",
    "    correct /= size\n",
    "\n",
    "    score /= num_batches # 임시로 추가 3\n",
    "\n",
    "\n",
    "    # ...학습 중 손실(running loss)을 기록하고\n",
    "    writer.add_scalar('test loss', test_loss)\n",
    "    print(f\"test Error: \\n Accuracy: {(100*correct):>0.1f}%, Avg loss: {test_loss:>8f}, f1 : {score} \\n\")\n",
    "\n",
    "    return test_loss"
   ]
  },
  {
   "cell_type": "code",
   "execution_count": 17,
   "metadata": {},
   "outputs": [
    {
     "name": "stdout",
     "output_type": "stream",
     "text": [
      "test Error: \n",
      " Accuracy: 0.0%, Avg loss: 0.057525, f1 : 0.8722147984164101 \n",
      "\n",
      "0.05752539860882929\n"
     ]
    }
   ],
   "source": [
    "test_loss = test(test_dataloader, model, loss_fn)\n",
    "print(test_loss)"
   ]
  },
  {
   "cell_type": "markdown",
   "metadata": {},
   "source": [
    "### test 결과 시각화"
   ]
  },
  {
   "cell_type": "code",
   "execution_count": 18,
   "metadata": {},
   "outputs": [],
   "source": [
    "import scipy\n",
    "\n",
    "def matplotlib_label_show(target):\n",
    "    n_frame = target.shape[0] # target.shape[0] = segment\n",
    "\n",
    "    fig = plt.figure()\n",
    "    ax1 = fig.add_subplot(111)\n",
    "\n",
    "    x = np.arange(n_frame)  #(60,)\n",
    "    y1 = target[:,0]        #(60,) \n",
    "    y2 = target[:,1]        #(60,) tire skidding\n",
    "    y3 = target[:,2]        #(60,) car crash\n",
    "\n",
    "    ax1.plot(x, y1, label = 'scream')\n",
    "    ax1.plot(x, y2, label = 'tire skidding', color = 'orange')\n",
    "    ax1.plot(x, y3, label = 'car crash', color = 'green')\n",
    "\n",
    "\n",
    "    ax1.legend(framealpha = 1, loc = 'lower right', bbox_to_anchor=(1.4,0))\n",
    "    # ax1.set_title('{}'.format(xmlfile))\n",
    "\n",
    "\n",
    "    plt.show()\n",
    "\n",
    "\n",
    "def median_filter(pred, median_window, thresholds):\n",
    "    # pred : [batch, frame, class]\n",
    "    pred = pred.squeeze() # [frame, class]\n",
    "    post_filter = scipy.ndimage.filters.median_filter(pred.cpu().detach().numpy(), (median_window, 1)) # [frames, class]\n",
    "    post_filter = (post_filter>thresholds).astype(float)\n",
    "    \n",
    "    return torch.Tensor(post_filter).unsqueeze(0)"
   ]
  },
  {
   "cell_type": "code",
   "execution_count": 19,
   "metadata": {},
   "outputs": [],
   "source": [
    "spectrogram, label = next(iter(test_dataloader))"
   ]
  },
  {
   "cell_type": "code",
   "execution_count": 20,
   "metadata": {},
   "outputs": [],
   "source": [
    "for i, (x, y) in enumerate(test_dataloader):\n",
    "    if i == 3: \n",
    "        spectrogram = x\n",
    "        label = y\n",
    "\n",
    "\n",
    "        break"
   ]
  },
  {
   "cell_type": "code",
   "execution_count": 21,
   "metadata": {},
   "outputs": [],
   "source": [
    "label = label.to(device)\n",
    "spectrogram = spectrogram.to(device)"
   ]
  },
  {
   "cell_type": "code",
   "execution_count": 41,
   "metadata": {},
   "outputs": [],
   "source": [
    "model, _, _, _, _ = load_bestmodel(PATH = conf['test']['ckpt_path'], model = model, optimizer = optimizer, device = torch.device('cuda'))"
   ]
  },
  {
   "cell_type": "code",
   "execution_count": 42,
   "metadata": {},
   "outputs": [],
   "source": [
    "pred = model(spectrogram[:,:,:3750])\n",
    "\n",
    "post = torch.ge(pred, 0.5)\n",
    "post_filter = median_filter(pred, conf['test']['median_window'], conf['test']['threshold'])"
   ]
  },
  {
   "cell_type": "code",
   "execution_count": 43,
   "metadata": {},
   "outputs": [
    {
     "name": "stdout",
     "output_type": "stream",
     "text": [
      "<built-in method type of Tensor object at 0x000002BFB92AD818> cuda:0\n",
      "<built-in method type of Tensor object at 0x000002BFB8F36548> cuda:0\n",
      "<built-in method type of Tensor object at 0x000002BFB92AD4F8> cpu\n",
      "0.7\n"
     ]
    }
   ],
   "source": [
    "print(pred.type, pred.device)\n",
    "print(post.type, post.device)\n",
    "print(post_filter.type, post_filter.device)\n",
    "print(conf['test']['threshold'])"
   ]
  },
  {
   "cell_type": "code",
   "execution_count": 44,
   "metadata": {},
   "outputs": [
    {
     "data": {
      "image/png": "[encoded data removed]",
      "text/plain": [
       "<Figure size 432x288 with 1 Axes>"
      ]
     },
     "metadata": {
      "needs_background": "light"
     },
     "output_type": "display_data"
    },
    {
     "data": {
      "image/png": "[encoded data removed]",
      "text/plain": [
       "<Figure size 432x288 with 1 Axes>"
      ]
     },
     "metadata": {
      "needs_background": "light"
     },
     "output_type": "display_data"
    },
    {
     "data": {
      "image/png": "[encoded data removed]",
      "text/plain": [
       "<Figure size 432x288 with 1 Axes>"
      ]
     },
     "metadata": {
      "needs_background": "light"
     },
     "output_type": "display_data"
    },
    {
     "data": {
      "image/png": "[encoded data removed]",
      "text/plain": [
       "<Figure size 432x288 with 1 Axes>"
      ]
     },
     "metadata": {
      "needs_background": "light"
     },
     "output_type": "display_data"
    }
   ],
   "source": [
    "matplotlib_label_show(label.cpu().squeeze())\n",
    "matplotlib_label_show(pred.detach().cpu().squeeze())\n",
    "matplotlib_label_show(post.detach().cpu().squeeze())\n",
    "matplotlib_label_show(post_filter.squeeze())\n"
   ]
  },
  {
   "cell_type": "code",
   "execution_count": 53,
   "metadata": {},
   "outputs": [
    {
     "data": {
      "text/plain": [
       "([<matplotlib.axis.YTick at 0x2bf8c3f9a48>,\n",
       "  <matplotlib.axis.YTick at 0x2bf802d4388>,\n",
       "  <matplotlib.axis.YTick at 0x2bf8c3e3548>],\n",
       " [Text(0, 0, 'scream'), Text(0, 1, 'tire'), Text(0, 2, 'crash')])"
      ]
     },
     "execution_count": 53,
     "metadata": {},
     "output_type": "execute_result"
    },
    {
     "data": {
      "image/png": "[encoded data removed]",
      "text/plain": [
       "<Figure size 720x432 with 2 Axes>"
      ]
     },
     "metadata": {
      "needs_background": "light"
     },
     "output_type": "display_data"
    }
   ],
   "source": [
    "plt.figure(figsize=(10, 6))\n",
    "plt.subplot(3, 1, 3)\n",
    "plt.imshow(pred.cpu().detach().numpy().squeeze().T, aspect='auto', interpolation='nearest', cmap='viridis')\n",
    "plt.colorbar(plt.imshow(pred_threshold.squeeze().T, aspect='auto', interpolation='nearest', cmap='viridis'))\n",
    "plt.yticks([0, 1, 2], ['scream', 'tire', 'crash'])"
   ]
  },
  {
   "cell_type": "markdown",
   "metadata": {},
   "source": [
    "### median filter test"
   ]
  },
  {
   "cell_type": "code",
   "execution_count": 26,
   "metadata": {},
   "outputs": [
    {
     "data": {
      "text/plain": [
       "torch.Tensor"
      ]
     },
     "execution_count": 26,
     "metadata": {},
     "output_type": "execute_result"
    }
   ],
   "source": [
    "type(pred)"
   ]
  },
  {
   "cell_type": "code",
   "execution_count": 27,
   "metadata": {},
   "outputs": [],
   "source": [
    "pred_threshold = pred.detach().cpu().numpy() > conf['test']['threshold']"
   ]
  },
  {
   "cell_type": "code",
   "execution_count": 28,
   "metadata": {},
   "outputs": [
    {
     "name": "stdout",
     "output_type": "stream",
     "text": [
      "<class 'numpy.ndarray'>\n",
      "[[[False False False]\n",
      "  [False False False]\n",
      "  [False False False]\n",
      "  ...\n",
      "  [False False  True]\n",
      "  [False False  True]\n",
      "  [False False  True]]]\n",
      "(1, 3750, 3)\n"
     ]
    }
   ],
   "source": [
    "print(type(pred_threshold))\n",
    "print(pred_threshold)\n",
    "print(pred_threshold.shape)"
   ]
  },
  {
   "cell_type": "code",
   "execution_count": 29,
   "metadata": {},
   "outputs": [],
   "source": [
    "pred_threshold_median = scipy.ndimage.filters.median_filter(pred_threshold.squeeze(), (7, 1))"
   ]
  },
  {
   "cell_type": "code",
   "execution_count": 30,
   "metadata": {},
   "outputs": [
    {
     "name": "stdout",
     "output_type": "stream",
     "text": [
      "[[False False False]\n",
      " [False False False]\n",
      " [False False False]\n",
      " ...\n",
      " [False False  True]\n",
      " [False False  True]\n",
      " [False False  True]]\n"
     ]
    }
   ],
   "source": [
    "print(pred_threshold_median)"
   ]
  },
  {
   "cell_type": "code",
   "execution_count": 45,
   "metadata": {},
   "outputs": [
    {
     "name": "stdout",
     "output_type": "stream",
     "text": [
      "False\n",
      "False\n",
      "(1, 3750, 3)\n",
      "<class 'numpy.ndarray'>\n"
     ]
    }
   ],
   "source": [
    "print((pred_threshold == pred_threshold_median).all())\n",
    "print(np.array_equal(pred_threshold_median, pred_threshold))\n",
    "print(pred_threshold.shape)\n",
    "print(type(pred_threshold))"
   ]
  },
  {
   "cell_type": "markdown",
   "metadata": {},
   "source": [
    "### figure plot test"
   ]
  },
  {
   "cell_type": "code",
   "execution_count": 51,
   "metadata": {},
   "outputs": [],
   "source": [
    "x, y= next(iter(test_dataloader))\n",
    "\n",
    "label = y.to(device)\n",
    "spectrogram = x.to(device)"
   ]
  },
  {
   "cell_type": "code",
   "execution_count": 52,
   "metadata": {},
   "outputs": [],
   "source": [
    "model, _, _, _, _ = load_bestmodel(PATH = conf['test']['ckpt_path'], model = model, optimizer = optimizer, device = torch.device('cuda'))\n",
    "\n",
    "pred = model(spectrogram[:,:,:3750])\n",
    "\n",
    "post_filter = median_filter(pred, conf['test']['median_window'], conf['test']['threshold'])"
   ]
  },
  {
   "cell_type": "code",
   "execution_count": 54,
   "metadata": {},
   "outputs": [],
   "source": [
    "spec = spectrogram.cpu().squeeze()\n",
    "target = label.cpu().squeeze()\n",
    "pred = pred.detach().cpu().squeeze()\n",
    "post = post_filter.detach().cpu().squeeze()"
   ]
  },
  {
   "cell_type": "code",
   "execution_count": 60,
   "metadata": {},
   "outputs": [
    {
     "name": "stdout",
     "output_type": "stream",
     "text": [
      "3750\n"
     ]
    }
   ],
   "source": [
    "n_frame = target.shape[0]\n",
    "print(n_frame)\n",
    "\n",
    "ylabel='freq_bin'\n",
    "aspect='auto'\n",
    "title = None\n",
    "xmax = None"
   ]
  },
  {
   "cell_type": "code",
   "execution_count": 64,
   "metadata": {},
   "outputs": [
    {
     "data": {
      "text/plain": [
       "<matplotlib.colorbar.Colorbar at 0x2c0092c8588>"
      ]
     },
     "execution_count": 64,
     "metadata": {},
     "output_type": "execute_result"
    },
    {
     "data": {
      "image/png": "[encoded data removed]",
      "text/plain": [
       "<Figure size 432x288 with 2 Axes>"
      ]
     },
     "metadata": {
      "needs_background": "light"
     },
     "output_type": "display_data"
    }
   ],
   "source": [
    "fig = plt.figure()\n",
    "\n",
    "#spectrogram\n",
    "ax1 = plt.subplot(221)\n",
    "ax1.set_title(title or 'Spectrogram (db)')\n",
    "ax1.set_ylabel(ylabel)\n",
    "ax1.set_xlabel('frame')\n",
    "im = ax1.imshow(librosa.power_to_db(spec), origin='lower', aspect=aspect)\n",
    "if xmax:\n",
    "    ax1.set_xlim((0, xmax))\n",
    "fig.colorbar(im, ax=ax1)"
   ]
  },
  {
   "cell_type": "code",
   "execution_count": 72,
   "metadata": {},
   "outputs": [
    {
     "data": {
      "text/plain": [
       "<matplotlib.colorbar.Colorbar at 0x2c036d9c0c8>"
      ]
     },
     "execution_count": 72,
     "metadata": {},
     "output_type": "execute_result"
    },
    {
     "data": {
      "image/png": "[encoded data removed]",
      "text/plain": [
       "<Figure size 432x288 with 2 Axes>"
      ]
     },
     "metadata": {
      "needs_background": "light"
     },
     "output_type": "display_data"
    }
   ],
   "source": [
    "ax2 = plt.subplot(222)\n",
    "ax2.set_title('label')\n",
    "ax2.set_ylabel('classes')\n",
    "ax2.set_xlabel('frame')\n",
    "im = ax2.imshow(target.T, aspect='auto', interpolation='nearest', cmap='viridis')\n",
    "plt.yticks([0, 1, 2], ['scream', 'tire', 'crash'])\n",
    "fig.colorbar(im, ax=ax2)"
   ]
  },
  {
   "cell_type": "code",
   "execution_count": 70,
   "metadata": {},
   "outputs": [
    {
     "data": {
      "text/plain": [
       "<matplotlib.colorbar.Colorbar at 0x2c03591cc48>"
      ]
     },
     "execution_count": 70,
     "metadata": {},
     "output_type": "execute_result"
    },
    {
     "data": {
      "image/png": "[encoded data removed]",
      "text/plain": [
       "<Figure size 432x288 with 2 Axes>"
      ]
     },
     "metadata": {
      "needs_background": "light"
     },
     "output_type": "display_data"
    }
   ],
   "source": [
    "ax3 = plt.subplot(223)\n",
    "ax3.set_title('Pred')\n",
    "ax3.set_ylabel('classes')\n",
    "ax3.set_xlabel('frame')\n",
    "im = ax3.imshow(pred.T, aspect='auto', interpolation='nearest', cmap='viridis')\n",
    "plt.yticks([0, 1, 2], ['scream', 'tire', 'crash'])\n",
    "fig.colorbar(im, ax=ax3)"
   ]
  },
  {
   "cell_type": "code",
   "execution_count": 81,
   "metadata": {},
   "outputs": [
    {
     "data": {
      "image/png": "[encoded data removed]",
      "text/plain": [
       "<Figure size 432x288 with 2 Axes>"
      ]
     },
     "metadata": {
      "needs_background": "light"
     },
     "output_type": "display_data"
    }
   ],
   "source": [
    "ax4 = plt.subplot(224)\n",
    "ax4.set_title('post')\n",
    "ax4.set_ylabel('classes')\n",
    "ax4.set_xlabel('frame')\n",
    "im = ax4.imshow(post.T, aspect='auto', interpolation='nearest', cmap='viridis')\n",
    "plt.yticks([0, 1, 2], ['scream', 'tire', 'crash'])\n",
    "fig.colorbar(im, ax=ax4)\n",
    "plt.savefig(f'a.jpg', dpi=200)"
   ]
  },
  {
   "cell_type": "code",
   "execution_count": 80,
   "metadata": {},
   "outputs": [
    {
     "data": {
      "text/plain": [
       "<Figure size 432x288 with 0 Axes>"
      ]
     },
     "metadata": {},
     "output_type": "display_data"
    }
   ],
   "source": [
    "plt.savefig(f'a.jpg', dpi=200)\n",
    "plt.close()"
   ]
  },
  {
   "cell_type": "code",
   "execution_count": 73,
   "metadata": {},
   "outputs": [
    {
     "data": {
      "text/plain": [
       "<matplotlib.colorbar.Colorbar at 0x2c036e73148>"
      ]
     },
     "execution_count": 73,
     "metadata": {},
     "output_type": "execute_result"
    },
    {
     "data": {
      "image/png": "[encoded data removed]",
      "text/plain": [
       "<Figure size 720x432 with 2 Axes>"
      ]
     },
     "metadata": {
      "needs_background": "light"
     },
     "output_type": "display_data"
    }
   ],
   "source": [
    "plt.figure(figsize=(10, 6))\n",
    "plt.subplot(3, 1, 3)\n",
    "plt.imshow(pred.T, aspect='auto', interpolation='nearest', cmap='gray_r')\n",
    "plt.colorbar(plt.imshow(pred_threshold.squeeze().T, aspect='auto', interpolation='nearest', cmap='gray_r'))"
   ]
  },
  {
   "cell_type": "code",
   "execution_count": 74,
   "metadata": {},
   "outputs": [
    {
     "data": {
      "text/plain": [
       "<matplotlib.image.AxesImage at 0x2c036d7ab88>"
      ]
     },
     "execution_count": 74,
     "metadata": {},
     "output_type": "execute_result"
    },
    {
     "data": {
      "image/png": "[encoded data removed]",
      "text/plain": [
       "<Figure size 720x432 with 1 Axes>"
      ]
     },
     "metadata": {
      "needs_background": "light"
     },
     "output_type": "display_data"
    }
   ],
   "source": [
    "plt.figure(figsize=(10, 6))\n",
    "plt.subplot(3, 1, 3)\n",
    "plt.imshow(post.T, aspect='auto', interpolation='nearest', cmap='gray_r')"
   ]
  },
  {
   "cell_type": "markdown",
   "metadata": {},
   "source": [
    "### NINA dataset으로 test"
   ]
  },
  {
   "cell_type": "code",
   "execution_count": 3,
   "metadata": {},
   "outputs": [],
   "source": [
    "import torchaudio\n",
    "from torch.utils.data.dataset import Dataset\n",
    "from torch.utils.data import DataLoader"
   ]
  },
  {
   "cell_type": "code",
   "execution_count": 44,
   "metadata": {},
   "outputs": [],
   "source": [
    "class NINA(Dataset):\n",
    "    def __init__(self, Audio_dir, transform = None, target_transform = None, pad_to = 60, fs = 44100):\n",
    "\n",
    "        self.Audio_dir = Audio_dir\n",
    "        self.resample_rate = fs # resampling rate\n",
    "        self.pad_to = pad_to * self.resample_rate # unit of pad_to : [second]\n",
    "\n",
    "        self.transform = transform\n",
    "        self.target_transform = target_transform\n",
    "\n",
    "        self.Audio_file_list = os.listdir(self.Audio_dir)\n",
    "\n",
    "\n",
    "    def __len__(self):\n",
    "        return len(self.Audio_file_list)  \n",
    "\n",
    "    def __getitem__(self, idx):\n",
    "\n",
    "        audio_data, _ = read_audio(os.path.join(self.Audio_dir, self.Audio_file_list[idx]), self.pad_to, self.resample_rate) # data load, fs = 32000(default)\n",
    "\n",
    "        if self.transform: #data transform\n",
    "            # transform. use this function to extract features in dataloader\n",
    "            spectrogram = self.transform\n",
    "            audio_data = spectrogram(audio_data) # [freq, frame]\n",
    "\n",
    "        return audio_data"
   ]
  },
  {
   "cell_type": "code",
   "execution_count": 43,
   "metadata": {},
   "outputs": [
    {
     "data": {
      "text/plain": [
       "'./data/nina/Audio\\\\2mzHohHcvJk_64.0_74.0.wav'"
      ]
     },
     "execution_count": 43,
     "metadata": {},
     "output_type": "execute_result"
    }
   ],
   "source": [
    "os.path.join('./data/nina/Audio', os.listdir('./data/nina/Audio')[0])"
   ]
  },
  {
   "cell_type": "code",
   "execution_count": 30,
   "metadata": {},
   "outputs": [
    {
     "data": {
      "text/plain": [
       "['2mzHohHcvJk_64.0_74.0.wav',\n",
       " '2mzHohHcvJk_179.0_189.0.wav',\n",
       " '2mzHohHcvJk_256.0_266.0.wav',\n",
       " '2mzHohHcvJk_74.0_84.0.wav',\n",
       " '2mzHohHcvJk_149.0_159.0.wav',\n",
       " '2mzHohHcvJk_45_0_55_0.wav',\n",
       " '2mzHohHcvJk_204.0_214.0.wav']"
      ]
     },
     "execution_count": 30,
     "metadata": {},
     "output_type": "execute_result"
    }
   ],
   "source": [
    "os.listdir('./data/nina/Audio')"
   ]
  },
  {
   "cell_type": "code",
   "execution_count": 29,
   "metadata": {},
   "outputs": [
    {
     "data": {
      "text/plain": [
       "(tensor([-0.0025, -0.0056, -0.0084, -0.0113, -0.0147, -0.0184, -0.0219, -0.0255,\n",
       "         -0.0305, -0.0367]),\n",
       " 44100)"
      ]
     },
     "execution_count": 29,
     "metadata": {},
     "output_type": "execute_result"
    }
   ],
   "source": [
    "Audio_dir = './data/nina/Audio/2mzHohHcvJk_45_0_55_0.wav'\n",
    "read_audio(Audio_dir, 10, 44100)"
   ]
  },
  {
   "cell_type": "code",
   "execution_count": 62,
   "metadata": {},
   "outputs": [],
   "source": [
    "test_data = NINA(\n",
    "    './data/nina/Audio', \n",
    "    transform = MelSpectrogram_transform(conf['feats']),\n",
    "    target_transform= None, \n",
    "    pad_to = 10,\n",
    "    fs = 44100\n",
    "    )"
   ]
  },
  {
   "cell_type": "code",
   "execution_count": 63,
   "metadata": {},
   "outputs": [],
   "source": [
    "test_dataloader =  DataLoader(test_data, 1, shuffle=True)"
   ]
  },
  {
   "cell_type": "code",
   "execution_count": 64,
   "metadata": {},
   "outputs": [],
   "source": [
    "x = next(iter(test_dataloader))"
   ]
  },
  {
   "cell_type": "code",
   "execution_count": 65,
   "metadata": {},
   "outputs": [
    {
     "name": "stdout",
     "output_type": "stream",
     "text": [
      "torch.Size([1, 128, 1723])\n"
     ]
    }
   ],
   "source": [
    "print(x.shape)"
   ]
  },
  {
   "cell_type": "code",
   "execution_count": 66,
   "metadata": {},
   "outputs": [
    {
     "data": {
      "image/png": "[encoded data removed]",
      "text/plain": [
       "<Figure size 432x288 with 2 Axes>"
      ]
     },
     "metadata": {
      "needs_background": "light"
     },
     "output_type": "display_data"
    }
   ],
   "source": [
    "plot_spectrogram(x.squeeze())"
   ]
  },
  {
   "cell_type": "code",
   "execution_count": null,
   "metadata": {},
   "outputs": [],
   "source": []
  }
 ],
 "metadata": {
  "interpreter": {
   "hash": "a4ad0417facfa80d8f6e81d286e3c53318013c90ea417e991fd5d95e3de5f482"
  },
  "kernelspec": {
   "display_name": "Python 3.10.4 ('SED')",
   "language": "python",
   "name": "python3"
  },
  "language_info": {
   "codemirror_mode": {
    "name": "ipython",
    "version": 3
   },
   "file_extension": ".py",
   "mimetype": "text/x-python",
   "name": "python",
   "nbconvert_exporter": "python",
   "pygments_lexer": "ipython3",
   "version": "3.7.13"
  },
  "orig_nbformat": 4
 },
 "nbformat": 4,
 "nbformat_minor": 2
}
