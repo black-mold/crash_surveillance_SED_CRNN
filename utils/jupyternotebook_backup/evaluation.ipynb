{
 "cells": [
  {
   "cell_type": "markdown",
   "metadata": {},
   "source": [
    "### 최종 result"
   ]
  },
  {
   "cell_type": "markdown",
   "metadata": {},
   "source": [
    "### model output shape"
   ]
  },
  {
   "cell_type": "code",
   "execution_count": 19,
   "metadata": {},
   "outputs": [],
   "source": [
    "from CRNN import *\n",
    "from dataset import *\n",
    "\n",
    "import yaml"
   ]
  },
  {
   "cell_type": "code",
   "execution_count": 20,
   "metadata": {},
   "outputs": [],
   "source": [
    "model = CRNN()"
   ]
  },
  {
   "cell_type": "code",
   "execution_count": 21,
   "metadata": {},
   "outputs": [],
   "source": [
    "with open('..\\\\config\\\\default.yml') as f:\n",
    "    conf = yaml.load(f, Loader = yaml.FullLoader)"
   ]
  },
  {
   "cell_type": "code",
   "execution_count": 22,
   "metadata": {},
   "outputs": [],
   "source": [
    "encoder = multi_label_encoder(\n",
    "    fs = conf['feats']['sample_rate'], \n",
    "    audio_len = conf['feats']['audio_len'], \n",
    "    n_fft = conf['feats']['n_fft'], \n",
    "    hop_length = conf['feats']['hop_length'], \n",
    "    net_pooling = conf['feats']['net_pooling']\n",
    "    )\n",
    "\n",
    "training_data = mivia(\n",
    "    conf['data']['audio_folder'], \n",
    "    encoder = encoder,\n",
    "    transform = MelSpectrogram_transform(conf['feats']),\n",
    "    target_transform= None, \n",
    "    partition = conf['data']['select_traindata'], \n",
    "    pad_to = conf['feats']['audio_len'],\n",
    "    fs = conf['feats']['sample_rate']\n",
    "    )\n",
    "\n",
    "test_data = mivia(\n",
    "    conf['data']['audio_folder'], \n",
    "    encoder = encoder,\n",
    "    transform = MelSpectrogram_transform(conf['feats']),\n",
    "    target_transform= None, \n",
    "    partition = conf['data']['select_testdata'], \n",
    "    pad_to = conf['feats']['audio_len'],\n",
    "    fs = conf['feats']['sample_rate']\n",
    "    )\n",
    "\n",
    "validation_data = mivia(\n",
    "    conf['data']['audio_folder'], \n",
    "    encoder = encoder,\n",
    "    transform = MelSpectrogram_transform(conf['feats']),\n",
    "    target_transform= None, \n",
    "    partition = conf['data']['select_valdata'], \n",
    "    pad_to = conf['feats']['audio_len'],\n",
    "    fs = conf['feats']['sample_rate']\n",
    "    )\n",
    "# test_data = mivia(conf['data']['audio_folder'], conf['data']['xml_folder'], encoder, partition = conf['data']['select_testdata'], transform = MelSpectrogram_transform(conf['feats']))"
   ]
  },
  {
   "cell_type": "code",
   "execution_count": 23,
   "metadata": {},
   "outputs": [],
   "source": [
    "train_dataloader = DataLoader(training_data, 1 )       # C, D\n",
    "test_dataloader = DataLoader(test_data, 1)             # A\n",
    "validation_dataloader = DataLoader(validation_data, 1) # B"
   ]
  },
  {
   "cell_type": "code",
   "execution_count": 26,
   "metadata": {},
   "outputs": [
    {
     "name": "stdout",
     "output_type": "stream",
     "text": [
      "torch.Size([1, 40, 3751])\n",
      "torch.Size([1, 3750, 3])\n"
     ]
    }
   ],
   "source": [
    "data, label = next(iter(train_dataloader))\n",
    "print(data.shape)\n",
    "print(label.shape)"
   ]
  },
  {
   "cell_type": "code",
   "execution_count": 25,
   "metadata": {},
   "outputs": [],
   "source": [
    "output = model(data)"
   ]
  },
  {
   "cell_type": "code",
   "execution_count": 27,
   "metadata": {},
   "outputs": [
    {
     "name": "stdout",
     "output_type": "stream",
     "text": [
      "torch.Size([1, 3751, 3])\n"
     ]
    }
   ],
   "source": [
    "print(output.shape)"
   ]
  },
  {
   "cell_type": "code",
   "execution_count": null,
   "metadata": {},
   "outputs": [],
   "source": []
  }
 ],
 "metadata": {
  "kernelspec": {
   "display_name": "Python 3.7.13 ('SED')",
   "language": "python",
   "name": "python3"
  },
  "language_info": {
   "codemirror_mode": {
    "name": "ipython",
    "version": 3
   },
   "file_extension": ".py",
   "mimetype": "text/x-python",
   "name": "python",
   "nbconvert_exporter": "python",
   "pygments_lexer": "ipython3",
   "version": "3.7.13"
  },
  "orig_nbformat": 4,
  "vscode": {
   "interpreter": {
    "hash": "a4ad0417facfa80d8f6e81d286e3c53318013c90ea417e991fd5d95e3de5f482"
   }
  }
 },
 "nbformat": 4,
 "nbformat_minor": 2
}
