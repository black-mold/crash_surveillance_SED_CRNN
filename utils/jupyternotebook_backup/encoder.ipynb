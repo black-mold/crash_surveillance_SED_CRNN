{
 "cells": [
  {
   "cell_type": "code",
   "execution_count": 2,
   "metadata": {},
   "outputs": [],
   "source": [
    "import torchaudio.transforms as T\n",
    "import xml.etree.ElementTree as ET\n",
    "import matplotlib.pyplot as plt\n",
    "import numpy as np\n",
    "import math\n"
   ]
  },
  {
   "cell_type": "markdown",
   "metadata": {},
   "source": [
    "### encoder <최종>\n",
    "* 호환성을 update 할 필요가 있음."
   ]
  },
  {
   "cell_type": "code",
   "execution_count": 19,
   "metadata": {},
   "outputs": [],
   "source": [
    "class multi_label_encoder:\n",
    "    \"\"\"\n",
    "    role : label encode\n",
    "    \"\"\"\n",
    "    def __init__(self, fs = 16000, audio_len = 60, n_fft = 640, hop_length = 80, net_pooling = 1):\n",
    "        self.fs = fs # 나중에 바꿔줘야 함, 사용 안함.\n",
    "        self.audio_len = audio_len # unit : second\n",
    "\n",
    "        self.hop_length = hop_length   #mel-spectrogram\n",
    "        self.n_fft = n_fft             #mel-spectrogram\n",
    "        \n",
    "        self.net_pooling = net_pooling  # input frame -> output frame 에서 어떤 비율로 감소하는지. \n",
    "        # 1이면 input frame = outputframe\n",
    "        # 2면   input frame = 2 * output frame\n",
    "\n",
    "        n_samples = self.audio_len * self.fs\n",
    "\n",
    "        self.n_frames = int(int((n_samples/ self.hop_length)) / self.net_pooling)\n",
    "\n",
    "    def _time_to_frame(self, time):\n",
    "        samples = time * self.fs\n",
    "        frame = (samples) / self.hop_length\n",
    "        return np.clip(frame / self.net_pooling, a_min=0, a_max=self.n_frames)\n",
    "\n",
    "\n",
    "    def encoder_strong_label(self, xml_dir):\n",
    "        \"\"\"Encode a list of strong label\"\"\"\n",
    "        xml = ET.parse(xml_dir)\n",
    "        root = xml.getroot()\n",
    "\n",
    "        item = root.find(\"events\").findall(\"item\")\n",
    "\n",
    "\n",
    "        onset = [float(x.findtext(\"STARTSECOND\")) for x in item] # list, str\n",
    "        offset = [float(x.findtext(\"ENDSECOND\")) for x in item]  # list, str\n",
    "        label_idx = [int(x.findtext(\"CLASS_ID\")) for x in item] \n",
    "\n",
    "        target = np.zeros([self.n_frames, 3], dtype = 'float32') # shape : [frame, class], class : 3\n",
    "\n",
    "\n",
    "\n",
    "        if (len(onset) != len(offset)): \n",
    "            print(\"wrong\")\n",
    "        else:\n",
    "            for i in range(len(onset)):\n",
    "                start = int(self._time_to_frame(onset[i])) #버림 -> 해당 time frame에 걸쳐있으면 true??\n",
    "                end = int(np.ceil(self._time_to_frame(offset[i])))   #올림 -> 해당 time frame에 걸쳐있으면 true\n",
    "                target[start:end, (label_idx[i]-1)] = 1 # (class_id[i]-1) = 1 : scream, 2 : tire skidding, 3 : car crash\n",
    "            \n",
    "\n",
    "\n",
    "        # print(onset)\n",
    "        # print(offset)\n",
    "\n",
    "        return (target)\n",
    "\n",
    "\n",
    "def matplotlib_label_show(target):\n",
    "    n_frame = target.shape[0] # target.shape[0] = segment\n",
    "\n",
    "    fig = plt.figure()\n",
    "    ax1 = fig.add_subplot(111)\n",
    "\n",
    "    x = np.arange(n_frame)  #(60,)\n",
    "    y1 = target[:,0]        #(60,) \n",
    "    y2 = target[:,1]        #(60,) tire skidding\n",
    "    y3 = target[:,2]        #(60,) car crash\n",
    "\n",
    "    ax1.plot(x, y1, label = 'scream')\n",
    "    ax1.plot(x, y2, label = 'tire skidding', color = 'orange')\n",
    "    ax1.plot(x, y3, label = 'car crash', color = 'green')\n",
    "\n",
    "\n",
    "    ax1.legend(framealpha = 1, loc = 'lower right', bbox_to_anchor=(1.4,0))\n",
    "    # ax1.set_title('{}'.format(xmlfile))\n",
    "\n",
    "\n",
    "    plt.show()\n"
   ]
  },
  {
   "cell_type": "markdown",
   "metadata": {},
   "source": [
    "### n_frame 검증\n",
    "*  n_samples = self.audio_len * self.fs  # 60 * 16000 = 960000\n",
    "* int(n_samples / hop_length) = 960000 / 80\n",
    "\n",
    "* 1 차이가 나는데, 왜 그런지..."
   ]
  },
  {
   "cell_type": "code",
   "execution_count": 4,
   "metadata": {},
   "outputs": [
    {
     "name": "stdout",
     "output_type": "stream",
     "text": [
      "12000\n",
      "3000\n"
     ]
    }
   ],
   "source": [
    "print(int(960000/80))\n",
    "print(int(int((960000/ 80)) / 4))"
   ]
  },
  {
   "cell_type": "code",
   "execution_count": 5,
   "metadata": {},
   "outputs": [
    {
     "name": "stdout",
     "output_type": "stream",
     "text": [
      "3000\n"
     ]
    }
   ],
   "source": [
    "import math\n",
    "n_frames = int(math.ceil(960000/2/80)*2 / 4)\n",
    "print(n_frames)"
   ]
  },
  {
   "cell_type": "markdown",
   "metadata": {},
   "source": [
    "### label 시각화 함수"
   ]
  },
  {
   "cell_type": "code",
   "execution_count": 6,
   "metadata": {},
   "outputs": [],
   "source": [
    "def matplotlib_label_show(target):\n",
    "    n_frame = target.shape[0] # target.shape[0] = segment\n",
    "\n",
    "    fig = plt.figure()\n",
    "    ax1 = fig.add_subplot(111)\n",
    "\n",
    "    x = np.arange(n_frame)  #(60,)\n",
    "    y1 = target[:,0]        #(60,) \n",
    "    y2 = target[:,1]        #(60,) tire skidding\n",
    "    y3 = target[:,2]        #(60,) car crash\n",
    "\n",
    "    ax1.plot(x, y1, label = 'scream')\n",
    "    ax1.plot(x, y2, label = 'tire skidding', color = 'orange')\n",
    "    ax1.plot(x, y3, label = 'car crash', color = 'green')\n",
    "\n",
    "\n",
    "    ax1.legend(framealpha = 1, loc = 'lower right', bbox_to_anchor=(1.4,0))\n",
    "    # ax1.set_title('{}'.format(xmlfile))\n",
    "\n",
    "\n",
    "    plt.show()\n",
    "\n",
    "\n",
    "# 수정 전\n",
    "# def matplotlib_label_show(target, xmlfile):\n",
    "#     segment = target.shape[0] # target.shape[0] = segment\n",
    "\n",
    "#     fig = plt.figure()\n",
    "#     ax1 = fig.add_subplot(111)\n",
    "\n",
    "#     x = np.arange(segment)  #(60,)\n",
    "#     y1 = target[:,0]        #(60,) \n",
    "#     y2 = target[:,1]        #(60,) tire skidding\n",
    "#     y3 = target[:,2]        #(60,) car crash\n",
    "\n",
    "#     ax1.plot(x, y1, label = 'scream')\n",
    "#     ax1.plot(x, y2, label = 'tire skidding', color = 'orange')\n",
    "#     ax1.plot(x, y3, label = 'car crash', color = 'green')\n",
    "\n",
    "\n",
    "#     ax1.legend(framealpha = 1, loc = 'lower right', bbox_to_anchor=(1.4,0))\n",
    "#     ax1.set_title('{}'.format(xmlfile))\n",
    "\n",
    "\n",
    "#     plt.show()\n",
    "# "
   ]
  },
  {
   "cell_type": "markdown",
   "metadata": {},
   "source": [
    "# 여기서 부터 실험\n",
    "* 이 아래는 백업 안해도 됨"
   ]
  },
  {
   "cell_type": "code",
   "execution_count": 7,
   "metadata": {},
   "outputs": [],
   "source": [
    "import yaml\n",
    "\n",
    "with open('..\\\\config\\\\default.yml') as f:\n",
    "    conf = yaml.load(f, Loader = yaml.FullLoader)"
   ]
  },
  {
   "cell_type": "code",
   "execution_count": 8,
   "metadata": {},
   "outputs": [],
   "source": [
    "xml_dir = '../data/mivia_raw/audio/A/00001.xml'"
   ]
  },
  {
   "cell_type": "code",
   "execution_count": 9,
   "metadata": {},
   "outputs": [],
   "source": [
    "encoder = multi_label_encoder(\n",
    "    fs = conf['feats']['sample_rate'], \n",
    "    audio_len = conf['feats']['audio_len'], \n",
    "    n_fft = conf['feats']['n_fft'], \n",
    "    hop_length = conf['feats']['hop_length'], \n",
    "    net_pooling = conf['feats']['net_pooling']\n",
    "    )\n"
   ]
  },
  {
   "cell_type": "code",
   "execution_count": 10,
   "metadata": {},
   "outputs": [],
   "source": [
    "target = encoder.encoder_strong_label(xml_dir)"
   ]
  },
  {
   "cell_type": "code",
   "execution_count": 11,
   "metadata": {},
   "outputs": [
    {
     "name": "stdout",
     "output_type": "stream",
     "text": [
      "[[0. 0. 0.]\n",
      " [0. 0. 0.]\n",
      " [0. 0. 0.]\n",
      " ...\n",
      " [0. 0. 0.]\n",
      " [0. 0. 0.]\n",
      " [0. 0. 0.]]\n",
      "(3750, 3)\n",
      "float64\n"
     ]
    }
   ],
   "source": [
    "print(target)\n",
    "print(target.shape)\n",
    "print(target.dtype)"
   ]
  },
  {
   "cell_type": "code",
   "execution_count": 12,
   "metadata": {},
   "outputs": [
    {
     "name": "stdout",
     "output_type": "stream",
     "text": [
      "[0. 0. 0. ... 0. 0. 0.]\n",
      "[0. 0. 0. ... 0. 0. 0.]\n",
      "[0. 0. 0. ... 0. 0. 0.]\n"
     ]
    },
    {
     "data": {
      "text/plain": [
       "3750"
      ]
     },
     "execution_count": 12,
     "metadata": {},
     "output_type": "execute_result"
    }
   ],
   "source": [
    "# print(target)\n",
    "print(target[:,0])\n",
    "print(target[:,1])\n",
    "print(target[:,2])\n",
    "\n",
    "target.shape[0]"
   ]
  },
  {
   "cell_type": "markdown",
   "metadata": {},
   "source": [
    "### 여기서 부터 encode 결과 시각화"
   ]
  },
  {
   "cell_type": "code",
   "execution_count": 13,
   "metadata": {},
   "outputs": [
    {
     "data": {
      "image/png": "[encoded data removed]",
      "text/plain": [
       "<Figure size 432x288 with 1 Axes>"
      ]
     },
     "metadata": {
      "needs_background": "light"
     },
     "output_type": "display_data"
    }
   ],
   "source": [
    "n_frames = 3750\n",
    "\n",
    "fig = plt.figure()\n",
    "\n",
    "ax1 = fig.add_subplot(111)\n",
    "\n",
    "x = np.arange(n_frames)  #(60,)\n",
    "y1 = target[:,0]        #(60,)\n",
    "y2 = target[:,1]        #(60,) tire skidding\n",
    "y3 = target[:,2]        #(60,) car crash\n",
    "\n",
    "ax1.plot(x, y1)\n",
    "ax1.plot(x, y2)\n",
    "ax1.plot(x, y3)\n",
    "\n",
    "\n",
    "plt.show()"
   ]
  },
  {
   "cell_type": "markdown",
   "metadata": {},
   "source": [
    "### 다른 xml file 결과보기"
   ]
  },
  {
   "cell_type": "code",
   "execution_count": 14,
   "metadata": {},
   "outputs": [],
   "source": [
    "xmlfile = '../data/mivia_raw/audio/A/00002.xml'"
   ]
  },
  {
   "cell_type": "code",
   "execution_count": 15,
   "metadata": {},
   "outputs": [],
   "source": [
    "encoder = multi_label_encoder()\n",
    "target = encoder.encoder_strong_label(xmlfile)"
   ]
  },
  {
   "cell_type": "code",
   "execution_count": 16,
   "metadata": {},
   "outputs": [
    {
     "data": {
      "image/png": "[encoded data removed]",
      "text/plain": [
       "<Figure size 432x288 with 1 Axes>"
      ]
     },
     "metadata": {
      "needs_background": "light"
     },
     "output_type": "display_data"
    }
   ],
   "source": [
    "matplotlib_label_show(target)"
   ]
  },
  {
   "cell_type": "code",
   "execution_count": 17,
   "metadata": {},
   "outputs": [
    {
     "name": "stdout",
     "output_type": "stream",
     "text": [
      "(12000, 3)\n"
     ]
    }
   ],
   "source": [
    "print(target.shape)"
   ]
  },
  {
   "cell_type": "code",
   "execution_count": 18,
   "metadata": {},
   "outputs": [
    {
     "ename": "ValueError",
     "evalue": "x and y must have same first dimension, but have shapes (60,) and (12000,)",
     "output_type": "error",
     "traceback": [
      "\u001b[1;31m---------------------------------------------------------------------------\u001b[0m",
      "\u001b[1;31mValueError\u001b[0m                                Traceback (most recent call last)",
      "\u001b[1;32m~\\AppData\\Local\\Temp\\ipykernel_11328\\574356611.py\u001b[0m in \u001b[0;36m<module>\u001b[1;34m\u001b[0m\n\u001b[0;32m     10\u001b[0m \u001b[0my3\u001b[0m \u001b[1;33m=\u001b[0m \u001b[0mtarget\u001b[0m\u001b[1;33m[\u001b[0m\u001b[1;33m:\u001b[0m\u001b[1;33m,\u001b[0m\u001b[1;36m2\u001b[0m\u001b[1;33m]\u001b[0m        \u001b[1;31m#(60,)\u001b[0m\u001b[1;33m\u001b[0m\u001b[1;33m\u001b[0m\u001b[0m\n\u001b[0;32m     11\u001b[0m \u001b[1;33m\u001b[0m\u001b[0m\n\u001b[1;32m---> 12\u001b[1;33m \u001b[0max1\u001b[0m\u001b[1;33m.\u001b[0m\u001b[0mplot\u001b[0m\u001b[1;33m(\u001b[0m\u001b[0mx\u001b[0m\u001b[1;33m,\u001b[0m \u001b[0my1\u001b[0m\u001b[1;33m,\u001b[0m \u001b[0mlabel\u001b[0m \u001b[1;33m=\u001b[0m \u001b[1;34m'scream'\u001b[0m\u001b[1;33m)\u001b[0m\u001b[1;33m\u001b[0m\u001b[1;33m\u001b[0m\u001b[0m\n\u001b[0m\u001b[0;32m     13\u001b[0m \u001b[0max1\u001b[0m\u001b[1;33m.\u001b[0m\u001b[0mplot\u001b[0m\u001b[1;33m(\u001b[0m\u001b[0mx\u001b[0m\u001b[1;33m,\u001b[0m \u001b[0my2\u001b[0m\u001b[1;33m,\u001b[0m \u001b[0mlabel\u001b[0m \u001b[1;33m=\u001b[0m \u001b[1;34m'tire skidding'\u001b[0m\u001b[1;33m,\u001b[0m \u001b[0mcolor\u001b[0m \u001b[1;33m=\u001b[0m \u001b[1;34m'orange'\u001b[0m\u001b[1;33m)\u001b[0m\u001b[1;33m\u001b[0m\u001b[1;33m\u001b[0m\u001b[0m\n\u001b[0;32m     14\u001b[0m \u001b[0max1\u001b[0m\u001b[1;33m.\u001b[0m\u001b[0mplot\u001b[0m\u001b[1;33m(\u001b[0m\u001b[0mx\u001b[0m\u001b[1;33m,\u001b[0m \u001b[0my3\u001b[0m\u001b[1;33m,\u001b[0m \u001b[0mlabel\u001b[0m \u001b[1;33m=\u001b[0m \u001b[1;34m'car crash'\u001b[0m\u001b[1;33m,\u001b[0m \u001b[0mcolor\u001b[0m \u001b[1;33m=\u001b[0m \u001b[1;34m'green'\u001b[0m\u001b[1;33m)\u001b[0m\u001b[1;33m\u001b[0m\u001b[1;33m\u001b[0m\u001b[0m\n",
      "\u001b[1;32mc:\\anaconda3\\envs\\SED\\lib\\site-packages\\matplotlib\\axes\\_axes.py\u001b[0m in \u001b[0;36mplot\u001b[1;34m(self, scalex, scaley, data, *args, **kwargs)\u001b[0m\n\u001b[0;32m   1630\u001b[0m         \"\"\"\n\u001b[0;32m   1631\u001b[0m         \u001b[0mkwargs\u001b[0m \u001b[1;33m=\u001b[0m \u001b[0mcbook\u001b[0m\u001b[1;33m.\u001b[0m\u001b[0mnormalize_kwargs\u001b[0m\u001b[1;33m(\u001b[0m\u001b[0mkwargs\u001b[0m\u001b[1;33m,\u001b[0m \u001b[0mmlines\u001b[0m\u001b[1;33m.\u001b[0m\u001b[0mLine2D\u001b[0m\u001b[1;33m)\u001b[0m\u001b[1;33m\u001b[0m\u001b[1;33m\u001b[0m\u001b[0m\n\u001b[1;32m-> 1632\u001b[1;33m         \u001b[0mlines\u001b[0m \u001b[1;33m=\u001b[0m \u001b[1;33m[\u001b[0m\u001b[1;33m*\u001b[0m\u001b[0mself\u001b[0m\u001b[1;33m.\u001b[0m\u001b[0m_get_lines\u001b[0m\u001b[1;33m(\u001b[0m\u001b[1;33m*\u001b[0m\u001b[0margs\u001b[0m\u001b[1;33m,\u001b[0m \u001b[0mdata\u001b[0m\u001b[1;33m=\u001b[0m\u001b[0mdata\u001b[0m\u001b[1;33m,\u001b[0m \u001b[1;33m**\u001b[0m\u001b[0mkwargs\u001b[0m\u001b[1;33m)\u001b[0m\u001b[1;33m]\u001b[0m\u001b[1;33m\u001b[0m\u001b[1;33m\u001b[0m\u001b[0m\n\u001b[0m\u001b[0;32m   1633\u001b[0m         \u001b[1;32mfor\u001b[0m \u001b[0mline\u001b[0m \u001b[1;32min\u001b[0m \u001b[0mlines\u001b[0m\u001b[1;33m:\u001b[0m\u001b[1;33m\u001b[0m\u001b[1;33m\u001b[0m\u001b[0m\n\u001b[0;32m   1634\u001b[0m             \u001b[0mself\u001b[0m\u001b[1;33m.\u001b[0m\u001b[0madd_line\u001b[0m\u001b[1;33m(\u001b[0m\u001b[0mline\u001b[0m\u001b[1;33m)\u001b[0m\u001b[1;33m\u001b[0m\u001b[1;33m\u001b[0m\u001b[0m\n",
      "\u001b[1;32mc:\\anaconda3\\envs\\SED\\lib\\site-packages\\matplotlib\\axes\\_base.py\u001b[0m in \u001b[0;36m__call__\u001b[1;34m(self, data, *args, **kwargs)\u001b[0m\n\u001b[0;32m    310\u001b[0m                 \u001b[0mthis\u001b[0m \u001b[1;33m+=\u001b[0m \u001b[0margs\u001b[0m\u001b[1;33m[\u001b[0m\u001b[1;36m0\u001b[0m\u001b[1;33m]\u001b[0m\u001b[1;33m,\u001b[0m\u001b[1;33m\u001b[0m\u001b[1;33m\u001b[0m\u001b[0m\n\u001b[0;32m    311\u001b[0m                 \u001b[0margs\u001b[0m \u001b[1;33m=\u001b[0m \u001b[0margs\u001b[0m\u001b[1;33m[\u001b[0m\u001b[1;36m1\u001b[0m\u001b[1;33m:\u001b[0m\u001b[1;33m]\u001b[0m\u001b[1;33m\u001b[0m\u001b[1;33m\u001b[0m\u001b[0m\n\u001b[1;32m--> 312\u001b[1;33m             \u001b[1;32myield\u001b[0m \u001b[1;32mfrom\u001b[0m \u001b[0mself\u001b[0m\u001b[1;33m.\u001b[0m\u001b[0m_plot_args\u001b[0m\u001b[1;33m(\u001b[0m\u001b[0mthis\u001b[0m\u001b[1;33m,\u001b[0m \u001b[0mkwargs\u001b[0m\u001b[1;33m)\u001b[0m\u001b[1;33m\u001b[0m\u001b[1;33m\u001b[0m\u001b[0m\n\u001b[0m\u001b[0;32m    313\u001b[0m \u001b[1;33m\u001b[0m\u001b[0m\n\u001b[0;32m    314\u001b[0m     \u001b[1;32mdef\u001b[0m \u001b[0mget_next_color\u001b[0m\u001b[1;33m(\u001b[0m\u001b[0mself\u001b[0m\u001b[1;33m)\u001b[0m\u001b[1;33m:\u001b[0m\u001b[1;33m\u001b[0m\u001b[1;33m\u001b[0m\u001b[0m\n",
      "\u001b[1;32mc:\\anaconda3\\envs\\SED\\lib\\site-packages\\matplotlib\\axes\\_base.py\u001b[0m in \u001b[0;36m_plot_args\u001b[1;34m(self, tup, kwargs, return_kwargs)\u001b[0m\n\u001b[0;32m    496\u001b[0m \u001b[1;33m\u001b[0m\u001b[0m\n\u001b[0;32m    497\u001b[0m         \u001b[1;32mif\u001b[0m \u001b[0mx\u001b[0m\u001b[1;33m.\u001b[0m\u001b[0mshape\u001b[0m\u001b[1;33m[\u001b[0m\u001b[1;36m0\u001b[0m\u001b[1;33m]\u001b[0m \u001b[1;33m!=\u001b[0m \u001b[0my\u001b[0m\u001b[1;33m.\u001b[0m\u001b[0mshape\u001b[0m\u001b[1;33m[\u001b[0m\u001b[1;36m0\u001b[0m\u001b[1;33m]\u001b[0m\u001b[1;33m:\u001b[0m\u001b[1;33m\u001b[0m\u001b[1;33m\u001b[0m\u001b[0m\n\u001b[1;32m--> 498\u001b[1;33m             raise ValueError(f\"x and y must have same first dimension, but \"\n\u001b[0m\u001b[0;32m    499\u001b[0m                              f\"have shapes {x.shape} and {y.shape}\")\n\u001b[0;32m    500\u001b[0m         \u001b[1;32mif\u001b[0m \u001b[0mx\u001b[0m\u001b[1;33m.\u001b[0m\u001b[0mndim\u001b[0m \u001b[1;33m>\u001b[0m \u001b[1;36m2\u001b[0m \u001b[1;32mor\u001b[0m \u001b[0my\u001b[0m\u001b[1;33m.\u001b[0m\u001b[0mndim\u001b[0m \u001b[1;33m>\u001b[0m \u001b[1;36m2\u001b[0m\u001b[1;33m:\u001b[0m\u001b[1;33m\u001b[0m\u001b[1;33m\u001b[0m\u001b[0m\n",
      "\u001b[1;31mValueError\u001b[0m: x and y must have same first dimension, but have shapes (60,) and (12000,)"
     ]
    },
    {
     "data": {
      "image/png": "[encoded data removed]",
      "text/plain": [
       "<Figure size 432x288 with 1 Axes>"
      ]
     },
     "metadata": {
      "needs_background": "light"
     },
     "output_type": "display_data"
    }
   ],
   "source": [
    "segment = 60\n",
    "\n",
    "fig = plt.figure()\n",
    "\n",
    "ax1 = fig.add_subplot(111)\n",
    "\n",
    "x = np.arange(segment)  #(60,)\n",
    "y1 = target[:,0]        #(60,)\n",
    "y2 = target[:,1]        #(60,)\n",
    "y3 = target[:,2]        #(60,)\n",
    "\n",
    "ax1.plot(x, y1, label = 'scream')\n",
    "ax1.plot(x, y2, label = 'tire skidding', color = 'orange')\n",
    "ax1.plot(x, y3, label = 'car crash', color = 'green')\n",
    "\n",
    "ax1.legend(framealpha = 1, loc = 'lower right', bbox_to_anchor=(1.4,0))\n",
    "ax1.set_title('{}'.format(xmlfile))\n",
    "\n",
    "\n",
    "plt.show()"
   ]
  },
  {
   "cell_type": "markdown",
   "metadata": {},
   "source": [
    "### filter_aug_sed CRNN input test\n",
    "* crnn에 input을 넣고, input의 frame과 output의 frame을 비교\n",
    "* 이 실험으로 net_pooling의 역할을 알 수 있었음"
   ]
  },
  {
   "cell_type": "code",
   "execution_count": null,
   "metadata": {},
   "outputs": [],
   "source": [
    "import torch\n",
    "import torch.nn as nn\n",
    "import numpy as np"
   ]
  },
  {
   "cell_type": "code",
   "execution_count": null,
   "metadata": {},
   "outputs": [],
   "source": [
    "#Some codes are adopted from https://github.com/DCASE-REPO/DESED_task\n",
    "import torch\n",
    "import torch.nn as nn\n",
    "\n",
    "\n",
    "class GLU(nn.Module):\n",
    "    def __init__(self, in_dim):\n",
    "        super(GLU, self).__init__()\n",
    "        self.sigmoid = nn.Sigmoid()\n",
    "        self.linear = nn.Linear(in_dim, in_dim)\n",
    "\n",
    "    def forward(self, x): #x size = [batch, chan, freq, frame]\n",
    "        lin = self.linear(x.permute(0, 2, 3, 1)) #x size = [batch, freq, frame, chan]\n",
    "        lin = lin.permute(0, 3, 1, 2) #x size = [batch, chan, freq, frame]\n",
    "        sig = self.sigmoid(x)\n",
    "        res = lin * sig\n",
    "        return res\n",
    "\n",
    "\n",
    "class ContextGating(nn.Module):\n",
    "    def __init__(self, in_dim):\n",
    "        super(ContextGating, self).__init__()\n",
    "        self.sigmoid = nn.Sigmoid()\n",
    "        self.sigmoid = nn.Sigmoid()\n",
    "        self.linear = nn.Linear(in_dim, in_dim)\n",
    "\n",
    "    def forward(self, x): #x size = [batch, chan, freq, frame]\n",
    "        lin = self.linear(x.permute(0, 2, 3, 1)) #x size = [batch, freq, frame, chan]\n",
    "        lin = lin.permute(0, 3, 1, 2) #x size = [batch, chan, freq, frame]\n",
    "        sig = self.sigmoid(lin)\n",
    "        res = x * sig\n",
    "        return res\n",
    "\n",
    "\n",
    "class CNN(nn.Module):\n",
    "    def __init__(self,\n",
    "                 n_input_ch,\n",
    "                 activation=\"Relu\",\n",
    "                 conv_dropout=0,\n",
    "                 kernel=[ 3, 3, 3, 3, 3, 3, 3 ],\n",
    "                 pad=[ 1, 1, 1, 1, 1, 1, 1 ],\n",
    "                 stride=[ 1, 1, 1, 1, 1, 1, 1 ],\n",
    "                 n_filt=[ 32, 64, 128, 256, 256, 256, 256 ],\n",
    "                 pooling=[ [ 2, 2 ], [ 2, 2 ], [ 1, 2 ], [ 1, 2 ], [ 1, 2 ], [ 1, 2 ], [ 1, 2 ] ],\n",
    "                 normalization=\"batch\"):\n",
    "        super(CNN, self).__init__()\n",
    "        self.n_filt = n_filt\n",
    "        self.n_filt_last = n_filt[-1]\n",
    "        cnn = nn.Sequential()\n",
    "\n",
    "        def conv(i, normalization=\"batch\", dropout=None, activ='relu'):\n",
    "            in_dim = n_input_ch if i == 0 else n_filt[i - 1]\n",
    "            out_dim = n_filt[i]\n",
    "            cnn.add_module(\"conv{0}\".format(i), nn.Conv2d(in_dim, out_dim, kernel[i], stride[i], pad[i]))\n",
    "            if normalization == \"batch\":\n",
    "                cnn.add_module(\"batchnorm{0}\".format(i), nn.BatchNorm2d(out_dim, eps=0.001, momentum=0.99))\n",
    "            elif normalization == \"layer\":\n",
    "                cnn.add_module(\"layernorm{0}\".format(i), nn.GroupNorm(1, out_dim))\n",
    "\n",
    "            if activ.lower() == \"leakyrelu\":\n",
    "                cnn.add_module(\"Relu{0}\".format(i), nn.LeakyReLu(0.2))\n",
    "            elif activ.lower() == \"relu\":\n",
    "                cnn.add_module(\"Relu{0}\".format(i), nn.ReLu())\n",
    "            elif activ.lower() == \"glu\":\n",
    "                cnn.add_module(\"glu{0}\".format(i), GLU(out_dim))\n",
    "            elif activ.lower() == \"cg\":\n",
    "                cnn.add_module(\"cg{0}\".format(i), ContextGating(out_dim))\n",
    "\n",
    "            if dropout is not None:\n",
    "                cnn.add_module(\"dropout{0}\".format(i), nn.Dropout(dropout))\n",
    "\n",
    "        for i in range(len(n_filt)):\n",
    "            conv(i, normalization=normalization, dropout=conv_dropout, activ=activation)\n",
    "            cnn.add_module(\"pooling{0}\".format(i), nn.AvgPool2d(pooling[i]))\n",
    "        self.cnn = cnn\n",
    "\n",
    "    def forward(self, x):\n",
    "        x = self.cnn(x)\n",
    "        return x\n",
    "\n",
    "\n",
    "class BiGRU(nn.Module):\n",
    "    def __init__(self, n_in, n_hidden, dropout=0, num_layers=1):\n",
    "        super(BiGRU, self).__init__()\n",
    "        self.rnn = nn.GRU(n_in, n_hidden, bidirectional=True, dropout=dropout, batch_first=True, num_layers=num_layers)\n",
    "\n",
    "    def forward(self, x):\n",
    "        #self.rnn.flatten_parameters()\n",
    "        x, _ = self.rnn(x)\n",
    "        return x\n",
    "\n",
    "\n",
    "class CRNN(nn.Module):\n",
    "    def __init__(self,\n",
    "                 n_input_ch = 1,\n",
    "                 n_class=10,\n",
    "                 activation=\"cg\",\n",
    "                 conv_dropout=0.5,\n",
    "                 n_RNN_cell=256,\n",
    "                 n_RNN_layer=2,\n",
    "                 rec_dropout=0,\n",
    "                 attention=True,\n",
    "                 **convkwargs):\n",
    "        super(CRNN, self).__init__()\n",
    "        self.n_input_ch = n_input_ch\n",
    "        self.attention = attention\n",
    "        self.n_class = n_class\n",
    "\n",
    "        self.cnn = CNN(n_input_ch=n_input_ch, activation=activation, conv_dropout=conv_dropout, **convkwargs)\n",
    "        self.rnn = BiGRU(n_in=self.cnn.n_filt[-1], n_hidden=n_RNN_cell, dropout=rec_dropout, num_layers=n_RNN_layer)\n",
    "\n",
    "        self.dropout = nn.Dropout(conv_dropout)\n",
    "        self.sigmoid = nn.Sigmoid()\n",
    "\n",
    "        self.dense = nn.Linear(n_RNN_cell * 2, n_class)\n",
    "\n",
    "        if self.attention:\n",
    "            self.dense_softmax = nn.Linear(n_RNN_cell * 2, n_class)\n",
    "            self.softmax = nn.Softmax(dim=-1)\n",
    "\n",
    "    def forward(self, x): #input size : [bs, freqs, frames]\n",
    "        #cnn\n",
    "        if self.n_input_ch > 1:\n",
    "            x = x.transpose(2, 3)\n",
    "        else:\n",
    "            x = x.transpose(1, 2).unsqueeze(1) #x size : [bs, chan, frames, freqs]\n",
    "\n",
    "        print(x.shape)\n",
    "        x = self.cnn(x)\n",
    "        bs, ch, frame, freq = x.size()\n",
    "        if freq != 1:\n",
    "            print(\"warning! frequency axis is large: \" + str(freq))\n",
    "            x = x.permute(0, 2, 1, 3)\n",
    "            x = x.contiguous.view(bs, frame, ch*freq)\n",
    "        else:\n",
    "            x = x.squeeze(-1)\n",
    "            x = x.permute(0, 2, 1) # x size : [bs, frames, chan]\n",
    "\n",
    "        #rnn\n",
    "        x = self.rnn(x) #x size : [bs, frames, 2 * chan]\n",
    "        x = self.dropout(x)\n",
    "\n",
    "        #classifier\n",
    "        strong = self.dense(x) #strong size : [bs, frames, n_class]\n",
    "        strong = self.sigmoid(strong)\n",
    "        if self.attention:\n",
    "            sof = self.dense_softmax(x) #sof size : [bs, frames, n_class]\n",
    "            sof = self.softmax(sof) #sof size : [bs, frames, n_class]\n",
    "            sof = torch.clamp(sof, min=1e-7, max=1)\n",
    "            weak = (strong * sof).sum(1) / sof.sum(1) # [bs, n_class]\n",
    "        else:\n",
    "            weak = strong.mean(1)\n",
    "        return strong.transpose(1, 2), weak\n",
    "\n",
    "\n"
   ]
  },
  {
   "cell_type": "code",
   "execution_count": null,
   "metadata": {},
   "outputs": [],
   "source": [
    "model = CRNN(n_input_ch = 1)"
   ]
  },
  {
   "cell_type": "code",
   "execution_count": null,
   "metadata": {},
   "outputs": [],
   "source": [
    "a = torch.randn(64, 128, 160)\n",
    "# a = "
   ]
  },
  {
   "cell_type": "code",
   "execution_count": null,
   "metadata": {},
   "outputs": [
    {
     "name": "stdout",
     "output_type": "stream",
     "text": [
      "torch.Size([64, 1, 160, 128])\n"
     ]
    }
   ],
   "source": [
    "strong, weak = model(a)"
   ]
  },
  {
   "cell_type": "code",
   "execution_count": null,
   "metadata": {},
   "outputs": [
    {
     "data": {
      "text/plain": [
       "torch.Size([64, 10, 40])"
      ]
     },
     "execution_count": 53,
     "metadata": {},
     "output_type": "execute_result"
    }
   ],
   "source": [
    "strong.shape"
   ]
  }
 ],
 "metadata": {
  "interpreter": {
   "hash": "a4ad0417facfa80d8f6e81d286e3c53318013c90ea417e991fd5d95e3de5f482"
  },
  "kernelspec": {
   "display_name": "Python 3.10.4 ('SED')",
   "language": "python",
   "name": "python3"
  },
  "language_info": {
   "codemirror_mode": {
    "name": "ipython",
    "version": 3
   },
   "file_extension": ".py",
   "mimetype": "text/x-python",
   "name": "python",
   "nbconvert_exporter": "python",
   "pygments_lexer": "ipython3",
   "version": "3.7.13"
  },
  "orig_nbformat": 4
 },
 "nbformat": 4,
 "nbformat_minor": 2
}
