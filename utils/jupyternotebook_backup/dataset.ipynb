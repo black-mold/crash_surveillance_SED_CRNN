{
 "cells": [
  {
   "cell_type": "code",
   "execution_count": 46,
   "metadata": {},
   "outputs": [],
   "source": [
    "import yaml\n",
    "import os\n",
    "import glob\n",
    "\n",
    "\n",
    "from torch.utils.data.dataset import Dataset\n",
    "from torch.utils.data import DataLoader\n",
    "\n",
    "\n",
    "import encoder\n",
    "import transformer"
   ]
  },
  {
   "cell_type": "markdown",
   "metadata": {},
   "source": [
    "# 결과"
   ]
  },
  {
   "cell_type": "code",
   "execution_count": 47,
   "metadata": {},
   "outputs": [],
   "source": [
    "### data partition에 따른 xml path list를 load함.\n",
    "def xml_path_loader(xml_folder, partition):\n",
    "    xml_path = []\n",
    "    for folder in os.listdir(xml_folder):\n",
    "        for x in partition:\n",
    "            if (x == folder):\n",
    "                path = os.path.join(xml_folder, folder)\n",
    "                xml_path.extend(glob.glob('{}/*.xml'.format(path)))\n",
    "                xml_path.sort()\n",
    "\n",
    "    return xml_path #list\n",
    "\n",
    "\n",
    "### xml path를 이용하여 audio file 출력\n",
    "def audio_path_loader(xml_path):\n",
    "    filename = os.path.splitext(os.path.basename(xml_path))[0]\n",
    "    audio_path = os.path.join(os.path.dirname(xml_path), 'v2', filename + '_1.wav')\n",
    "    return audio_path\n",
    "\n",
    "# audio 처리 관련 함수\n",
    "# 함수 세 개 모두 dcase 참고\n",
    "def pad_audio(audio, target_len, fs):\n",
    "    \n",
    "    if len(audio) < target_len:\n",
    "        audio = torch.nn.functional.pad(\n",
    "            audio, (0, target_len - audio.shape[-1]), mode=\"constant\"\n",
    "        )\n",
    "        padded_indx = [target_len / len(audio)]\n",
    "        onset_s = 0.000\n",
    "    \n",
    "    elif len(audio) > target_len:        # 여기를 수정함\n",
    "        audio = audio[:target_len]\n",
    "        onset_s = 0.000\n",
    "\n",
    "        padded_indx = [target_len / len(audio)] \n",
    "    else:\n",
    "\n",
    "        onset_s = 0.000\n",
    "        padded_indx = [1.0]\n",
    "\n",
    "    offset_s = round(onset_s + (target_len / fs), 3)\n",
    "    return audio, onset_s, offset_s, padded_indx\n",
    "\n",
    "def to_mono(mixture, random_ch=False):\n",
    "\n",
    "    if mixture.ndim > 1:  # multi channel\n",
    "        if not random_ch:\n",
    "            mixture = torch.mean(mixture, 0)\n",
    "        else:  # randomly select one channel\n",
    "            indx = np.random.randint(0, mixture.shape[0] - 1)\n",
    "            mixture = mixture[indx]\n",
    "    return mixture\n",
    "\n",
    "def read_audio(audio_path, pad_to, resample_rate):\n",
    "\n",
    "    audio, sample_rate = torchaudio.load(audio_path)\n",
    "\n",
    "    # downsampling(sample_rate : 32000 -> fs : 16000)\n",
    "    if sample_rate != resample_rate:\n",
    "        audio, sample_rate = resampler(audio, sample_rate, resample_rate) # audio_data = [channel, signal], channel = 1(mono)\n",
    "\n",
    "    # multi src -> mono\n",
    "    audio = to_mono(audio)\n",
    "\n",
    "    audio_pad, _, _, _ = pad_audio(audio, pad_to, sample_rate)\n",
    "\n",
    "    return audio_pad, sample_rate    \n",
    "\n",
    "# Dataset configuration\n",
    "\n",
    "class mivia(Dataset):\n",
    "    def __init__(self, audio_folder, encoder, transform = None, target_transform = None, partition = ['A'], pad_to = 60, fs = 16000):\n",
    "        self.audio_folder = audio_folder # xml_folder: audio_folder\n",
    "\n",
    "        self.resample_rate = fs # resampling rate\n",
    "        self.pad_to = pad_to * self.resample_rate # unit of pad_to : [second]\n",
    "\n",
    "        self.encoder = encoder\n",
    "        self.transform = transform\n",
    "        self.target_transform = target_transform\n",
    "        self.partition = partition\n",
    "\n",
    "        self.xml_path = xml_path_loader(self.audio_folder, self.partition) # 모든 xml file의 directory를 load\n",
    "\n",
    "    def __len__(self):\n",
    "        return len(self.xml_path)  #len(xml_path) = 57\n",
    "\n",
    "    def __getitem__(self, idx):\n",
    "\n",
    "        target = self.encoder.encoder_strong_label(self.xml_path[idx]) # label load(xml file -> numpy)\n",
    "\n",
    "        audio_path = audio_path_loader(self.xml_path[idx])\n",
    "        audio_data, _ = read_audio(audio_path, self.pad_to, self.resample_rate) # data load, fs = 32000(default)\n",
    "\n",
    "        if self.transform: #data transform\n",
    "            # transform. use this function to extract features in dataloader\n",
    "            spectrogram = self.transform\n",
    "            audio_data = spectrogram(audio_data)\n",
    "\n",
    "        return audio_data, target"
   ]
  },
  {
   "cell_type": "markdown",
   "metadata": {},
   "source": [
    "### test code - custom dataset 짜기 전"
   ]
  },
  {
   "cell_type": "code",
   "execution_count": 48,
   "metadata": {},
   "outputs": [],
   "source": [
    "directory = 'z:\\\\nas1_data\\\\user\\\\hhj\\\\sound_event_detection\\\\data\\\\mivia_raw\\\\audio'"
   ]
  },
  {
   "cell_type": "code",
   "execution_count": 49,
   "metadata": {},
   "outputs": [],
   "source": [
    "# 별로 현명한 방법이 아니니 폐기하면 좋을 함수임.\n",
    "# 아래 세 함수는 sort가 필요해서 사용 안했음.\n",
    "def mivia_data_loader(audio_folder):\n",
    "    audio_path_list = []\n",
    "    xml_path_list = []\n",
    "    for (path, dir, files) in os.walk(audio_folder): # dir : no use\n",
    "        for filename in files:\n",
    "            ext = os.path.splitext(filename)[-1]\n",
    "            if ext == '.xml':\n",
    "                xml_path_list.append(os.path.join(path, filename))\n",
    "            elif ext == '.wav':\n",
    "                audio_path_list.append(os.path.join(path, filename))\n",
    "    \n",
    "    return audio_path_list, xml_path_list\n",
    "\n",
    "\n",
    "def xml_path_loader(xml_folder):\n",
    "    xml_path = []\n",
    "    filename = []\n",
    "    for i in os.listdir(xml_folder):\n",
    "        path = os.path.join(xml_folder, i)\n",
    "        xml_path.extend(glob.glob('{}\\\\*.xml'.format(path)))\n",
    "\n",
    "    return xml_path\n",
    "\n",
    "    ###연습용\n",
    "    xml_path = xml_path_loader(directory)\n",
    "    print(xml.shape())\n",
    "    print(len(xml_path))\n",
    "    print(xml_path)\n",
    "    ###\n",
    "\n",
    "def audio_path_loader(audio_folder):\n",
    "    audio_path = []\n",
    "    for i in os.listdir(audio_folder):\n",
    "        path = os.path.join(audio_folder, i)\n",
    "        audio_path.extend(glob.glob('{}\\\\v2\\\\*.wav'.format(path)))\n",
    "\n",
    "    return audio_path\n",
    "\n",
    "# 혹시 모를 백업\n",
    "# (audio_path, xml_path) = mivia_data_loader(directory)\n",
    "# print(audio_path)\n",
    "# print(xml_path)\n",
    "\n",
    "# xml_path = xml_path_loader(directory)\n",
    "# print(audio_path)\n",
    "# print(xml_path)\n",
    "\n",
    "# audio_path = audio_path_loader(directory)\n",
    "# print(len(audio_path))\n",
    "# print(audio_path)"
   ]
  },
  {
   "cell_type": "markdown",
   "metadata": {},
   "source": [
    "### 여기서부터 audio file 처리"
   ]
  },
  {
   "cell_type": "code",
   "execution_count": 50,
   "metadata": {},
   "outputs": [],
   "source": [
    "import torchaudio.transforms as transforms\n",
    "import torchaudio\n",
    "from transformer import *"
   ]
  },
  {
   "cell_type": "markdown",
   "metadata": {},
   "source": [
    "#### yaml 읽기."
   ]
  },
  {
   "cell_type": "code",
   "execution_count": 51,
   "metadata": {},
   "outputs": [],
   "source": [
    "with open('..\\\\config\\\\default.yml') as f:\n",
    "    conf = yaml.load(f, Loader = yaml.FullLoader)"
   ]
  },
  {
   "cell_type": "code",
   "execution_count": 52,
   "metadata": {},
   "outputs": [
    {
     "name": "stdout",
     "output_type": "stream",
     "text": [
      "['B']\n",
      "['A']\n",
      "['C', 'D']\n",
      "C\n",
      "<class 'str'>\n",
      "D\n",
      "<class 'str'>\n"
     ]
    }
   ],
   "source": [
    "print(conf['data']['select_valdata'])\n",
    "print(conf['data']['select_testdata'])\n",
    "print(conf['data']['select_traindata'])\n",
    "\n",
    "for x in conf['data']['select_traindata']:\n",
    "    print(x)\n",
    "    print(type(x))"
   ]
  },
  {
   "cell_type": "markdown",
   "metadata": {},
   "source": [
    "#### Audio 읽기 & transform test"
   ]
  },
  {
   "cell_type": "code",
   "execution_count": 53,
   "metadata": {},
   "outputs": [
    {
     "name": "stdout",
     "output_type": "stream",
     "text": [
      "torch.Size([1, 2040589])\n",
      "torch.Size([1, 2040589])\n"
     ]
    },
    {
     "data": {
      "text/plain": [
       "torch.Size([1, 40, 7972])"
      ]
     },
     "execution_count": 53,
     "metadata": {},
     "output_type": "execute_result"
    }
   ],
   "source": [
    "test_audio = 'z:\\\\nas1_data\\\\user\\\\hhj\\\\sound_event_detection\\\\data\\\\mivia_raw\\\\audio\\\\D\\\\v2\\\\00043_1.wav'\n",
    "# test_audio\n",
    "\n",
    "sig, fs = torchaudio.load(test_audio)\n",
    "sig_only = torchaudio.load(test_audio)[0]\n",
    "print(sig_only.shape)\n",
    "print(sig.shape)\n",
    "\n",
    "spectrogram =  MelSpectrogram_transform(conf['feats'])\n",
    "\n",
    "data = spectrogram(sig)\n",
    "data.shape"
   ]
  },
  {
   "cell_type": "markdown",
   "metadata": {},
   "source": [
    "### xml path loader 정의"
   ]
  },
  {
   "cell_type": "code",
   "execution_count": 10,
   "metadata": {},
   "outputs": [],
   "source": [
    "### partition 도입 전 code. A~D partition에 속한 모든 xml file을 load 해줌\n",
    "\n",
    "# def xml_path_loader(xml_folder):\n",
    "#     xml_path = []\n",
    "#     for folder in os.listdir(xml_folder):\n",
    "#         path = os.path.join(xml_folder, folder)\n",
    "#         xml_path.extend(glob.glob('{}\\\\*.xml'.format(path)))\n",
    "\n",
    "#     return xml_path\n",
    "\n",
    "###\n",
    "\n",
    "### 위 code 실험용\n",
    "# dir = 'z:\\\\nas1_data\\\\user\\\\hhj\\\\sound_event_detection\\\\data\\\\mivia_raw\\\\audio'\n",
    "# xml = xml_path_loader(dir)\n",
    "# print(xml)\n",
    "# print(len(xml))\n",
    "###"
   ]
  },
  {
   "cell_type": "code",
   "execution_count": 11,
   "metadata": {},
   "outputs": [
    {
     "data": {
      "text/plain": [
       "'z:\\\\nas1_data\\\\user\\\\hhj\\\\sound_event_detection\\\\utils'"
      ]
     },
     "execution_count": 11,
     "metadata": {},
     "output_type": "execute_result"
    }
   ],
   "source": [
    "os.getcwd()"
   ]
  },
  {
   "cell_type": "markdown",
   "metadata": {},
   "source": [
    "### custom datset 설계\n",
    "* xml_path_loader에서 해당 folder의 xml file 경로(directory)를 취함.\n",
    "* audio_path_loader에서 xml file에 해당하는 audio file의 경로(directory)를 취함."
   ]
  },
  {
   "cell_type": "code",
   "execution_count": 12,
   "metadata": {},
   "outputs": [],
   "source": [
    "def xml_path_loader(xml_folder, partition):\n",
    "    xml_path = []\n",
    "    for folder in os.listdir(xml_folder):\n",
    "        for x in partition:\n",
    "            if (x == folder):\n",
    "                path = os.path.join(xml_folder, folder)\n",
    "                xml_path.extend(glob.glob('{}\\\\*.xml'.format(path)))\n",
    "\n",
    "    return xml_path"
   ]
  },
  {
   "cell_type": "code",
   "execution_count": 17,
   "metadata": {},
   "outputs": [],
   "source": [
    "import glob"
   ]
  },
  {
   "cell_type": "code",
   "execution_count": 39,
   "metadata": {},
   "outputs": [
    {
     "name": "stdout",
     "output_type": "stream",
     "text": [
      "['z:\\\\nas1_data\\\\user\\\\hhj\\\\sound_event_detection\\\\data\\\\mivia_raw\\\\audio\\\\A\\\\00001.xml', 'z:\\\\nas1_data\\\\user\\\\hhj\\\\sound_event_detection\\\\data\\\\mivia_raw\\\\audio\\\\A\\\\00002.xml', 'z:\\\\nas1_data\\\\user\\\\hhj\\\\sound_event_detection\\\\data\\\\mivia_raw\\\\audio\\\\A\\\\00003.xml', 'z:\\\\nas1_data\\\\user\\\\hhj\\\\sound_event_detection\\\\data\\\\mivia_raw\\\\audio\\\\A\\\\00004.xml', 'z:\\\\nas1_data\\\\user\\\\hhj\\\\sound_event_detection\\\\data\\\\mivia_raw\\\\audio\\\\A\\\\00005.xml', 'z:\\\\nas1_data\\\\user\\\\hhj\\\\sound_event_detection\\\\data\\\\mivia_raw\\\\audio\\\\A\\\\00006.xml', 'z:\\\\nas1_data\\\\user\\\\hhj\\\\sound_event_detection\\\\data\\\\mivia_raw\\\\audio\\\\A\\\\00007.xml', 'z:\\\\nas1_data\\\\user\\\\hhj\\\\sound_event_detection\\\\data\\\\mivia_raw\\\\audio\\\\A\\\\00008.xml', 'z:\\\\nas1_data\\\\user\\\\hhj\\\\sound_event_detection\\\\data\\\\mivia_raw\\\\audio\\\\A\\\\00009.xml', 'z:\\\\nas1_data\\\\user\\\\hhj\\\\sound_event_detection\\\\data\\\\mivia_raw\\\\audio\\\\A\\\\00010.xml', 'z:\\\\nas1_data\\\\user\\\\hhj\\\\sound_event_detection\\\\data\\\\mivia_raw\\\\audio\\\\A\\\\00011.xml', 'z:\\\\nas1_data\\\\user\\\\hhj\\\\sound_event_detection\\\\data\\\\mivia_raw\\\\audio\\\\A\\\\00012.xml', 'z:\\\\nas1_data\\\\user\\\\hhj\\\\sound_event_detection\\\\data\\\\mivia_raw\\\\audio\\\\A\\\\00013.xml', 'z:\\\\nas1_data\\\\user\\\\hhj\\\\sound_event_detection\\\\data\\\\mivia_raw\\\\audio\\\\A\\\\00014.xml']\n"
     ]
    }
   ],
   "source": [
    "dir = 'z:\\\\nas1_data\\\\user\\\\hhj\\\\sound_event_detection\\\\data\\\\mivia_raw\\\\audio'\n",
    "xml_path = []\n",
    "for folder in os.listdir(dir):\n",
    "    for x in ['A']:\n",
    "        if (x == folder):\n",
    "            path = os.path.join(dir, folder)\n",
    "            xml_path.extend(glob.glob('{}\\\\*.xml'.format(path)))\n",
    "            xml_path.sort()\n",
    "        break\n",
    "print(xml_path)\n",
    "# a = os.path.splitext(xml_path[0])[0]\n",
    "# print(a)\n",
    "# print(a.split('\\\\')[-1])"
   ]
  },
  {
   "cell_type": "code",
   "execution_count": 13,
   "metadata": {},
   "outputs": [
    {
     "name": "stdout",
     "output_type": "stream",
     "text": [
      "['z:\\\\nas1_data\\\\user\\\\hhj\\\\sound_event_detection\\\\data\\\\mivia_raw\\\\audio\\\\D\\\\00047.xml', 'z:\\\\nas1_data\\\\user\\\\hhj\\\\sound_event_detection\\\\data\\\\mivia_raw\\\\audio\\\\D\\\\00046.xml', 'z:\\\\nas1_data\\\\user\\\\hhj\\\\sound_event_detection\\\\data\\\\mivia_raw\\\\audio\\\\D\\\\00045.xml', 'z:\\\\nas1_data\\\\user\\\\hhj\\\\sound_event_detection\\\\data\\\\mivia_raw\\\\audio\\\\D\\\\00044.xml', 'z:\\\\nas1_data\\\\user\\\\hhj\\\\sound_event_detection\\\\data\\\\mivia_raw\\\\audio\\\\D\\\\00043.xml', 'z:\\\\nas1_data\\\\user\\\\hhj\\\\sound_event_detection\\\\data\\\\mivia_raw\\\\audio\\\\D\\\\00057.xml', 'z:\\\\nas1_data\\\\user\\\\hhj\\\\sound_event_detection\\\\data\\\\mivia_raw\\\\audio\\\\D\\\\00056.xml', 'z:\\\\nas1_data\\\\user\\\\hhj\\\\sound_event_detection\\\\data\\\\mivia_raw\\\\audio\\\\D\\\\00055.xml', 'z:\\\\nas1_data\\\\user\\\\hhj\\\\sound_event_detection\\\\data\\\\mivia_raw\\\\audio\\\\D\\\\00054.xml', 'z:\\\\nas1_data\\\\user\\\\hhj\\\\sound_event_detection\\\\data\\\\mivia_raw\\\\audio\\\\D\\\\00053.xml', 'z:\\\\nas1_data\\\\user\\\\hhj\\\\sound_event_detection\\\\data\\\\mivia_raw\\\\audio\\\\D\\\\00052.xml', 'z:\\\\nas1_data\\\\user\\\\hhj\\\\sound_event_detection\\\\data\\\\mivia_raw\\\\audio\\\\D\\\\00051.xml', 'z:\\\\nas1_data\\\\user\\\\hhj\\\\sound_event_detection\\\\data\\\\mivia_raw\\\\audio\\\\D\\\\00050.xml', 'z:\\\\nas1_data\\\\user\\\\hhj\\\\sound_event_detection\\\\data\\\\mivia_raw\\\\audio\\\\D\\\\00049.xml', 'z:\\\\nas1_data\\\\user\\\\hhj\\\\sound_event_detection\\\\data\\\\mivia_raw\\\\audio\\\\D\\\\00048.xml', 'z:\\\\nas1_data\\\\user\\\\hhj\\\\sound_event_detection\\\\data\\\\mivia_raw\\\\audio\\\\C\\\\00032.xml', 'z:\\\\nas1_data\\\\user\\\\hhj\\\\sound_event_detection\\\\data\\\\mivia_raw\\\\audio\\\\C\\\\00036.xml', 'z:\\\\nas1_data\\\\user\\\\hhj\\\\sound_event_detection\\\\data\\\\mivia_raw\\\\audio\\\\C\\\\00040.xml', 'z:\\\\nas1_data\\\\user\\\\hhj\\\\sound_event_detection\\\\data\\\\mivia_raw\\\\audio\\\\C\\\\00039.xml', 'z:\\\\nas1_data\\\\user\\\\hhj\\\\sound_event_detection\\\\data\\\\mivia_raw\\\\audio\\\\C\\\\00033.xml', 'z:\\\\nas1_data\\\\user\\\\hhj\\\\sound_event_detection\\\\data\\\\mivia_raw\\\\audio\\\\C\\\\00037.xml', 'z:\\\\nas1_data\\\\user\\\\hhj\\\\sound_event_detection\\\\data\\\\mivia_raw\\\\audio\\\\C\\\\00041.xml', 'z:\\\\nas1_data\\\\user\\\\hhj\\\\sound_event_detection\\\\data\\\\mivia_raw\\\\audio\\\\C\\\\00030.xml', 'z:\\\\nas1_data\\\\user\\\\hhj\\\\sound_event_detection\\\\data\\\\mivia_raw\\\\audio\\\\C\\\\00042.xml', 'z:\\\\nas1_data\\\\user\\\\hhj\\\\sound_event_detection\\\\data\\\\mivia_raw\\\\audio\\\\C\\\\00034.xml', 'z:\\\\nas1_data\\\\user\\\\hhj\\\\sound_event_detection\\\\data\\\\mivia_raw\\\\audio\\\\C\\\\00031.xml', 'z:\\\\nas1_data\\\\user\\\\hhj\\\\sound_event_detection\\\\data\\\\mivia_raw\\\\audio\\\\C\\\\00029.xml', 'z:\\\\nas1_data\\\\user\\\\hhj\\\\sound_event_detection\\\\data\\\\mivia_raw\\\\audio\\\\C\\\\00035.xml', 'z:\\\\nas1_data\\\\user\\\\hhj\\\\sound_event_detection\\\\data\\\\mivia_raw\\\\audio\\\\C\\\\00038.xml']\n",
      "29\n"
     ]
    }
   ],
   "source": [
    "dir = 'z:\\\\nas1_data\\\\user\\\\hhj\\\\sound_event_detection\\\\data\\\\mivia_raw\\\\audio'\n",
    "xml = xml_path_loader(dir, conf['data']['select_traindata'])\n",
    "print(xml)\n",
    "print(len(xml))\n"
   ]
  },
  {
   "cell_type": "code",
   "execution_count": 14,
   "metadata": {},
   "outputs": [
    {
     "name": "stdout",
     "output_type": "stream",
     "text": [
      "['z:\\\\nas1_data\\\\user\\\\hhj\\\\sound_event_detection\\\\data\\\\mivia_raw\\\\audio\\\\B\\\\00027.xml', 'z:\\\\nas1_data\\\\user\\\\hhj\\\\sound_event_detection\\\\data\\\\mivia_raw\\\\audio\\\\B\\\\00016.xml', 'z:\\\\nas1_data\\\\user\\\\hhj\\\\sound_event_detection\\\\data\\\\mivia_raw\\\\audio\\\\B\\\\00020.xml', 'z:\\\\nas1_data\\\\user\\\\hhj\\\\sound_event_detection\\\\data\\\\mivia_raw\\\\audio\\\\B\\\\00019.xml', 'z:\\\\nas1_data\\\\user\\\\hhj\\\\sound_event_detection\\\\data\\\\mivia_raw\\\\audio\\\\B\\\\00024.xml', 'z:\\\\nas1_data\\\\user\\\\hhj\\\\sound_event_detection\\\\data\\\\mivia_raw\\\\audio\\\\B\\\\00017.xml', 'z:\\\\nas1_data\\\\user\\\\hhj\\\\sound_event_detection\\\\data\\\\mivia_raw\\\\audio\\\\B\\\\00021.xml', 'z:\\\\nas1_data\\\\user\\\\hhj\\\\sound_event_detection\\\\data\\\\mivia_raw\\\\audio\\\\B\\\\00025.xml', 'z:\\\\nas1_data\\\\user\\\\hhj\\\\sound_event_detection\\\\data\\\\mivia_raw\\\\audio\\\\B\\\\00028.xml', 'z:\\\\nas1_data\\\\user\\\\hhj\\\\sound_event_detection\\\\data\\\\mivia_raw\\\\audio\\\\B\\\\00022.xml', 'z:\\\\nas1_data\\\\user\\\\hhj\\\\sound_event_detection\\\\data\\\\mivia_raw\\\\audio\\\\B\\\\00026.xml', 'z:\\\\nas1_data\\\\user\\\\hhj\\\\sound_event_detection\\\\data\\\\mivia_raw\\\\audio\\\\B\\\\00023.xml', 'z:\\\\nas1_data\\\\user\\\\hhj\\\\sound_event_detection\\\\data\\\\mivia_raw\\\\audio\\\\B\\\\00015.xml', 'z:\\\\nas1_data\\\\user\\\\hhj\\\\sound_event_detection\\\\data\\\\mivia_raw\\\\audio\\\\B\\\\00018.xml']\n",
      "14\n"
     ]
    }
   ],
   "source": [
    "xml = xml_path_loader(dir, conf['data']['select_valdata'])\n",
    "print(xml)\n",
    "print(len(xml))\n"
   ]
  },
  {
   "cell_type": "code",
   "execution_count": 15,
   "metadata": {},
   "outputs": [
    {
     "name": "stdout",
     "output_type": "stream",
     "text": [
      "['z:\\\\nas1_data\\\\user\\\\hhj\\\\sound_event_detection\\\\data\\\\mivia_raw\\\\audio\\\\A\\\\00012.xml', 'z:\\\\nas1_data\\\\user\\\\hhj\\\\sound_event_detection\\\\data\\\\mivia_raw\\\\audio\\\\A\\\\00007.xml', 'z:\\\\nas1_data\\\\user\\\\hhj\\\\sound_event_detection\\\\data\\\\mivia_raw\\\\audio\\\\A\\\\00013.xml', 'z:\\\\nas1_data\\\\user\\\\hhj\\\\sound_event_detection\\\\data\\\\mivia_raw\\\\audio\\\\A\\\\00004.xml', 'z:\\\\nas1_data\\\\user\\\\hhj\\\\sound_event_detection\\\\data\\\\mivia_raw\\\\audio\\\\A\\\\00001.xml', 'z:\\\\nas1_data\\\\user\\\\hhj\\\\sound_event_detection\\\\data\\\\mivia_raw\\\\audio\\\\A\\\\00005.xml', 'z:\\\\nas1_data\\\\user\\\\hhj\\\\sound_event_detection\\\\data\\\\mivia_raw\\\\audio\\\\A\\\\00010.xml', 'z:\\\\nas1_data\\\\user\\\\hhj\\\\sound_event_detection\\\\data\\\\mivia_raw\\\\audio\\\\A\\\\00008.xml', 'z:\\\\nas1_data\\\\user\\\\hhj\\\\sound_event_detection\\\\data\\\\mivia_raw\\\\audio\\\\A\\\\00002.xml', 'z:\\\\nas1_data\\\\user\\\\hhj\\\\sound_event_detection\\\\data\\\\mivia_raw\\\\audio\\\\A\\\\00014.xml', 'z:\\\\nas1_data\\\\user\\\\hhj\\\\sound_event_detection\\\\data\\\\mivia_raw\\\\audio\\\\A\\\\00006.xml', 'z:\\\\nas1_data\\\\user\\\\hhj\\\\sound_event_detection\\\\data\\\\mivia_raw\\\\audio\\\\A\\\\00011.xml', 'z:\\\\nas1_data\\\\user\\\\hhj\\\\sound_event_detection\\\\data\\\\mivia_raw\\\\audio\\\\A\\\\00009.xml', 'z:\\\\nas1_data\\\\user\\\\hhj\\\\sound_event_detection\\\\data\\\\mivia_raw\\\\audio\\\\A\\\\00003.xml']\n",
      "14\n"
     ]
    }
   ],
   "source": [
    "xml = xml_path_loader(dir, conf['data']['select_testdata'])\n",
    "print(xml)\n",
    "print(len(xml))\n"
   ]
  },
  {
   "cell_type": "markdown",
   "metadata": {},
   "source": [
    "### audio path loader 정의"
   ]
  },
  {
   "cell_type": "code",
   "execution_count": 16,
   "metadata": {},
   "outputs": [],
   "source": [
    "### xml path를 이용하여 audio file 출력\n",
    "def audio_path_loader(xml_path):\n",
    "    filename = os.path.splitext(os.path.basename(xml_path))[0]\n",
    "    audio_path = os.path.join(os.path.dirname(xml_path), 'v2', filename + '_1.wav')\n",
    "    return audio_path"
   ]
  },
  {
   "cell_type": "markdown",
   "metadata": {},
   "source": [
    "### audio_path_loader test"
   ]
  },
  {
   "cell_type": "code",
   "execution_count": 17,
   "metadata": {},
   "outputs": [
    {
     "name": "stdout",
     "output_type": "stream",
     "text": [
      "z:\\nas1_data\\user\\hhj\\sound_event_detection\\data\\mivia_raw\\audio\\A\\00012.xml z:\\nas1_data\\user\\hhj\\sound_event_detection\\data\\mivia_raw\\audio\\A\\v2\\00012_1.wav\n",
      "z:\\nas1_data\\user\\hhj\\sound_event_detection\\data\\mivia_raw\\audio\\A\\00007.xml z:\\nas1_data\\user\\hhj\\sound_event_detection\\data\\mivia_raw\\audio\\A\\v2\\00007_1.wav\n",
      "z:\\nas1_data\\user\\hhj\\sound_event_detection\\data\\mivia_raw\\audio\\A\\00013.xml z:\\nas1_data\\user\\hhj\\sound_event_detection\\data\\mivia_raw\\audio\\A\\v2\\00013_1.wav\n",
      "z:\\nas1_data\\user\\hhj\\sound_event_detection\\data\\mivia_raw\\audio\\A\\00004.xml z:\\nas1_data\\user\\hhj\\sound_event_detection\\data\\mivia_raw\\audio\\A\\v2\\00004_1.wav\n",
      "z:\\nas1_data\\user\\hhj\\sound_event_detection\\data\\mivia_raw\\audio\\A\\00001.xml z:\\nas1_data\\user\\hhj\\sound_event_detection\\data\\mivia_raw\\audio\\A\\v2\\00001_1.wav\n",
      "z:\\nas1_data\\user\\hhj\\sound_event_detection\\data\\mivia_raw\\audio\\A\\00005.xml z:\\nas1_data\\user\\hhj\\sound_event_detection\\data\\mivia_raw\\audio\\A\\v2\\00005_1.wav\n",
      "z:\\nas1_data\\user\\hhj\\sound_event_detection\\data\\mivia_raw\\audio\\A\\00010.xml z:\\nas1_data\\user\\hhj\\sound_event_detection\\data\\mivia_raw\\audio\\A\\v2\\00010_1.wav\n",
      "z:\\nas1_data\\user\\hhj\\sound_event_detection\\data\\mivia_raw\\audio\\A\\00008.xml z:\\nas1_data\\user\\hhj\\sound_event_detection\\data\\mivia_raw\\audio\\A\\v2\\00008_1.wav\n",
      "z:\\nas1_data\\user\\hhj\\sound_event_detection\\data\\mivia_raw\\audio\\A\\00002.xml z:\\nas1_data\\user\\hhj\\sound_event_detection\\data\\mivia_raw\\audio\\A\\v2\\00002_1.wav\n",
      "z:\\nas1_data\\user\\hhj\\sound_event_detection\\data\\mivia_raw\\audio\\A\\00014.xml z:\\nas1_data\\user\\hhj\\sound_event_detection\\data\\mivia_raw\\audio\\A\\v2\\00014_1.wav\n",
      "z:\\nas1_data\\user\\hhj\\sound_event_detection\\data\\mivia_raw\\audio\\A\\00006.xml z:\\nas1_data\\user\\hhj\\sound_event_detection\\data\\mivia_raw\\audio\\A\\v2\\00006_1.wav\n",
      "z:\\nas1_data\\user\\hhj\\sound_event_detection\\data\\mivia_raw\\audio\\A\\00011.xml z:\\nas1_data\\user\\hhj\\sound_event_detection\\data\\mivia_raw\\audio\\A\\v2\\00011_1.wav\n",
      "z:\\nas1_data\\user\\hhj\\sound_event_detection\\data\\mivia_raw\\audio\\A\\00009.xml z:\\nas1_data\\user\\hhj\\sound_event_detection\\data\\mivia_raw\\audio\\A\\v2\\00009_1.wav\n",
      "z:\\nas1_data\\user\\hhj\\sound_event_detection\\data\\mivia_raw\\audio\\A\\00003.xml z:\\nas1_data\\user\\hhj\\sound_event_detection\\data\\mivia_raw\\audio\\A\\v2\\00003_1.wav\n"
     ]
    }
   ],
   "source": [
    "for x in xml:\n",
    "    audio_path = audio_path_loader(x)\n",
    "    print(x, audio_path)"
   ]
  },
  {
   "cell_type": "markdown",
   "metadata": {},
   "source": [
    "# custom dataset <최종 code>"
   ]
  },
  {
   "cell_type": "code",
   "execution_count": 18,
   "metadata": {},
   "outputs": [],
   "source": [
    "### data partition에 따른 xml path list를 load함.\n",
    "def xml_path_loader(xml_folder, partition):\n",
    "    xml_path = []\n",
    "    for folder in os.listdir(xml_folder):\n",
    "        for x in partition:\n",
    "            if (x == folder):\n",
    "                path = os.path.join(xml_folder, folder)\n",
    "                xml_path.extend(glob.glob('{}/*.xml'.format(path)))\n",
    "\n",
    "    return xml_path #list\n",
    "\n",
    "\n",
    "### xml path를 이용하여 audio file 출력\n",
    "def audio_path_loader(xml_path):\n",
    "    filename = os.path.splitext(os.path.basename(xml_path))[0]\n",
    "    audio_path = os.path.join(os.path.dirname(xml_path), 'v2', filename + '_1.wav')\n",
    "    return audio_path\n",
    "\n",
    "# audio 처리 관련 함수\n",
    "# 함수 세 개 모두 dcase 참고\n",
    "def pad_audio(audio, target_len, fs):\n",
    "    \n",
    "    if len(audio) < target_len:\n",
    "        audio = torch.nn.functional.pad(\n",
    "            audio, (0, target_len - audio.shape[-1]), mode=\"constant\"\n",
    "        )\n",
    "        padded_indx = [target_len / len(audio)]\n",
    "        onset_s = 0.000\n",
    "    \n",
    "    elif len(audio) > target_len:        # 여기를 수정함\n",
    "        audio = audio[:target_len]\n",
    "        onset_s = 0.000\n",
    "\n",
    "        padded_indx = [target_len / len(audio)] \n",
    "    else:\n",
    "\n",
    "        onset_s = 0.000\n",
    "        padded_indx = [1.0]\n",
    "\n",
    "    offset_s = round(onset_s + (target_len / fs), 3)\n",
    "    return audio, onset_s, offset_s, padded_indx\n",
    "\n",
    "def to_mono(mixture, random_ch=False):\n",
    "\n",
    "    if mixture.ndim > 1:  # multi channel\n",
    "        if not random_ch:\n",
    "            mixture = torch.mean(mixture, 0)\n",
    "        else:  # randomly select one channel\n",
    "            indx = np.random.randint(0, mixture.shape[0] - 1)\n",
    "            mixture = mixture[indx]\n",
    "    return mixture\n",
    "\n",
    "def read_audio(audio_path, pad_to, resample_rate):\n",
    "\n",
    "    audio, sample_rate = torchaudio.load(audio_path)\n",
    "\n",
    "    # downsampling(sample_rate : 32000 -> fs : 16000)\n",
    "    if sample_rate != resample_rate:\n",
    "        audio, sample_rate = resampler(audio, sample_rate, resample_rate) # audio_data = [channel, signal], channel = 1(mono)\n",
    "\n",
    "    # multi src -> mono\n",
    "    audio = to_mono(audio)\n",
    "\n",
    "    audio_pad, _, _, _ = pad_audio(audio, pad_to, sample_rate)\n",
    "\n",
    "    return audio_pad, sample_rate    \n",
    "\n",
    "# Dataset configuration\n",
    "\n",
    "class mivia(Dataset):\n",
    "    def __init__(self, audio_folder, encoder, transform = None, target_transform = None, partition = ['A'], pad_to = 60, fs = 16000):\n",
    "        self.audio_folder = audio_folder # xml_folder: audio_folder\n",
    "\n",
    "        self.resample_rate = fs # resampling rate\n",
    "        self.pad_to = pad_to * self.resample_rate # unit of pad_to : [second]\n",
    "\n",
    "        self.encoder = encoder\n",
    "        self.transform = transform\n",
    "        self.target_transform = target_transform\n",
    "        self.partition = partition\n",
    "\n",
    "        self.xml_path = xml_path_loader(self.audio_folder, self.partition) # 모든 xml file의 directory를 load\n",
    "\n",
    "    def __len__(self):\n",
    "        return len(self.xml_path)  #len(xml_path) = 57\n",
    "\n",
    "    def __getitem__(self, idx):\n",
    "\n",
    "        target = self.encoder.encoder_strong_label(self.xml_path[idx]) # label load(xml file -> numpy)\n",
    "\n",
    "        audio_path = audio_path_loader(self.xml_path[idx])\n",
    "        audio_data, _ = read_audio(audio_path, self.pad_to, self.resample_rate) # data load, fs = 32000(default)\n",
    "\n",
    "        if self.transform: #data transform\n",
    "            # transform. use this function to extract features in dataloader\n",
    "            spectrogram = self.transform\n",
    "            audio_data = spectrogram(audio_data)\n",
    "\n",
    "        return audio_data, target"
   ]
  },
  {
   "cell_type": "markdown",
   "metadata": {},
   "source": [
    "### 동작 Test code 1. \n",
    "* dataset에서 data가 잘 load되는지"
   ]
  },
  {
   "cell_type": "code",
   "execution_count": 19,
   "metadata": {},
   "outputs": [],
   "source": [
    "with open('..\\\\config\\\\default.yml') as f:\n",
    "    conf = yaml.load(f, Loader = yaml.FullLoader)"
   ]
  },
  {
   "cell_type": "code",
   "execution_count": 20,
   "metadata": {},
   "outputs": [],
   "source": [
    "encoder = multi_label_encoder(\n",
    "    fs = conf['feats']['sample_rate'], \n",
    "    audio_len = conf['feats']['audio_len'], \n",
    "    n_fft = conf['feats']['n_fft'], \n",
    "    hop_length = conf['feats']['hop_length'], \n",
    "    net_pooling = conf['feats']['net_pooling']\n",
    "    )\n",
    "\n",
    "training_data = mivia(\n",
    "    conf['data']['audio_folder'], \n",
    "    encoder = encoder,\n",
    "    transform = MelSpectrogram_transform(conf['feats']),\n",
    "    target_transform= None, \n",
    "    partition = conf['data']['select_traindata'], \n",
    "    pad_to = conf['feats']['audio_len'],\n",
    "    fs = conf['feats']['sample_rate']\n",
    "    )\n",
    "\n",
    "test_data = mivia(\n",
    "    conf['data']['audio_folder'], \n",
    "    encoder = encoder,\n",
    "    transform = MelSpectrogram_transform(conf['feats']),\n",
    "    target_transform= None, \n",
    "    partition = conf['data']['select_testdata'], \n",
    "    pad_to = conf['feats']['audio_len'],\n",
    "    fs = conf['feats']['sample_rate']\n",
    "    )\n",
    "\n",
    "validation_data = mivia(\n",
    "    conf['data']['audio_folder'], \n",
    "    encoder = encoder,\n",
    "    transform = MelSpectrogram_transform(conf['feats']),\n",
    "    target_transform= None, \n",
    "    partition = conf['data']['select_valdata'], \n",
    "    pad_to = conf['feats']['audio_len'],\n",
    "    fs = conf['feats']['sample_rate']\n",
    "    )\n",
    "# test_data = mivia(conf['data']['audio_folder'], conf['data']['xml_folder'], encoder, partition = conf['data']['select_testdata'], transform = MelSpectrogram_transform(conf['feats']))"
   ]
  },
  {
   "cell_type": "code",
   "execution_count": 21,
   "metadata": {},
   "outputs": [],
   "source": [
    "training_data_iter = iter(training_data)\n",
    "audio, target = next(training_data_iter)"
   ]
  },
  {
   "cell_type": "code",
   "execution_count": 22,
   "metadata": {},
   "outputs": [
    {
     "name": "stdout",
     "output_type": "stream",
     "text": [
      "torch.Size([40, 3751])\n",
      "(3750, 3)\n"
     ]
    }
   ],
   "source": [
    "print(audio.shape) # mel spectrogram\n",
    "print(target.shape)"
   ]
  },
  {
   "cell_type": "code",
   "execution_count": 23,
   "metadata": {},
   "outputs": [
    {
     "data": {
      "image/png": "[encoded data removed]",
      "text/plain": [
       "<Figure size 432x288 with 1 Axes>"
      ]
     },
     "metadata": {
      "needs_background": "light"
     },
     "output_type": "display_data"
    }
   ],
   "source": [
    "matplotlib_label_show(target)"
   ]
  },
  {
   "cell_type": "code",
   "execution_count": 24,
   "metadata": {},
   "outputs": [
    {
     "name": "stdout",
     "output_type": "stream",
     "text": [
      "torch.Size([40, 3751])\n",
      "(3750, 3)\n"
     ]
    }
   ],
   "source": [
    "audio, target = next(training_data_iter)\n",
    "print(audio.shape)\n",
    "print(target.shape)\n"
   ]
  },
  {
   "cell_type": "markdown",
   "metadata": {},
   "source": [
    "### 동작 Test 2. dataloader 적용"
   ]
  },
  {
   "cell_type": "code",
   "execution_count": 25,
   "metadata": {},
   "outputs": [],
   "source": [
    "encoder = multi_label_encoder(\n",
    "    fs = conf['feats']['sample_rate'], \n",
    "    audio_len = conf['feats']['audio_len'], \n",
    "    n_fft = conf['feats']['n_fft'], \n",
    "    hop_length = conf['feats']['hop_length'], \n",
    "    net_pooling = conf['feats']['net_pooling']\n",
    "    )\n",
    "\n",
    "training_data = mivia(\n",
    "    conf['data']['audio_folder'], \n",
    "    encoder = encoder,\n",
    "    transform = MelSpectrogram_transform(conf['feats']),\n",
    "    target_transform= None, \n",
    "    partition = conf['data']['select_traindata'], \n",
    "    pad_to = conf['feats']['audio_len'],\n",
    "    fs = conf['feats']['sample_rate']\n",
    "    )\n",
    "\n",
    "test_data = mivia(\n",
    "    conf['data']['audio_folder'], \n",
    "    encoder = encoder,\n",
    "    transform = MelSpectrogram_transform(conf['feats']),\n",
    "    target_transform= None, \n",
    "    partition = conf['data']['select_testdata'], \n",
    "    pad_to = conf['feats']['audio_len'],\n",
    "    fs = conf['feats']['sample_rate']\n",
    "    )\n",
    "\n",
    "validation_data = mivia(\n",
    "    conf['data']['audio_folder'], \n",
    "    encoder = encoder,\n",
    "    transform = MelSpectrogram_transform(conf['feats']),\n",
    "    target_transform= None, \n",
    "    partition = conf['data']['select_valdata'], \n",
    "    pad_to = conf['feats']['audio_len'],\n",
    "    fs = conf['feats']['sample_rate']\n",
    "    )\n",
    "# test_data = mivia(conf['data']['audio_folder'], conf['data']['xml_folder'], encoder, partition = conf['data']['select_testdata'], transform = MelSpectrogram_transform(conf['feats']))"
   ]
  },
  {
   "cell_type": "markdown",
   "metadata": {},
   "source": [
    "### dataset의 size 구하기"
   ]
  },
  {
   "cell_type": "code",
   "execution_count": 52,
   "metadata": {},
   "outputs": [
    {
     "name": "stdout",
     "output_type": "stream",
     "text": [
      "29\n",
      "14\n",
      "14\n"
     ]
    }
   ],
   "source": [
    "print(len(training_data))\n",
    "print(len(test_data))\n",
    "print(len(validation_data))"
   ]
  },
  {
   "cell_type": "markdown",
   "metadata": {},
   "source": [
    "### dataset의 size 구하기 & batch num 구하기"
   ]
  },
  {
   "cell_type": "code",
   "execution_count": 59,
   "metadata": {},
   "outputs": [
    {
     "name": "stdout",
     "output_type": "stream",
     "text": [
      "29 14 14\n",
      "8 7 7\n",
      "8.0\n",
      "7.0\n",
      "7.0\n"
     ]
    }
   ],
   "source": [
    "train_dataloader = DataLoader(training_data, batch_size = 4)\n",
    "test_dataloader = DataLoader(test_data, batch_size = 2)\n",
    "validation_dataloader = DataLoader(validation_data, batch_size = 2)\n",
    "# size\n",
    "print(len(train_dataloader.dataset), len(test_dataloader.dataset), len(validation_dataloader.dataset))\n",
    "# batch num\n",
    "print(len(train_dataloader), len(test_dataloader), len(validation_dataloader))\n",
    "# batch num 직접 계산\n",
    "print(np.ceil(len(training_data) / 4))\n",
    "print(np.ceil(len(test_data) / 2))\n",
    "print(np.ceil(len(validation_data) / 2))"
   ]
  },
  {
   "cell_type": "code",
   "execution_count": 28,
   "metadata": {},
   "outputs": [
    {
     "name": "stdout",
     "output_type": "stream",
     "text": [
      "torch.Size([4, 40, 3751])\n",
      "torch.Size([4, 3750, 3])\n",
      "torch.Size([4, 1, 3751, 40])\n"
     ]
    }
   ],
   "source": [
    "audio, target = next(iter(train_dataloader))\n",
    "print(audio.shape)\n",
    "print(target.shape)\n",
    "\n",
    "audio_trans = audio.transpose(1, 2).unsqueeze(1)\n",
    "print(audio_trans.shape)"
   ]
  },
  {
   "cell_type": "code",
   "execution_count": 29,
   "metadata": {},
   "outputs": [
    {
     "data": {
      "image/png": "[encoded data removed]",
      "text/plain": [
       "<Figure size 432x288 with 1 Axes>"
      ]
     },
     "metadata": {
      "needs_background": "light"
     },
     "output_type": "display_data"
    }
   ],
   "source": [
    "matplotlib_label_show(target[0,:,:])"
   ]
  },
  {
   "cell_type": "code",
   "execution_count": 30,
   "metadata": {},
   "outputs": [
    {
     "name": "stdout",
     "output_type": "stream",
     "text": [
      "Shape: (40, 3751)\n",
      "Dtype: torch.float32\n",
      " - Max:     291.912\n",
      " - Min:      0.001\n",
      " - Mean:     7.975\n",
      " - Std Dev: 16.898\n",
      "\n",
      "tensor([[2.1342e-03, 2.8545e-03, 4.0992e-03,  ..., 1.4015e+00, 1.3697e+00,\n",
      "         1.2630e+00],\n",
      "        [4.1498e-03, 4.3718e-03, 4.2053e-03,  ..., 3.7505e+00, 3.0626e+00,\n",
      "         2.3119e+00],\n",
      "        [4.0589e-03, 4.4085e-03, 4.3279e-03,  ..., 4.3601e+00, 4.3484e+00,\n",
      "         4.0556e+00],\n",
      "        ...,\n",
      "        [8.8946e-03, 9.3681e-03, 9.0700e-03,  ..., 9.6848e+00, 7.9640e+00,\n",
      "         7.1861e+00],\n",
      "        [4.5439e-03, 4.7596e-03, 4.5960e-03,  ..., 4.7682e+00, 3.8765e+00,\n",
      "         3.2815e+00],\n",
      "        [1.4586e-03, 1.3909e-03, 1.1392e-03,  ..., 8.3394e-01, 7.4458e-01,\n",
      "         6.9691e-01]])\n",
      "\n"
     ]
    },
    {
     "data": {
      "image/png": "[encoded data removed]",
      "text/plain": [
       "<Figure size 432x288 with 2 Axes>"
      ]
     },
     "metadata": {
      "needs_background": "light"
     },
     "output_type": "display_data"
    }
   ],
   "source": [
    "from transformer import *\n",
    "print_stats(audio[0,:,:])\n",
    "plot_spectrogram(audio[0,:,:], title='torchaudio')"
   ]
  },
  {
   "cell_type": "code",
   "execution_count": 31,
   "metadata": {},
   "outputs": [
    {
     "name": "stdout",
     "output_type": "stream",
     "text": [
      "0\n",
      "torch.Size([4, 40, 3751])\n",
      "torch.Size([4, 3750, 3])\n",
      "1\n",
      "torch.Size([4, 40, 3751])\n",
      "torch.Size([4, 3750, 3])\n",
      "2\n",
      "torch.Size([4, 40, 3751])\n",
      "torch.Size([4, 3750, 3])\n",
      "3\n",
      "torch.Size([4, 40, 3751])\n",
      "torch.Size([4, 3750, 3])\n",
      "4\n",
      "torch.Size([4, 40, 3751])\n",
      "torch.Size([4, 3750, 3])\n",
      "5\n",
      "torch.Size([4, 40, 3751])\n",
      "torch.Size([4, 3750, 3])\n",
      "6\n",
      "torch.Size([4, 40, 3751])\n",
      "torch.Size([4, 3750, 3])\n",
      "7\n",
      "torch.Size([1, 40, 3751])\n",
      "torch.Size([1, 3750, 3])\n"
     ]
    }
   ],
   "source": [
    "for batch_ndx, sample in enumerate(train_dataloader, 0):\n",
    "    print(batch_ndx)\n",
    "    print(sample[0].shape) # audio [batch_size, channel, mel_freq, time_axis]\n",
    "    print(sample[1].shape) # target [batch_size, segment, class]\n",
    "\n",
    "    "
   ]
  },
  {
   "cell_type": "code",
   "execution_count": 32,
   "metadata": {},
   "outputs": [
    {
     "name": "stdout",
     "output_type": "stream",
     "text": [
      "29\n"
     ]
    }
   ],
   "source": [
    "print(len(train_dataloader.dataset))"
   ]
  },
  {
   "cell_type": "code",
   "execution_count": 33,
   "metadata": {},
   "outputs": [
    {
     "name": "stdout",
     "output_type": "stream",
     "text": [
      "Feature batch shape: torch.Size([4, 40, 3751])\n",
      "Labels batch shape: torch.Size([4, 3750, 3])\n",
      "Label: tensor([[0., 0., 0.],\n",
      "        [0., 0., 0.],\n",
      "        [0., 0., 0.],\n",
      "        ...,\n",
      "        [0., 0., 1.],\n",
      "        [0., 0., 1.],\n",
      "        [0., 0., 1.]])\n"
     ]
    }
   ],
   "source": [
    "train_features, train_labels = next(iter(train_dataloader))\n",
    "print(f\"Feature batch shape: {train_features.size()}\")\n",
    "print(f\"Labels batch shape: {train_labels.size()}\")\n",
    "# img = train_features[0].squeeze()\n",
    "label = train_labels[0]\n",
    "# plt.imshow(img, cmap=\"gray\")\n",
    "# plt.show()\n",
    "print(f\"Label: {label}\")"
   ]
  },
  {
   "cell_type": "code",
   "execution_count": 51,
   "metadata": {},
   "outputs": [
    {
     "name": "stdout",
     "output_type": "stream",
     "text": [
      "0 torch.Size([4, 40, 3751]) torch.Size([4, 3750, 3])\n",
      "1 torch.Size([4, 40, 3751]) torch.Size([4, 3750, 3])\n",
      "2 torch.Size([4, 40, 3751]) torch.Size([4, 3750, 3])\n",
      "3 torch.Size([4, 40, 3751]) torch.Size([4, 3750, 3])\n",
      "4 torch.Size([4, 40, 3751]) torch.Size([4, 3750, 3])\n",
      "5 torch.Size([4, 40, 3751]) torch.Size([4, 3750, 3])\n",
      "6 torch.Size([4, 40, 3751]) torch.Size([4, 3750, 3])\n",
      "7 torch.Size([1, 40, 3751]) torch.Size([1, 3750, 3])\n"
     ]
    }
   ],
   "source": [
    "for i, data in enumerate(train_dataloader, 0):\n",
    "    print(i, data[0].shape, data[1].shape)"
   ]
  },
  {
   "cell_type": "markdown",
   "metadata": {},
   "source": [
    "### reference code 모음(audio padding). lsh collate code\n",
    "* 참고용\n",
    "* 링크 : https://github.com/seunghyeon528/Extract_PASE_Features/blob/main/extract_PASE_feature.py"
   ]
  },
  {
   "cell_type": "code",
   "execution_count": 35,
   "metadata": {},
   "outputs": [],
   "source": [
    "def my_collate(batch):\n",
    "    audios,save_paths = list(zip(*batch))\n",
    "    # find max length of audios in batch\n",
    "    audios_len = torch.LongTensor(np.array([x.shape[1] for x in audios]))\n",
    "    max_len = max(audios_len)\n",
    "\n",
    "    # zero padding\n",
    "    batch_size = len(audios)\n",
    "    inputs = torch.zeros(batch_size,1,max_len)\n",
    "    for i in range(batch_size):\n",
    "        inputs[i,:, :audios[i].shape[1]] = audios[i]\n",
    "\n",
    "    return (inputs, save_paths, audios_len)"
   ]
  },
  {
   "cell_type": "markdown",
   "metadata": {},
   "source": [
    "##### 1번 test code"
   ]
  },
  {
   "cell_type": "code",
   "execution_count": 36,
   "metadata": {},
   "outputs": [],
   "source": [
    "test_audio = 'z:\\\\nas1_data\\\\user\\\\hhj\\\\sound_event_detection\\\\data\\\\mivia_raw\\\\audio\\\\D\\\\v2\\\\00047_1.wav'\n",
    "sig, fs = torchaudio.load(test_audio)"
   ]
  },
  {
   "cell_type": "code",
   "execution_count": 37,
   "metadata": {},
   "outputs": [],
   "source": [
    "import numpy as np\n",
    "import torch\n",
    "\n",
    "audio_1 = torch.arange(10, dtype = float)\n",
    "audio_2 = torch.arange(9, dtype = float)\n",
    "audio_3 = torch.arange(12, dtype = float)"
   ]
  },
  {
   "cell_type": "code",
   "execution_count": 38,
   "metadata": {},
   "outputs": [
    {
     "name": "stdout",
     "output_type": "stream",
     "text": [
      "torch.Size([10])\n",
      "[torch.Size([10]), torch.Size([9]), torch.Size([12])]\n"
     ]
    }
   ],
   "source": [
    "print(audio_1.shape)\n",
    "audio = [audio_1, audio_2, audio_3]\n",
    "a = [x.shape for x in audio]\n",
    "print(a)"
   ]
  },
  {
   "cell_type": "code",
   "execution_count": 39,
   "metadata": {},
   "outputs": [
    {
     "name": "stdout",
     "output_type": "stream",
     "text": [
      "[10  9 12]\n",
      "10\n"
     ]
    }
   ],
   "source": [
    "audio_len = np.array([x.shape[0] for x in audio]) #\n",
    "print(audio_len)\n",
    "print(audio[0].shape[0])"
   ]
  },
  {
   "cell_type": "code",
   "execution_count": 40,
   "metadata": {},
   "outputs": [
    {
     "name": "stdout",
     "output_type": "stream",
     "text": [
      "tensor([10,  9, 12])\n",
      "tensor(12)\n"
     ]
    }
   ],
   "source": [
    "audio_len = torch.LongTensor(audio_len)\n",
    "print(audio_len)\n",
    "max_len = max(audio_len)\n",
    "print(max_len)"
   ]
  },
  {
   "cell_type": "code",
   "execution_count": 41,
   "metadata": {},
   "outputs": [
    {
     "name": "stdout",
     "output_type": "stream",
     "text": [
      "3\n"
     ]
    }
   ],
   "source": [
    "batch_size = len(audio)\n",
    "print(batch_size)"
   ]
  },
  {
   "cell_type": "code",
   "execution_count": 42,
   "metadata": {},
   "outputs": [
    {
     "name": "stdout",
     "output_type": "stream",
     "text": [
      "torch.Size([3, 1, 12])\n"
     ]
    }
   ],
   "source": [
    "inputs = torch.zeros(batch_size,1,max_len)\n",
    "print(inputs.shape)"
   ]
  },
  {
   "cell_type": "code",
   "execution_count": 43,
   "metadata": {},
   "outputs": [],
   "source": [
    "for i in range(batch_size):\n",
    "    inputs[i,:, :audio[i].shape[0]] = audio[i]"
   ]
  },
  {
   "cell_type": "code",
   "execution_count": 44,
   "metadata": {},
   "outputs": [
    {
     "name": "stdout",
     "output_type": "stream",
     "text": [
      "[tensor([0., 1., 2., 3., 4., 5., 6., 7., 8., 9.], dtype=torch.float64), tensor([0., 1., 2., 3., 4., 5., 6., 7., 8.], dtype=torch.float64), tensor([ 0.,  1.,  2.,  3.,  4.,  5.,  6.,  7.,  8.,  9., 10., 11.],\n",
      "       dtype=torch.float64)]\n",
      "tensor([[[ 0.,  1.,  2.,  3.,  4.,  5.,  6.,  7.,  8.,  9.,  0.,  0.]],\n",
      "\n",
      "        [[ 0.,  1.,  2.,  3.,  4.,  5.,  6.,  7.,  8.,  0.,  0.,  0.]],\n",
      "\n",
      "        [[ 0.,  1.,  2.,  3.,  4.,  5.,  6.,  7.,  8.,  9., 10., 11.]]])\n"
     ]
    }
   ],
   "source": [
    "print(audio)\n",
    "print(inputs)"
   ]
  },
  {
   "cell_type": "markdown",
   "metadata": {},
   "source": [
    "#### 2. dcase pad_audio code\n",
    "* 참고용\n",
    "* 링크 : https://github.com/DCASE-REPO/DESED_task/blob/ffb3d49feb740da789fff80c082bdde6b98e7cb4/desed_task/dataio/datasets.py#L116"
   ]
  },
  {
   "cell_type": "code",
   "execution_count": 45,
   "metadata": {},
   "outputs": [],
   "source": [
    "import random\n",
    "def pad_audio(audio, target_len, fs):\n",
    "    \n",
    "    if audio.shape[-1] < target_len:\n",
    "        audio = torch.nn.functional.pad(\n",
    "            audio, (0, target_len - audio.shape[-1]), mode=\"constant\"\n",
    "        )\n",
    "\n",
    "        padded_indx = [target_len / len(audio)]\n",
    "        onset_s = 0.000\n",
    "    \n",
    "    elif len(audio) > target_len:\n",
    "        \n",
    "        rand_onset = random.randint(0, len(audio) - target_len)\n",
    "        audio = audio[rand_onset:rand_onset + target_len]\n",
    "        onset_s = round(rand_onset / fs, 3)\n",
    "\n",
    "        padded_indx = [target_len / len(audio)] \n",
    "    else:\n",
    "\n",
    "        onset_s = 0.000\n",
    "        padded_indx = [1.0]\n",
    "\n",
    "    offset_s = round(onset_s + (target_len / fs), 3)\n",
    "    return audio, onset_s, offset_s, padded_indx"
   ]
  },
  {
   "cell_type": "markdown",
   "metadata": {},
   "source": [
    "##### 2번 test code"
   ]
  },
  {
   "cell_type": "code",
   "execution_count": 46,
   "metadata": {},
   "outputs": [],
   "source": [
    "test_audio = 'z:\\\\nas1_data\\\\user\\\\hhj\\\\sound_event_detection\\\\data\\\\mivia_raw\\\\audio\\\\D\\\\v2\\\\00047_1.wav'\n",
    "sig, fs = torchaudio.load(test_audio)\n",
    "audio_1 = torch.arange(10, dtype = float)\n",
    "audio_2 = torch.arange(9, dtype = float)\n",
    "audio_3 = torch.arange(12, dtype = float)"
   ]
  },
  {
   "cell_type": "code",
   "execution_count": 47,
   "metadata": {},
   "outputs": [
    {
     "ename": "TypeError",
     "evalue": "pad_audio() missing 1 required positional argument: 'fs'",
     "output_type": "error",
     "traceback": [
      "\u001b[1;31m---------------------------------------------------------------------------\u001b[0m",
      "\u001b[1;31mTypeError\u001b[0m                                 Traceback (most recent call last)",
      "\u001b[1;32m~\\AppData\\Local\\Temp\\ipykernel_1144\\479100097.py\u001b[0m in \u001b[0;36m<module>\u001b[1;34m\u001b[0m\n\u001b[1;32m----> 1\u001b[1;33m \u001b[0msig_pad\u001b[0m \u001b[1;33m=\u001b[0m \u001b[0mpad_audio\u001b[0m\u001b[1;33m(\u001b[0m\u001b[0maudio_1\u001b[0m\u001b[1;33m,\u001b[0m \u001b[1;36m15\u001b[0m\u001b[1;33m,\u001b[0m \u001b[1;33m)\u001b[0m\u001b[1;33m\u001b[0m\u001b[1;33m\u001b[0m\u001b[0m\n\u001b[0m",
      "\u001b[1;31mTypeError\u001b[0m: pad_audio() missing 1 required positional argument: 'fs'"
     ]
    }
   ],
   "source": [
    "sig_pad = pad_audio(audio_1, 15, )"
   ]
  },
  {
   "cell_type": "markdown",
   "metadata": {},
   "source": [
    "#### 3.FilterAugSED pad audio code\n",
    "* 참고용\n",
    "* 링크 : https://github.com/frednam93/FilterAugSED/blob/main/utils/dataset.py"
   ]
  },
  {
   "cell_type": "code",
   "execution_count": null,
   "metadata": {},
   "outputs": [],
   "source": [
    "def pad_wav(wav, pad_to, encoder):\n",
    "    if len(wav) < pad_to:\n",
    "        pad_from = len(wav)\n",
    "        wav = np.pad(wav, (0, pad_to - len(wav)), mode=\"constant\")\n",
    "    else:\n",
    "        wav = wav[:pad_to]\n",
    "        pad_from = pad_to\n",
    "    pad_idx = np.ceil(encoder._time_to_frame(pad_from / encoder.sr))\n",
    "    pad_mask = torch.arange(encoder.n_frames) >= pad_idx # size = n_frame, [0, 0, 0, 0, 0, ..., 0, 1, ..., 1]\n",
    "    return wav, pad_mask"
   ]
  },
  {
   "cell_type": "markdown",
   "metadata": {},
   "source": [
    "## (중요) pad audio code 추가\n",
    "* 아래 세 함수를 위 dataset 최종에 추가함.\n",
    "### 동작 Test 3. audio padding\n",
    "* audio length 조절\n"
   ]
  },
  {
   "cell_type": "markdown",
   "metadata": {},
   "source": [
    "### pad_audio test # 1\n",
    "* audio file로 test"
   ]
  },
  {
   "cell_type": "code",
   "execution_count": null,
   "metadata": {},
   "outputs": [],
   "source": [
    "# audio 처리 관련 함수\n",
    "# 함수 세 개 모두 dcase 참고\n",
    "def pad_audio(audio, target_len, fs):\n",
    "    \n",
    "    if len(audio) < target_len:\n",
    "        audio = torch.nn.functional.pad(\n",
    "            audio, (0, target_len - audio.shape[-1]), mode=\"constant\"\n",
    "        )\n",
    "        padded_indx = [target_len / len(audio)]\n",
    "        onset_s = 0.000\n",
    "    \n",
    "    elif len(audio) > target_len:        # 여기를 수정함\n",
    "        audio = audio[:target_len]\n",
    "        onset_s = 0.000\n",
    "\n",
    "        padded_indx = [target_len / len(audio)] \n",
    "    else:\n",
    "\n",
    "        onset_s = 0.000\n",
    "        padded_indx = [1.0]\n",
    "\n",
    "    offset_s = round(onset_s + (target_len / fs), 3)\n",
    "    return audio, onset_s, offset_s, padded_indx\n",
    "\n",
    "def to_mono(mixture, random_ch=False):\n",
    "\n",
    "    if mixture.ndim > 1:  # multi channel\n",
    "        if not random_ch:\n",
    "            mixture = torch.mean(mixture, 0)\n",
    "        else:  # randomly select one channel\n",
    "            indx = np.random.randint(0, mixture.shape[0] - 1)\n",
    "            mixture = mixture[indx]\n",
    "    return mixture\n",
    "\n",
    "def read_audio(audio_path, pad_to, resample_rate):\n",
    "\n",
    "    audio, sample_rate = torchaudio.load(audio_path)\n",
    "\n",
    "    # downsampling(sample_rate : 32000 -> fs : 16000)\n",
    "    if sample_rate != resample_rate:\n",
    "        audio, sample_rate = resampler(audio, sample_rate, resample_rate) # audio_data = [channel, signal], channel = 1(mono)\n",
    "\n",
    "    # multi src -> mono\n",
    "    audio = to_mono(audio)\n",
    "\n",
    "    audio_pad, _, _, _ = pad_audio(audio, pad_to, sample_rate)\n",
    "\n",
    "    return audio_pad, sample_rate    "
   ]
  },
  {
   "cell_type": "code",
   "execution_count": null,
   "metadata": {},
   "outputs": [
    {
     "name": "stdout",
     "output_type": "stream",
     "text": [
      "-----original audio load-----\n",
      "<class 'torch.Tensor'>\n",
      "torch.Size([1, 2040589]) 32000\n",
      "-----resample test-----\n",
      "<class 'torch.Tensor'>\n",
      "torch.Size([1, 1020295]) 16000\n",
      "-----mono test-----\n",
      "<class 'torch.Tensor'>\n",
      "torch.Size([1020295])\n",
      "-----pad test-----\n",
      "<class 'torch.Tensor'>\n",
      "torch.Size([960000])\n"
     ]
    }
   ],
   "source": [
    "# original audio load\n",
    "print(\"-----original audio load-----\")\n",
    "audio_origin, fs = torchaudio.load('z:\\\\nas1_data\\\\user\\\\hhj\\\\sound_event_detection\\\\data\\\\mivia_raw\\\\audio\\\\D\\\\v2\\\\00043_1.wav')\n",
    "print(type(audio_origin))\n",
    "print(audio_origin.shape, fs)\n",
    "# resample test\n",
    "print(\"-----resample test-----\")\n",
    "\n",
    "audio_resample, fs_re = resampler(audio_origin, fs, 16000)\n",
    "print(type(audio_resample))\n",
    "print(audio_resample.shape, fs_re)\n",
    "\n",
    "# to mono test\n",
    "print(\"-----mono test-----\")\n",
    "audio_mono = to_mono(audio_resample)\n",
    "print(type(audio_mono))\n",
    "print(audio_mono.shape)\n",
    "\n",
    "# pad test\n",
    "print(\"-----pad test-----\")\n",
    "audio_pad, _, _, _ = pad_audio(audio_mono, 960000, fs_re)\n",
    "print(type(audio_pad))\n",
    "print(audio_pad.shape)"
   ]
  },
  {
   "cell_type": "code",
   "execution_count": null,
   "metadata": {},
   "outputs": [
    {
     "name": "stdout",
     "output_type": "stream",
     "text": [
      "True\n",
      "tensor([ 1.1863e-06, -8.1851e-06,  4.7717e-06,  ..., -8.6929e-03,\n",
      "        -8.1910e-03, -1.0293e-02])\n"
     ]
    }
   ],
   "source": [
    "print(torch.equal(audio_mono[:960000], audio_pad))\n",
    "print(audio_mono[:96000])"
   ]
  },
  {
   "cell_type": "code",
   "execution_count": null,
   "metadata": {},
   "outputs": [
    {
     "name": "stdout",
     "output_type": "stream",
     "text": [
      "True\n",
      "True\n"
     ]
    }
   ],
   "source": [
    "audio_read_output, fs_read_audio = read_audio('z:\\\\nas1_data\\\\user\\\\hhj\\\\sound_event_detection\\\\data\\\\mivia_raw\\\\audio\\\\D\\\\v2\\\\00043_1.wav', 960000, 16000)\n",
    "print(torch.equal(audio_pad, audio_read_output))\n",
    "print(torch.equal(audio_mono[:960000], audio_read_output))"
   ]
  },
  {
   "cell_type": "markdown",
   "metadata": {},
   "source": [
    "### pad audio test #2\n",
    "* 직접 값 넣어서 test"
   ]
  },
  {
   "cell_type": "code",
   "execution_count": null,
   "metadata": {},
   "outputs": [],
   "source": [
    "audio_1 = torch.arange(10, dtype = float)\n",
    "audio_2 = torch.arange(9, dtype = float)\n",
    "audio_3 = torch.arange(12, dtype = float)"
   ]
  },
  {
   "cell_type": "markdown",
   "metadata": {},
   "source": [
    "* resample 없이 test"
   ]
  },
  {
   "cell_type": "code",
   "execution_count": null,
   "metadata": {},
   "outputs": [
    {
     "name": "stdout",
     "output_type": "stream",
     "text": [
      "-----mono test-----\n",
      "tensor([0., 1., 2., 3., 4., 5., 6., 7., 8., 9.], dtype=torch.float64)\n",
      "tensor([0., 1., 2., 3., 4., 5., 6., 7., 8., 9.], dtype=torch.float64)\n",
      "<class 'torch.Tensor'>\n",
      "torch.Size([10])\n",
      "-----pad test-----\n",
      "<class 'torch.Tensor'>\n",
      "torch.Size([15])\n",
      "tensor([0., 1., 2., 3., 4., 5., 6., 7., 8., 9., 0., 0., 0., 0., 0.],\n",
      "       dtype=torch.float64)\n"
     ]
    }
   ],
   "source": [
    "print(\"-----mono test-----\")\n",
    "audio_mono = to_mono(audio_1)\n",
    "print(audio_1)\n",
    "print(audio_mono)\n",
    "print(type(audio_mono))\n",
    "print(audio_mono.shape)\n",
    "print(\"-----pad test-----\")\n",
    "audio_pad, _, _, _ = pad_audio(audio_mono, 15, fs_re)\n",
    "print(type(audio_pad))\n",
    "print(audio_pad.shape)\n",
    "print(audio_pad)"
   ]
  },
  {
   "cell_type": "code",
   "execution_count": null,
   "metadata": {},
   "outputs": [
    {
     "name": "stdout",
     "output_type": "stream",
     "text": [
      "-----mono test-----\n",
      "tensor([0., 1., 2., 3., 4., 5., 6., 7., 8.], dtype=torch.float64)\n",
      "tensor([0., 1., 2., 3., 4., 5., 6., 7., 8.], dtype=torch.float64)\n",
      "<class 'torch.Tensor'>\n",
      "torch.Size([9])\n",
      "-----pad test-----\n",
      "<class 'torch.Tensor'>\n",
      "torch.Size([5])\n",
      "tensor([0., 1., 2., 3., 4.], dtype=torch.float64)\n"
     ]
    }
   ],
   "source": [
    "print(\"-----mono test-----\")\n",
    "audio_mono = to_mono(audio_2)\n",
    "print(audio_2)\n",
    "print(audio_mono)\n",
    "print(type(audio_mono))\n",
    "print(audio_mono.shape)\n",
    "print(\"-----pad test-----\")\n",
    "audio_pad, _, _, _ = pad_audio(audio_mono, 5, fs_re)\n",
    "print(type(audio_pad))\n",
    "print(audio_pad.shape)\n",
    "print(audio_pad)"
   ]
  },
  {
   "cell_type": "code",
   "execution_count": null,
   "metadata": {},
   "outputs": [
    {
     "name": "stdout",
     "output_type": "stream",
     "text": [
      "-----mono test-----\n",
      "tensor([ 0.,  1.,  2.,  3.,  4.,  5.,  6.,  7.,  8.,  9., 10., 11.],\n",
      "       dtype=torch.float64)\n",
      "tensor([ 0.,  1.,  2.,  3.,  4.,  5.,  6.,  7.,  8.,  9., 10., 11.],\n",
      "       dtype=torch.float64)\n",
      "<class 'torch.Tensor'>\n",
      "torch.Size([12])\n",
      "-----pad test-----\n",
      "<class 'torch.Tensor'>\n",
      "torch.Size([15])\n",
      "tensor([ 0.,  1.,  2.,  3.,  4.,  5.,  6.,  7.,  8.,  9., 10., 11.,  0.,  0.,\n",
      "         0.], dtype=torch.float64)\n"
     ]
    }
   ],
   "source": [
    "print(\"-----mono test-----\")\n",
    "audio_mono = to_mono(audio_3)\n",
    "print(audio_3)\n",
    "print(audio_mono)\n",
    "print(type(audio_mono))\n",
    "print(audio_mono.shape)\n",
    "print(\"-----pad test-----\")\n",
    "audio_pad, _, _, _ = pad_audio(audio_mono, 15, fs_re)\n",
    "print(type(audio_pad))\n",
    "print(audio_pad.shape)\n",
    "print(audio_pad)"
   ]
  },
  {
   "cell_type": "markdown",
   "metadata": {},
   "source": [
    "* resample 있이 test"
   ]
  },
  {
   "cell_type": "code",
   "execution_count": null,
   "metadata": {},
   "outputs": [
    {
     "name": "stdout",
     "output_type": "stream",
     "text": [
      "-----original audio load-----\n",
      "<class 'torch.Tensor'>\n",
      "torch.Size([10]) 10\n",
      "tensor([0., 1., 2., 3., 4., 5., 6., 7., 8., 9.], dtype=torch.float64)\n",
      "-----resample test-----\n",
      "<class 'torch.Tensor'>\n",
      "torch.Size([5]) 5\n",
      "tensor([4.6141e-03, 2.1730e+00, 3.8235e+00, 6.0668e+00, 8.2933e+00],\n",
      "       dtype=torch.float64)\n",
      "-----mono test-----\n",
      "<class 'torch.Tensor'>\n",
      "torch.Size([5])\n",
      "-----pad test-----\n",
      "<class 'torch.Tensor'>\n",
      "torch.Size([15])\n",
      "tensor([4.6141e-03, 2.1730e+00, 3.8235e+00, 6.0668e+00, 8.2933e+00, 0.0000e+00,\n",
      "        0.0000e+00, 0.0000e+00, 0.0000e+00, 0.0000e+00, 0.0000e+00, 0.0000e+00,\n",
      "        0.0000e+00, 0.0000e+00, 0.0000e+00], dtype=torch.float64)\n"
     ]
    }
   ],
   "source": [
    "# original audio load\n",
    "print(\"-----original audio load-----\")\n",
    "audio_origin, fs = audio_1, 10\n",
    "print(type(audio_origin))\n",
    "print(audio_origin.shape, fs)\n",
    "print(audio_origin)\n",
    "# resample test\n",
    "print(\"-----resample test-----\")\n",
    "\n",
    "audio_resample, fs_re = resampler(audio_origin, fs, 5)\n",
    "print(type(audio_resample))\n",
    "print(audio_resample.shape, fs_re)\n",
    "print(audio_resample)\n",
    "\n",
    "# to mono test\n",
    "print(\"-----mono test-----\")\n",
    "audio_mono = to_mono(audio_resample)\n",
    "print(type(audio_mono))\n",
    "print(audio_mono.shape)\n",
    "\n",
    "# pad test\n",
    "print(\"-----pad test-----\")\n",
    "audio_pad, _, _, _ = pad_audio(audio_mono, 15, fs_re)\n",
    "print(type(audio_pad))\n",
    "print(audio_pad.shape)\n",
    "print(audio_pad)"
   ]
  },
  {
   "cell_type": "code",
   "execution_count": null,
   "metadata": {},
   "outputs": [
    {
     "name": "stdout",
     "output_type": "stream",
     "text": [
      "-----original audio load-----\n",
      "<class 'torch.Tensor'>\n",
      "torch.Size([9]) 10\n",
      "-----resample test-----\n",
      "<class 'torch.Tensor'>\n",
      "torch.Size([5]) 5\n",
      "-----mono test-----\n",
      "<class 'torch.Tensor'>\n",
      "torch.Size([5])\n",
      "-----pad test-----\n",
      "<class 'torch.Tensor'>\n",
      "torch.Size([15])\n",
      "tensor([0.1364, 2.1451, 3.6193, 6.7747, 5.5155, 0.0000, 0.0000, 0.0000, 0.0000,\n",
      "        0.0000, 0.0000, 0.0000, 0.0000, 0.0000, 0.0000], dtype=torch.float64)\n"
     ]
    }
   ],
   "source": [
    "# original audio load\n",
    "print(\"-----original audio load-----\")\n",
    "audio_origin, fs = audio_2, 10\n",
    "print(type(audio_origin))\n",
    "print(audio_origin.shape, fs)\n",
    "# resample test\n",
    "print(\"-----resample test-----\")\n",
    "\n",
    "audio_resample, fs_re = resampler(audio_origin, fs, 5)\n",
    "print(type(audio_resample))\n",
    "print(audio_resample.shape, fs_re)\n",
    "\n",
    "# to mono test\n",
    "print(\"-----mono test-----\")\n",
    "audio_mono = to_mono(audio_resample)\n",
    "print(type(audio_mono))\n",
    "print(audio_mono.shape)\n",
    "\n",
    "# pad test\n",
    "print(\"-----pad test-----\")\n",
    "audio_pad, _, _, _ = pad_audio(audio_mono, 15, fs_re)\n",
    "print(type(audio_pad))\n",
    "print(audio_pad.shape)\n",
    "print(audio_pad)"
   ]
  },
  {
   "cell_type": "code",
   "execution_count": null,
   "metadata": {},
   "outputs": [],
   "source": []
  },
  {
   "cell_type": "code",
   "execution_count": null,
   "metadata": {},
   "outputs": [],
   "source": []
  },
  {
   "cell_type": "markdown",
   "metadata": {},
   "source": [
    "### 동작 test 4. transformer 검증"
   ]
  },
  {
   "cell_type": "code",
   "execution_count": null,
   "metadata": {},
   "outputs": [],
   "source": [
    "from transformer import *"
   ]
  },
  {
   "cell_type": "code",
   "execution_count": null,
   "metadata": {},
   "outputs": [
    {
     "name": "stdout",
     "output_type": "stream",
     "text": [
      "29\n"
     ]
    }
   ],
   "source": [
    "training_data = mivia(conf['data']['audio_folder'], conf['data']['xml_folder'], encoder, partition = conf['data']['select_traindata'], transform = MelSpectrogram_transform(conf['feats']))\n",
    "print(len(training_data))"
   ]
  },
  {
   "cell_type": "code",
   "execution_count": null,
   "metadata": {},
   "outputs": [
    {
     "name": "stdout",
     "output_type": "stream",
     "text": [
      "z:\\nas1_data\\user\\hhj\\sound_event_detection\\data\\mivia_raw\\audio\\D\\00047.xml\n"
     ]
    }
   ],
   "source": [
    "training_data_iter = iter(training_data)\n",
    "audio, target = next(training_data_iter)"
   ]
  },
  {
   "cell_type": "code",
   "execution_count": null,
   "metadata": {},
   "outputs": [
    {
     "name": "stdout",
     "output_type": "stream",
     "text": [
      "torch.Size([40, 3751])\n",
      "Shape: (40, 3751)\n",
      "Dtype: torch.float32\n",
      " - Max:     291.912\n",
      " - Min:      0.001\n",
      " - Mean:     7.975\n",
      " - Std Dev: 16.898\n",
      "\n",
      "tensor([[2.1342e-03, 2.8545e-03, 4.0992e-03,  ..., 1.4015e+00, 1.3697e+00,\n",
      "         1.2630e+00],\n",
      "        [4.1498e-03, 4.3718e-03, 4.2053e-03,  ..., 3.7505e+00, 3.0626e+00,\n",
      "         2.3119e+00],\n",
      "        [4.0589e-03, 4.4085e-03, 4.3279e-03,  ..., 4.3601e+00, 4.3484e+00,\n",
      "         4.0556e+00],\n",
      "        ...,\n",
      "        [8.8946e-03, 9.3681e-03, 9.0700e-03,  ..., 9.6848e+00, 7.9640e+00,\n",
      "         7.1861e+00],\n",
      "        [4.5439e-03, 4.7596e-03, 4.5960e-03,  ..., 4.7682e+00, 3.8765e+00,\n",
      "         3.2815e+00],\n",
      "        [1.4586e-03, 1.3909e-03, 1.1392e-03,  ..., 8.3394e-01, 7.4458e-01,\n",
      "         6.9691e-01]])\n",
      "\n"
     ]
    },
    {
     "data": {
      "image/png": "[encoded data removed]",
      "text/plain": [
       "<Figure size 432x288 with 2 Axes>"
      ]
     },
     "metadata": {
      "needs_background": "light"
     },
     "output_type": "display_data"
    },
    {
     "data": {
      "image/png": "[encoded data removed]",
      "text/plain": [
       "<Figure size 432x288 with 1 Axes>"
      ]
     },
     "metadata": {
      "needs_background": "light"
     },
     "output_type": "display_data"
    }
   ],
   "source": [
    "print(audio.shape) # dir : z:\\nas1_data\\user\\hhj\\sound_event_detection\\data\\mivia_raw\\audio\\D\\00047.xml\n",
    "\n",
    "print_stats(audio)\n",
    "plot_spectrogram(audio, title='torchaudio')\n",
    "matplotlib_label_show(target, 'dataloader')"
   ]
  },
  {
   "cell_type": "code",
   "execution_count": null,
   "metadata": {},
   "outputs": [
    {
     "data": {
      "image/png": "[encoded data removed]",
      "text/plain": [
       "<Figure size 432x288 with 1 Axes>"
      ]
     },
     "metadata": {
      "needs_background": "light"
     },
     "output_type": "display_data"
    }
   ],
   "source": [
    "target_test = encoder.encoder_strong_label('z:\\\\nas1_data\\\\user\\\\hhj\\\\sound_event_detection\\\\data\\\\mivia_raw\\\\audio\\\\D\\\\00047.xml')\n",
    "matplotlib_label_show(target_test, 'data')"
   ]
  },
  {
   "cell_type": "code",
   "execution_count": null,
   "metadata": {},
   "outputs": [
    {
     "name": "stdout",
     "output_type": "stream",
     "text": [
      "z:\\nas1_data\\user\\hhj\\sound_event_detection\\data\\mivia_raw\\audio\\D\\00045.xml\n",
      "torch.Size([40, 3751])\n",
      "Shape: (40, 3751)\n",
      "Dtype: torch.float32\n",
      " - Max:     745.515\n",
      " - Min:      0.003\n",
      " - Mean:     9.037\n",
      " - Std Dev: 19.416\n",
      "\n",
      "tensor([[ 1.1929,  1.2983,  1.3901,  ..., 15.2198, 15.1362, 14.6149],\n",
      "        [ 0.1753,  0.2520,  0.3537,  ...,  9.5176,  9.0985,  8.9162],\n",
      "        [ 0.1122,  0.1732,  0.2438,  ..., 10.9584, 10.6551, 10.5180],\n",
      "        ...,\n",
      "        [ 0.2944,  0.2548,  0.1593,  ...,  1.4632,  1.4305,  1.3197],\n",
      "        [ 0.3459,  0.2993,  0.1870,  ...,  0.6269,  0.6225,  0.5797],\n",
      "        [ 0.3521,  0.3046,  0.1903,  ...,  0.1570,  0.1847,  0.1554]])\n",
      "\n"
     ]
    },
    {
     "data": {
      "image/png": "[encoded data removed]",
      "text/plain": [
       "<Figure size 432x288 with 2 Axes>"
      ]
     },
     "metadata": {
      "needs_background": "light"
     },
     "output_type": "display_data"
    },
    {
     "data": {
      "image/png": "[encoded data removed]",
      "text/plain": [
       "<Figure size 432x288 with 1 Axes>"
      ]
     },
     "metadata": {
      "needs_background": "light"
     },
     "output_type": "display_data"
    }
   ],
   "source": [
    "audio, target = next(training_data_iter)\n",
    "print(audio.shape) # dir : z:\\nas1_data\\user\\hhj\\sound_event_detection\\data\\mivia_raw\\audio\\D\\00045.xml\n",
    "\n",
    "print_stats(audio)\n",
    "plot_spectrogram(audio, title='torchaudio')\n",
    "matplotlib_label_show(target, 'dataloader')"
   ]
  },
  {
   "cell_type": "code",
   "execution_count": null,
   "metadata": {},
   "outputs": [
    {
     "data": {
      "image/png": "[encoded data removed]",
      "text/plain": [
       "<Figure size 432x288 with 1 Axes>"
      ]
     },
     "metadata": {
      "needs_background": "light"
     },
     "output_type": "display_data"
    }
   ],
   "source": [
    "target_test = encoder.encoder_strong_label('z:\\\\nas1_data\\\\user\\\\hhj\\\\sound_event_detection\\\\data\\\\mivia_raw\\\\audio\\\\D\\\\00045.xml')\n",
    "matplotlib_label_show(target_test, 'data')"
   ]
  },
  {
   "cell_type": "code",
   "execution_count": null,
   "metadata": {},
   "outputs": [],
   "source": []
  }
 ],
 "metadata": {
  "interpreter": {
   "hash": "a4ad0417facfa80d8f6e81d286e3c53318013c90ea417e991fd5d95e3de5f482"
  },
  "kernelspec": {
   "display_name": "Python 3.10.4 ('SED')",
   "language": "python",
   "name": "python3"
  },
  "language_info": {
   "codemirror_mode": {
    "name": "ipython",
    "version": 3
   },
   "file_extension": ".py",
   "mimetype": "text/x-python",
   "name": "python",
   "nbconvert_exporter": "python",
   "pygments_lexer": "ipython3",
   "version": "3.7.13"
  },
  "orig_nbformat": 4
 },
 "nbformat": 4,
 "nbformat_minor": 2
}
