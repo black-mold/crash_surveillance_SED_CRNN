{
 "cells": [
  {
   "cell_type": "markdown",
   "metadata": {},
   "source": [
    "### 참고\n",
    "* 링크 : https://tutorials.pytorch.kr/recipes/recipes/saving_and_loading_a_general_checkpoint.html#id9\n",
    "* 링크 : https://tutorials.pytorch.kr/beginner/saving_loading_models.html"
   ]
  },
  {
   "cell_type": "code",
   "execution_count": 2,
   "metadata": {},
   "outputs": [],
   "source": [
    "import torch\n",
    "import time\n",
    "import os\n",
    "\n",
    "from CRNN import CRNN\n",
    "\n",
    "def save(EPOCH, net, optimizer, TRAIN_LOSS, VAL_LOSS, PATH):\n",
    "\n",
    "    save_dir = os.path.join(PATH, time.strftime('%Y_%m_%d_%I_%M',time.localtime(time.time())))\n",
    "\n",
    "    print(save_dir)\n",
    "\n",
    "    if not os.path.exists(save_dir):\n",
    "        os.makedirs(save_dir)\n",
    "\n",
    "    save_path = \"{}/CRNN_epoch{}.pth\".format(save_dir, EPOCH) # 수정해야함.\n",
    "\n",
    "    print(save_path)\n",
    "\n",
    "    torch.save({\n",
    "            'epoch': EPOCH,\n",
    "            'model_state_dict': net.state_dict(),\n",
    "            'optimizer_state_dict': optimizer.state_dict(),\n",
    "            'train_loss': TRAIN_LOSS,\n",
    "            'val_loss' : VAL_LOSS\n",
    "            }, save_path)\n",
    "\n",
    "def load(PATH, model = None, optimizer = None, device = torch.device('cuda')):\n",
    "\n",
    "    if (model is None):\n",
    "        model = CRNN().to(device)\n",
    "    if (optimizer is None):\n",
    "        optimizer = torch.optim.Adam(model.parameters(), lr=0.001)\n",
    "\n",
    "    checkpoint = torch.load(PATH)\n",
    "\n",
    "\n",
    "    model.load_state_dict(checkpoint['model_state_dict'])\n",
    "    optimizer.load_state_dict(checkpoint['optimizer_state_dict'])\n",
    "    epoch = checkpoint['epoch']\n",
    "    loss = checkpoint['loss']\n",
    "\n",
    "    return model, optimizer, epoch, loss"
   ]
  },
  {
   "cell_type": "markdown",
   "metadata": {},
   "source": [
    "### model save test"
   ]
  },
  {
   "cell_type": "code",
   "execution_count": 3,
   "metadata": {},
   "outputs": [],
   "source": [
    "from torch import nn\n",
    "\n",
    "model = CRNN()\n",
    "loss_fn = nn.BCELoss()\n",
    "optimizer = torch.optim.Adam(model.parameters(), lr=1e-3)"
   ]
  },
  {
   "cell_type": "markdown",
   "metadata": {},
   "source": [
    "### model load test"
   ]
  },
  {
   "cell_type": "code",
   "execution_count": 1,
   "metadata": {},
   "outputs": [
    {
     "ename": "NameError",
     "evalue": "name 'torch' is not defined",
     "output_type": "error",
     "traceback": [
      "\u001b[1;31m---------------------------------------------------------------------------\u001b[0m",
      "\u001b[1;31mNameError\u001b[0m                                 Traceback (most recent call last)",
      "\u001b[1;32m~\\AppData\\Local\\Temp\\ipykernel_29128\\1084431603.py\u001b[0m in \u001b[0;36m<module>\u001b[1;34m\u001b[0m\n\u001b[1;32m----> 1\u001b[1;33m \u001b[0mcheckpoint\u001b[0m \u001b[1;33m=\u001b[0m \u001b[0mtorch\u001b[0m\u001b[1;33m.\u001b[0m\u001b[0mload\u001b[0m\u001b[1;33m(\u001b[0m\u001b[1;34m'../checkpoint/2022_07_25_09_26/CRNN_epoch10.pth'\u001b[0m\u001b[1;33m)\u001b[0m\u001b[1;33m\u001b[0m\u001b[1;33m\u001b[0m\u001b[0m\n\u001b[0m\u001b[0;32m      2\u001b[0m \u001b[1;33m\u001b[0m\u001b[0m\n\u001b[0;32m      3\u001b[0m \u001b[0mprint\u001b[0m\u001b[1;33m(\u001b[0m\u001b[0mcheckpoint\u001b[0m\u001b[1;33m[\u001b[0m\u001b[1;34m'epoch'\u001b[0m\u001b[1;33m]\u001b[0m\u001b[1;33m)\u001b[0m\u001b[1;33m\u001b[0m\u001b[1;33m\u001b[0m\u001b[0m\n\u001b[0;32m      4\u001b[0m \u001b[0mprint\u001b[0m\u001b[1;33m(\u001b[0m\u001b[0mcheckpoint\u001b[0m\u001b[1;33m[\u001b[0m\u001b[1;34m'loss'\u001b[0m\u001b[1;33m]\u001b[0m\u001b[1;33m)\u001b[0m\u001b[1;33m\u001b[0m\u001b[1;33m\u001b[0m\u001b[0m\n\u001b[0;32m      5\u001b[0m \u001b[1;33m\u001b[0m\u001b[0m\n",
      "\u001b[1;31mNameError\u001b[0m: name 'torch' is not defined"
     ]
    }
   ],
   "source": [
    "checkpoint = torch.load('../checkpoint/2022_07_25_09_26/CRNN_epoch10.pth')\n",
    "\n",
    "print(checkpoint['epoch'])\n",
    "print(checkpoint['loss'])\n",
    "\n",
    "net, optim, epoch, loss = load('../checkpoint/2022_07_25_09_26/CRNN_epoch10.pth', model, optimizer)\n",
    "\n",
    "# print(net)\n",
    "print(epoch)\n",
    "print(loss)"
   ]
  },
  {
   "cell_type": "markdown",
   "metadata": {},
   "source": [
    "### time\n",
    "* 참고 : https://www.daleseo.com/python-time/"
   ]
  },
  {
   "cell_type": "code",
   "execution_count": 22,
   "metadata": {},
   "outputs": [],
   "source": [
    "import time\n",
    "import yaml\n",
    "import argparse\n",
    "import os\n",
    "\n",
    "parser = argparse.ArgumentParser()\n",
    "\n",
    "parser.add_argument(\n",
    "    \"-d\", \"--data\", \n",
    "    default=\"MIVIA\", \n",
    "    action=\"store\",\n",
    "    help=\"The dataset using training\")\n",
    "\n",
    "parser.add_argument(\n",
    "    \"-c\", \"--conf_file\",\n",
    "    default=\"./config/default.yaml\", \n",
    "    help=\"The configuration file with all the experiment parameters.\",\n",
    "    )\n",
    "\n",
    "parser.add_argument(\n",
    "    \"--log_dir\",\n",
    "    default=\"./exp_log/\",\n",
    "    help=\"Directory where to save tensorboard logs\",\n",
    ")\n",
    "\n",
    "parser.add_argument(\n",
    "    \"--gpu\",\n",
    "    default=\"0\",\n",
    "    type = int,\n",
    "    help=\"The number of GPUs to train on, or the gpu to use, default='0', \"\n",
    "    \"so uses one GPU\",\n",
    ")\n",
    "\n",
    "parser.add_argument(\n",
    "    \"--test_from_checkpoint\", default=None, help=\"Test the model specified\"\n",
    ")\n",
    "\n",
    "# args = parser.parse_args()\n",
    "args = parser.parse_args([\"--data\", \"MIVIA\", \"--conf_file\", \"../config/default.yml\", \"--log_dir\", './runs/mivia_220722_t04'])\n"
   ]
  },
  {
   "cell_type": "code",
   "execution_count": 23,
   "metadata": {},
   "outputs": [],
   "source": [
    "with open(args.conf_file, \"r\") as f:\n",
    "    conf = yaml.safe_load(f)"
   ]
  },
  {
   "cell_type": "code",
   "execution_count": 82,
   "metadata": {},
   "outputs": [
    {
     "name": "stdout",
     "output_type": "stream",
     "text": [
      "./checkpoint\n",
      "2022_07_25_09_23\n"
     ]
    }
   ],
   "source": [
    "ckpt_path = conf['training']['ckpt_path']\n",
    "print(conf['training']['ckpt_path']) # model save path\n",
    "print(time.strftime('%Y_%m_%d_%I_%M',time.localtime(time.time())))"
   ]
  },
  {
   "cell_type": "code",
   "execution_count": 28,
   "metadata": {},
   "outputs": [
    {
     "data": {
      "text/plain": [
       "'./checkpoint\\\\Mon Jul 25 20:43:43 2022'"
      ]
     },
     "execution_count": 28,
     "metadata": {},
     "output_type": "execute_result"
    }
   ],
   "source": [
    "os.path.join(ckpt_path, time.strftime('%c',time.localtime(time.time())))"
   ]
  },
  {
   "cell_type": "code",
   "execution_count": 5,
   "metadata": {},
   "outputs": [
    {
     "data": {
      "text/plain": [
       "'../checkpoint/MIVIA_2022_07_26_01_35\\\\bestmodel.pth'"
      ]
     },
     "execution_count": 5,
     "metadata": {},
     "output_type": "execute_result"
    }
   ],
   "source": [
    "ckpt_dir = '../checkpoint/MIVIA_2022_07_26_01_35'\n",
    "os.path.join(ckpt_dir, 'bestmodel.pth')"
   ]
  },
  {
   "cell_type": "code",
   "execution_count": 6,
   "metadata": {},
   "outputs": [
    {
     "name": "stdout",
     "output_type": "stream",
     "text": [
      "30\n",
      "0.08111286262671152\n",
      "0.08683917511786733\n"
     ]
    }
   ],
   "source": [
    "check = torch.load(os.path.join(ckpt_dir, 'bestmodel.pth'))\n",
    "print(check['epoch'])\n",
    "print(check['train_loss'])\n",
    "print(check['val_loss'])"
   ]
  },
  {
   "cell_type": "code",
   "execution_count": null,
   "metadata": {},
   "outputs": [],
   "source": []
  }
 ],
 "metadata": {
  "kernelspec": {
   "display_name": "Python 3.7.13 ('SED')",
   "language": "python",
   "name": "python3"
  },
  "language_info": {
   "codemirror_mode": {
    "name": "ipython",
    "version": 3
   },
   "file_extension": ".py",
   "mimetype": "text/x-python",
   "name": "python",
   "nbconvert_exporter": "python",
   "pygments_lexer": "ipython3",
   "version": "3.7.13"
  },
  "orig_nbformat": 4,
  "vscode": {
   "interpreter": {
    "hash": "a4ad0417facfa80d8f6e81d286e3c53318013c90ea417e991fd5d95e3de5f482"
   }
  }
 },
 "nbformat": 4,
 "nbformat_minor": 2
}
